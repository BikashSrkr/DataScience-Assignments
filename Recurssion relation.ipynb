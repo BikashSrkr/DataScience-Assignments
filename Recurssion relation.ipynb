{
 "cells": [
  {
   "cell_type": "markdown",
   "id": "4bda4b13-6a22-4f2b-ae08-1a7953a990f2",
   "metadata": {},
   "source": [
    "Find the value of T(2) for the recurrence relation T(n) = 3T(n-1) + 12n, given that T(0)=5."
   ]
  },
  {
   "cell_type": "markdown",
   "id": "cada17d8-d01f-429f-92d1-8968335e6412",
   "metadata": {},
   "source": [
    "ans: T(2)=3T(1)+12(2)=3(27)+12(2)=81+24=105"
   ]
  },
  {
   "cell_type": "markdown",
   "id": "9296588a-8edf-4a53-a581-a1cb86be8021",
   "metadata": {},
   "source": [
    "3. Given a recurrence relation, solve it using the recursive tree approach:\n",
    "a. T(n) = 2T(n-1) +1\n",
    "b. T(n) = 2T(n/2) + n"
   ]
  },
  {
   "cell_type": "code",
   "execution_count": null,
   "id": "7da12e24-4fc7-46f7-b77c-fa25e4913135",
   "metadata": {},
   "outputs": [],
   "source": []
  }
 ],
 "metadata": {
  "kernelspec": {
   "display_name": "Python 3 (ipykernel)",
   "language": "python",
   "name": "python3"
  },
  "language_info": {
   "codemirror_mode": {
    "name": "ipython",
    "version": 3
   },
   "file_extension": ".py",
   "mimetype": "text/x-python",
   "name": "python",
   "nbconvert_exporter": "python",
   "pygments_lexer": "ipython3",
   "version": "3.10.8"
  }
 },
 "nbformat": 4,
 "nbformat_minor": 5
}
