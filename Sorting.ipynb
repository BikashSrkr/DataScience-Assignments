{
 "cells": [
  {
   "cell_type": "markdown",
   "id": "ff8c5628-b3ae-4c8f-8f2c-0647b3bf1be9",
   "metadata": {},
   "source": [
    "1.Given an array of n numbers, give an algorithm which gives the element appearing maximum\n",
    "number of times?"
   ]
  },
  {
   "cell_type": "code",
   "execution_count": 1,
   "id": "d5b8d079-c153-4574-8dc9-898602c7ce20",
   "metadata": {},
   "outputs": [
    {
     "name": "stdout",
     "output_type": "stream",
     "text": [
      "Most frequent element: 2\n"
     ]
    }
   ],
   "source": [
    "def find_most_frequent_element(arr):\n",
    "    frequency_dict = {}\n",
    "\n",
    "    # Count the frequency of each element\n",
    "    for num in arr:\n",
    "        if num in frequency_dict:\n",
    "            frequency_dict[num] += 1\n",
    "        else:\n",
    "            frequency_dict[num] = 1\n",
    "\n",
    "    # Find the element with maximum frequency\n",
    "    max_frequency = 0\n",
    "    most_frequent_element = None\n",
    "    for num, frequency in frequency_dict.items():\n",
    "        if frequency > max_frequency:\n",
    "            max_frequency = frequency\n",
    "            most_frequent_element = num\n",
    "\n",
    "    return most_frequent_element\n",
    "\n",
    "# Example usage:\n",
    "arr = [1, 2, 3, 4, 2, 2, 3, 5, 6, 2, 7, 2, 8, 2]\n",
    "result = find_most_frequent_element(arr)\n",
    "print(\"Most frequent element:\", result)"
   ]
  },
  {
   "cell_type": "markdown",
   "id": "d8f29676-3147-41b3-8ea3-091d00f1ebc6",
   "metadata": {},
   "source": [
    "Problem 2 : We are given a list of n-1 integers and these integers are in the range of 1 to n . There are no\n",
    "duplicates in the list. One of the integers is missing in the list. Give an algorithm to find that element Ex:\n",
    "[1,2,4,6,3,7,8] 5 is the missing num."
   ]
  },
  {
   "cell_type": "code",
   "execution_count": 1,
   "id": "a23b86de-e7de-4dd5-962b-7db6bbd9c56d",
   "metadata": {},
   "outputs": [
    {
     "name": "stdout",
     "output_type": "stream",
     "text": [
      "Missing element: 5\n"
     ]
    }
   ],
   "source": [
    "def find_missing_element(nums):\n",
    "    n = len(nums) + 1  # Expected number of elements in the range 1 to n\n",
    "    expected_sum = n * (n + 1) // 2  # Sum of elements in the range 1 to n\n",
    "\n",
    "    actual_sum = sum(nums)  \n",
    "    missing_element = expected_sum - actual_sum\n",
    "\n",
    "    return missing_element\n",
    "\n",
    "# Example usage:\n",
    "nums = [1, 2, 4, 6, 3, 7, 8]\n",
    "result = find_missing_element(nums)\n",
    "print(\"Missing element:\", result)"
   ]
  },
  {
   "cell_type": "markdown",
   "id": "06adfa32-49b5-4e6a-8af8-da4bdc0f1389",
   "metadata": {},
   "source": [
    "Given an array of n elements. Find two elements in the array such that their sum is equal to given\n",
    "element K."
   ]
  },
  {
   "cell_type": "code",
   "execution_count": 2,
   "id": "473ffb13-fc67-46a3-bfd9-93d8165a077d",
   "metadata": {},
   "outputs": [
    {
     "name": "stdout",
     "output_type": "stream",
     "text": [
      "Pair with sum 9: (5, 4)\n"
     ]
    }
   ],
   "source": [
    "def find_pair_with_sum(arr, K):\n",
    "    seen_numbers = set()\n",
    "\n",
    "    for num in arr:\n",
    "        complement = K - num\n",
    "        seen_numbers.add(num)\n",
    "        if complement in seen_numbers:\n",
    "            return num, complement\n",
    "        \n",
    "\n",
    "    return None  # No such pair found\n",
    "\n",
    "# Example usage:\n",
    "arr = [1, 2, 3, 4, 5, 6]\n",
    "K = 9\n",
    "result = find_pair_with_sum(arr, K)\n",
    "\n",
    "if result:\n",
    "    print(f\"Pair with sum {K}: {result}\")\n",
    "else:\n",
    "    print(f\"No pair found with sum {K}\")"
   ]
  },
  {
   "cell_type": "markdown",
   "id": "8831e05f-31a1-4fb2-b7cc-9753c92972ec",
   "metadata": {},
   "source": [
    "Given an array of n elements . Find three elements such that their sum is equal to the given\n",
    "number."
   ]
  },
  {
   "cell_type": "code",
   "execution_count": 1,
   "id": "6c23daa8-1128-43ba-adac-3badea353048",
   "metadata": {},
   "outputs": [
    {
     "name": "stdout",
     "output_type": "stream",
     "text": [
      "The triplet with the sum 22 is: (4, 8, 10)\n"
     ]
    }
   ],
   "source": [
    "def find_three_elements_with_sum(arr, target_sum):\n",
    "    arr.sort()\n",
    "\n",
    "    for i in range(len(arr) - 2):\n",
    "        left, right = i + 1, len(arr) - 1\n",
    "        while left < right:\n",
    "            current_sum = arr[i] + arr[left] + arr[right]\n",
    "            if current_sum == target_sum:\n",
    "                return arr[i], arr[left], arr[right]\n",
    "            elif current_sum < target_sum:\n",
    "                left += 1\n",
    "            else:\n",
    "                right -= 1\n",
    "\n",
    "    return None  # No such triplet found\n",
    "\n",
    "# Example usage:\n",
    "arr = [1, 4, 45, 6, 10, 8]\n",
    "target_sum = 22\n",
    "result = find_three_elements_with_sum(arr, target_sum)\n",
    "\n",
    "if result:\n",
    "    print(f\"The triplet with the sum {target_sum} is: {result}\")\n",
    "else:\n",
    "    print(f\"No triplet found with the sum {target_sum}\")"
   ]
  },
  {
   "cell_type": "markdown",
   "id": "eea966af-59c3-401d-a250-5302ce737c1a",
   "metadata": {},
   "source": [
    "Given an array of n elements . Find three elements i, j, k in the array such that\n",
    "i * i + j * j = k*k."
   ]
  },
  {
   "cell_type": "code",
   "execution_count": 2,
   "id": "83883b31-6ade-4074-88b2-dd8802a15585",
   "metadata": {},
   "outputs": [
    {
     "name": "stdout",
     "output_type": "stream",
     "text": [
      "The Pythagorean triplet is: (3, 4, 5)\n"
     ]
    }
   ],
   "source": [
    "def find_pythagorean_triplet(arr):\n",
    "    square_set = set([x*x for x in arr])\n",
    "\n",
    "    for i in range(len(arr) - 1):\n",
    "        for j in range(i + 1, len(arr)):\n",
    "            sum_of_squares = arr[i]**2 + arr[j]**2\n",
    "            if sum_of_squares in square_set:\n",
    "                k = int(sum_of_squares**0.5)\n",
    "                return arr[i], arr[j], k\n",
    "\n",
    "    return None  # No such triplet found\n",
    "\n",
    "# Example usage:\n",
    "arr = [3, 1, 4, 6, 5]\n",
    "result = find_pythagorean_triplet(arr)\n",
    "\n",
    "if result:\n",
    "    print(f\"The Pythagorean triplet is: {result}\")\n",
    "else:\n",
    "    print(\"No Pythagorean triplet found\")"
   ]
  },
  {
   "cell_type": "markdown",
   "id": "c7b9d1e8-5821-4634-a732-cf7c1aa5ec03",
   "metadata": {},
   "source": [
    "An element is a majority if it appears more than n/2 times. Give an algorithm takes an array of n\n",
    "element as argument and identifies a majority (if it exists)."
   ]
  },
  {
   "cell_type": "code",
   "execution_count": 3,
   "id": "07cf7a58-3937-432f-beec-57280d9b0e9e",
   "metadata": {},
   "outputs": [
    {
     "name": "stdout",
     "output_type": "stream",
     "text": [
      "The majority element is: 2\n"
     ]
    }
   ],
   "source": [
    "def find_majority_element(arr):\n",
    "    candidate = None\n",
    "    count = 0\n",
    "\n",
    "    # Phase 1: Find a potential majority candidate\n",
    "    for num in arr:\n",
    "        if count == 0:\n",
    "            candidate = num\n",
    "            count = 1\n",
    "        elif candidate == num:\n",
    "            count += 1\n",
    "        else:\n",
    "            count -= 1\n",
    "\n",
    "    # Phase 2: Verify if the candidate is a majority element\n",
    "    count = 0\n",
    "    for num in arr:\n",
    "        if num == candidate:\n",
    "            count += 1\n",
    "\n",
    "    if count > len(arr) // 2:\n",
    "        return candidate\n",
    "    else:\n",
    "        return None  # No majority element found\n",
    "\n",
    "# Example usage:\n",
    "arr = [2, 2, 3, 5, 2, 2, 6]\n",
    "result = find_majority_element(arr)\n",
    "\n",
    "if result is not None:\n",
    "    print(f\"The majority element is: {result}\")\n",
    "else:\n",
    "    print(\"No majority element found\")"
   ]
  },
  {
   "cell_type": "code",
   "execution_count": null,
   "id": "95dc33bb-f202-4d45-aa78-93beb6e182b8",
   "metadata": {},
   "outputs": [],
   "source": []
  },
  {
   "cell_type": "code",
   "execution_count": null,
   "id": "5adbcffd-25d6-4f5f-8d9b-6c9a8d4873f2",
   "metadata": {},
   "outputs": [],
   "source": [
    "def find_row_with_max_zeros(matrix):\n",
    "    max_zeros_row = -1\n",
    "    max_zeros_count = -1\n",
    "\n",
    "    for i in range(len(matrix)):\n",
    "        zeros_count = matrix[i].count(0)\n",
    "\n",
    "        if zeros_count > max_zeros_count:\n",
    "            max_zeros_count = zeros_count\n",
    "            max_zeros_row = i\n",
    "\n",
    "    return max_zeros_row\n",
    "\n",
    "# Example usage:\n",
    "matrix = [\n",
    "    [1, 1, 1, 0, 0],\n",
    "    [1, 1, 0, 0, 0],\n",
    "    [1, 1, 1, 1, 0],\n",
    "    [1, 0, 0, 0, 0],\n",
    "    [1, 1, 1, 1, 1]\n",
    "]\n",
    "\n",
    "result = find_row_with_max_zeros(matrix)\n",
    "\n",
    "if result != -1:\n",
    "    print(f\"The row with the maximum number of 0's is row {result}\")\n",
    "else:\n",
    "    print(\"No such row found\")"
   ]
  }
 ],
 "metadata": {
  "kernelspec": {
   "display_name": "Python 3 (ipykernel)",
   "language": "python",
   "name": "python3"
  },
  "language_info": {
   "codemirror_mode": {
    "name": "ipython",
    "version": 3
   },
   "file_extension": ".py",
   "mimetype": "text/x-python",
   "name": "python",
   "nbconvert_exporter": "python",
   "pygments_lexer": "ipython3",
   "version": "3.10.8"
  }
 },
 "nbformat": 4,
 "nbformat_minor": 5
}
