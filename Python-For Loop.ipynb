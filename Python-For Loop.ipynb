{
 "cells": [
  {
   "cell_type": "markdown",
   "id": "df4fb36e-9d5d-4e04-af3e-997db3d6f880",
   "metadata": {},
   "source": [
    "1. Write a Python program to print the numbers from 1 to 10 using a `for` loop."
   ]
  },
  {
   "cell_type": "code",
   "execution_count": 8,
   "id": "21bfa72c-71e9-4bbb-b974-9c2cf519af73",
   "metadata": {},
   "outputs": [
    {
     "name": "stdout",
     "output_type": "stream",
     "text": [
      "1 2 3 4 5 6 7 8 9 "
     ]
    }
   ],
   "source": [
    "for i in range(1,10):\n",
    "    print(i,end= ' ')"
   ]
  },
  {
   "cell_type": "markdown",
   "id": "3c856dce-0321-4799-b738-2ed7c584a1c0",
   "metadata": {},
   "source": [
    "Create a program that calculates the sum of all numbers in a list using a `for` loop."
   ]
  },
  {
   "cell_type": "code",
   "execution_count": 22,
   "id": "98a97cb2-cf9b-414e-b52b-182c998833fb",
   "metadata": {},
   "outputs": [
    {
     "name": "stdin",
     "output_type": "stream",
     "text": [
      "enter numbers: 4\n",
      " 1\n",
      " 2\n",
      " 3\n",
      " 4\n"
     ]
    },
    {
     "name": "stdout",
     "output_type": "stream",
     "text": [
      "10\n"
     ]
    }
   ],
   "source": [
    "lst = []\n",
    "p=0\n",
    "n= int(input(\"enter number:\"))\n",
    "for i in range(0,n):\n",
    "    e= int(input())\n",
    "    lst.append(e)\n",
    "    \n",
    "for j in range(0,len(lst)):\n",
    "    p=p+lst[j]\n",
    "print(p)"
   ]
  },
  {
   "cell_type": "markdown",
   "id": "4106149d-51f6-4f0a-b572-aa1b70d62d78",
   "metadata": {},
   "source": [
    "3. Write a program to print the characters of a string in reverse order using a `for` loop."
   ]
  },
  {
   "cell_type": "code",
   "execution_count": 23,
   "id": "99cb951b-2f6f-496c-87fc-77869f6a8f33",
   "metadata": {},
   "outputs": [
    {
     "name": "stdin",
     "output_type": "stream",
     "text": [
      "enter a string: pw skills\n"
     ]
    }
   ],
   "source": [
    "a=input(\"enter a string:\")"
   ]
  },
  {
   "cell_type": "code",
   "execution_count": 30,
   "id": "55e36d8f-1b12-4ecd-ac72-c76f4d757a24",
   "metadata": {},
   "outputs": [
    {
     "name": "stdout",
     "output_type": "stream",
     "text": [
      "slliks wp"
     ]
    }
   ],
   "source": [
    "for i in a[::-1]:\n",
    "    print(i,end = '')"
   ]
  },
  {
   "cell_type": "markdown",
   "id": "e12f1b9f-222f-4827-adf8-fc1f9fcc7193",
   "metadata": {},
   "source": [
    "4. Develop a program that finds the factorial of a given number using a `for` loop."
   ]
  },
  {
   "cell_type": "code",
   "execution_count": 37,
   "id": "0115df98-cded-4a1b-bf1c-332855b0a04b",
   "metadata": {},
   "outputs": [
    {
     "name": "stdin",
     "output_type": "stream",
     "text": [
      "enter the number: 4\n"
     ]
    },
    {
     "name": "stdout",
     "output_type": "stream",
     "text": [
      "24\n"
     ]
    }
   ],
   "source": [
    "a=int(input(\"enter the number:\"))\n",
    "j=1\n",
    "for i in range(0,a):\n",
    "    k=i+1\n",
    "    j=j*k\n",
    "print(j)"
   ]
  },
  {
   "cell_type": "markdown",
   "id": "0625a5e4-191d-4ea6-a932-ea55bf32b3b2",
   "metadata": {},
   "source": [
    "5. Create a program to print the multiplication table of a given number using a `for` loop."
   ]
  },
  {
   "cell_type": "code",
   "execution_count": 39,
   "id": "53e935ee-86b5-4d3d-83ff-8f63716dca04",
   "metadata": {},
   "outputs": [
    {
     "name": "stdin",
     "output_type": "stream",
     "text": [
      "enter the number: 4\n"
     ]
    },
    {
     "name": "stdout",
     "output_type": "stream",
     "text": [
      "4 8 12 16 20 24 28 32 36 40 "
     ]
    }
   ],
   "source": [
    "a=int(input(\"enter the number:\"))\n",
    "for i in range(10):\n",
    "    k=i+1\n",
    "    b=a*k\n",
    "    print(b,end = ' ')"
   ]
  },
  {
   "cell_type": "markdown",
   "id": "c7a2d482-f46f-49c3-9bab-3cebaf8124a0",
   "metadata": {},
   "source": [
    "6. Write a program that counts the number of even and odd numbers in a list using a `for` loop."
   ]
  },
  {
   "cell_type": "code",
   "execution_count": 42,
   "id": "5eeccadc-bc53-4fda-83d9-1906e85a9bf5",
   "metadata": {},
   "outputs": [
    {
     "name": "stdin",
     "output_type": "stream",
     "text": [
      "enter the number: 5\n",
      " 1\n",
      " 2\n",
      " 3\n",
      " 4\n",
      " 5\n"
     ]
    },
    {
     "name": "stdout",
     "output_type": "stream",
     "text": [
      "no of even number: 2\n",
      "no of odd number: 3\n"
     ]
    }
   ],
   "source": [
    "lst = []\n",
    "k=0\n",
    "p=0\n",
    "n=int(input(\"enter the number:\"))\n",
    "for i in range(0,n):\n",
    "    e=int(input())\n",
    "    lst.append(e)\n",
    "\n",
    "for i in range(0,len(lst)):\n",
    "    if lst[i] % 2 == 0:\n",
    "        k+=1\n",
    "    else:\n",
    "        p+=1\n",
    "print(\"no of even number:\",k)\n",
    "print(\"no of odd number:\",p)"
   ]
  },
  {
   "cell_type": "markdown",
   "id": "093a4cd4-ae01-49f2-a5ee-970bf9404b37",
   "metadata": {},
   "source": [
    "7. Develop a program that prints the squares of numbers from 1 to 5 using a `for` loop."
   ]
  },
  {
   "cell_type": "code",
   "execution_count": 1,
   "id": "ea2f237e-0435-426b-b4db-041ec2920b5d",
   "metadata": {},
   "outputs": [
    {
     "name": "stdout",
     "output_type": "stream",
     "text": [
      "1 4 9 16 "
     ]
    }
   ],
   "source": [
    "for i in range(1,5):\n",
    "    i=i**2\n",
    "    print(i,end=' ')"
   ]
  },
  {
   "cell_type": "markdown",
   "id": "5c4b4ff6-dea3-4004-aa43-af42cf542181",
   "metadata": {},
   "source": [
    "8. Create a program to find the length of a string without using the `len()` function."
   ]
  },
  {
   "cell_type": "code",
   "execution_count": 11,
   "id": "95b60752-d774-48e6-9494-82c65a7cf169",
   "metadata": {},
   "outputs": [
    {
     "name": "stdin",
     "output_type": "stream",
     "text": [
      "enter the string: pw skills\n"
     ]
    },
    {
     "name": "stdout",
     "output_type": "stream",
     "text": [
      "9\n"
     ]
    }
   ],
   "source": [
    "a=input(\"enter the string:\")\n",
    "k=0\n",
    "for i in a:\n",
    "    k=k+1\n",
    "print(k)"
   ]
  },
  {
   "cell_type": "markdown",
   "id": "ecf709bf-aa71-434d-8b78-668e1f408b0d",
   "metadata": {},
   "source": [
    "9. Write a program that calculates the average of a list of numbers using a `for` loop."
   ]
  },
  {
   "cell_type": "code",
   "execution_count": 14,
   "id": "2529d873-3063-4aa2-8e1d-3f42b0943456",
   "metadata": {},
   "outputs": [
    {
     "name": "stdin",
     "output_type": "stream",
     "text": [
      "enter the count of numbers: 4\n",
      " 2\n",
      " 3\n",
      " 4\n",
      " 5\n"
     ]
    },
    {
     "name": "stdout",
     "output_type": "stream",
     "text": [
      "7\n"
     ]
    }
   ],
   "source": [
    "lst = []\n",
    "n=int(input(\"enter the count of numbers:\"))\n",
    "for i in range(n):\n",
    "    e=int(input())\n",
    "    lst.append(e)\n",
    "\n",
    "k=0\n",
    "m=0\n",
    "for i in lst[::1]:\n",
    "    k=k+i\n",
    "m=k//2\n",
    "print(m)"
   ]
  },
  {
   "cell_type": "markdown",
   "id": "8299e0d3-572d-423f-b9ad-add579d70b28",
   "metadata": {},
   "source": [
    "10. Develop a program that prints the first `n` Fibonacci numbers using a `for` loop."
   ]
  },
  {
   "cell_type": "code",
   "execution_count": 1,
   "id": "2165e50e-f11f-4b39-a12c-2a96a5c37985",
   "metadata": {},
   "outputs": [
    {
     "name": "stdin",
     "output_type": "stream",
     "text": [
      "enter the number: 5\n"
     ]
    },
    {
     "name": "stdout",
     "output_type": "stream",
     "text": [
      "0\n",
      "1\n",
      "1\n",
      "2\n",
      "3\n"
     ]
    }
   ],
   "source": [
    "n=int(input(\"enter the number:\"))\n",
    "num1=0\n",
    "num2=1\n",
    "print(num1)\n",
    "print(num2)\n",
    "for i in range(1,n-1):\n",
    "    num3=num1+num2\n",
    "    print(num3)\n",
    "    num1=num2\n",
    "    num2=num3"
   ]
  },
  {
   "cell_type": "markdown",
   "id": "1080f69a-0b16-4159-aa51-e50d8f8a00bb",
   "metadata": {},
   "source": [
    "11. Write a program to check if a given list contains any duplicates using a `for` loop."
   ]
  },
  {
   "cell_type": "code",
   "execution_count": 1,
   "id": "57ebf4ea-00a4-46ad-9170-28ff23225792",
   "metadata": {},
   "outputs": [
    {
     "name": "stdin",
     "output_type": "stream",
     "text": [
      "enter the count of numbers: 5\n",
      " 1\n",
      " 2\n",
      " 1\n",
      " 3\n",
      " 4\n"
     ]
    },
    {
     "name": "stdout",
     "output_type": "stream",
     "text": [
      "1\n"
     ]
    }
   ],
   "source": [
    "lst = []\n",
    "n=int(input(\"enter the count of numbers:\"))\n",
    "for i in range(n):\n",
    "    e=int(input())\n",
    "    lst.append(e)\n",
    "\n",
    "n=0\n",
    "for i in lst[1::1]:\n",
    "    for j in range(0,i):\n",
    "        if lst[j]==lst[i]:\n",
    "           print(lst[i])"
   ]
  },
  {
   "cell_type": "markdown",
   "id": "996cc77d-e135-41ca-aa67-acfd7f8e0a76",
   "metadata": {},
   "source": [
    "12. Create a program that prints the prime numbers in a given range using a `for` loop."
   ]
  },
  {
   "cell_type": "code",
   "execution_count": 24,
   "id": "bfbd63d9-ace0-4401-b101-d58312e867e0",
   "metadata": {},
   "outputs": [
    {
     "name": "stdin",
     "output_type": "stream",
     "text": [
      "enter the count of numbers: 5\n"
     ]
    },
    {
     "name": "stdout",
     "output_type": "stream",
     "text": [
      "[2, 3, 5]\n"
     ]
    }
   ],
   "source": [
    "n=int(input(\"enter the count of numbers:\"))\n",
    "prime =[]\n",
    "for i in range(2, n + 1):\n",
    "    c = 0\n",
    "\n",
    "    if i < 2:\n",
    "        continue\n",
    "    if i == 2:\n",
    "        prime.append(2)\n",
    "        continue\n",
    "\n",
    "    for x in range(2, i):\n",
    "        if i % x == 0:\n",
    "            c = 1\n",
    "            break\n",
    "\n",
    "    if c == 0:\n",
    "        prime.append(i)\n",
    "        \n",
    "print(prime)"
   ]
  },
  {
   "cell_type": "markdown",
   "id": "360b6e4e-79fa-4431-9a4d-324a3d161908",
   "metadata": {},
   "source": [
    "12. Create a program that prints the prime numbers in a given range using a `for` loop."
   ]
  },
  {
   "cell_type": "code",
   "execution_count": 1,
   "id": "c993ae26-093a-4cf8-a07a-6b07c6e44661",
   "metadata": {},
   "outputs": [
    {
     "name": "stdin",
     "output_type": "stream",
     "text": [
      "enter the highest number: 30\n",
      "enter the lowest number: 10\n"
     ]
    },
    {
     "name": "stdout",
     "output_type": "stream",
     "text": [
      "[11, 13, 17, 19, 23, 29]\n"
     ]
    }
   ],
   "source": [
    "n=int(input(\"enter the highest number:\"))\n",
    "m=int(input(\"enter the lowest number:\"))\n",
    "prime =[]\n",
    "for i in range(m, n + 1):\n",
    "    c = 0\n",
    "\n",
    "    if i < 2:\n",
    "        continue\n",
    "    if i == 2:\n",
    "        prime.append(2)\n",
    "        continue\n",
    "\n",
    "    for x in range(2, i):\n",
    "        if i % x == 0:\n",
    "            c = 1\n",
    "            break\n",
    "\n",
    "    if c == 0:\n",
    "        prime.append(i)\n",
    "        \n",
    "print(prime)"
   ]
  },
  {
   "cell_type": "markdown",
   "id": "ae45c0ee-da23-4165-a5c6-26115ea885da",
   "metadata": {},
   "source": [
    "13. Develop a program that counts the number of vowels in a string using a `for` loop."
   ]
  },
  {
   "cell_type": "code",
   "execution_count": 12,
   "id": "341e2127-e47e-4e7b-bcf6-1eb145308e3c",
   "metadata": {},
   "outputs": [
    {
     "name": "stdin",
     "output_type": "stream",
     "text": [
      "enter the string: The Pwskills\n"
     ]
    },
    {
     "name": "stdout",
     "output_type": "stream",
     "text": [
      "2\n"
     ]
    }
   ],
   "source": [
    "str=input(\"enter the string:\")\n",
    "str=str.lower()\n",
    "c=0\n",
    "for i in str[::1]:\n",
    "    if i == 'a' or i == 'e' or i == 'i' or i == 'o' or i == 'u':\n",
    "        c = c+1\n",
    "print(c)   "
   ]
  },
  {
   "cell_type": "markdown",
   "id": "61afacee-64f2-4436-a9bb-18477b2cb33d",
   "metadata": {},
   "source": [
    "14. Write a program to find the maximum element in a 2D list using a nested `for` loop."
   ]
  },
  {
   "cell_type": "code",
   "execution_count": 11,
   "id": "cd0be69b-2205-41a3-8199-6a6bbcbbc2cf",
   "metadata": {},
   "outputs": [
    {
     "name": "stdout",
     "output_type": "stream",
     "text": [
      "[156]\n"
     ]
    }
   ],
   "source": [
    "a= [2,156,91,17,3,6,7]\n",
    "lst=[] \n",
    "for p in a:\n",
    "    a.sort()\n",
    "lst.append(a[-1])\n",
    "print(lst)"
   ]
  },
  {
   "cell_type": "markdown",
   "id": "6ebd5364-cd39-472f-bdbd-9fab54c7f50c",
   "metadata": {},
   "source": [
    "15. Create a program that removes all occurrences of a specific element from a list using a `for` loop."
   ]
  },
  {
   "cell_type": "code",
   "execution_count": 5,
   "id": "6b95c9c6-4da6-4aeb-915b-7d267399bf0d",
   "metadata": {},
   "outputs": [
    {
     "name": "stdin",
     "output_type": "stream",
     "text": [
      "enter the string: pw skills\n",
      "enter the element: l\n"
     ]
    },
    {
     "name": "stdout",
     "output_type": "stream",
     "text": [
      "pw skis"
     ]
    }
   ],
   "source": [
    "n=input(\"enter the string:\")\n",
    "p=input(\"enter the element:\")\n",
    "for i in n:\n",
    "    if i == p:\n",
    "        continue\n",
    "    print(i,end='')\n",
    "        \n",
    "        "
   ]
  },
  {
   "cell_type": "markdown",
   "id": "526c1c0d-2b37-4f70-aef5-3025d7fd83f7",
   "metadata": {},
   "source": [
    "16. Develop a program that generates a multiplication table for numbers from 1 to 5 using a nested `for` loop."
   ]
  },
  {
   "cell_type": "code",
   "execution_count": 11,
   "id": "196bf5d1-37dd-4c5f-9524-f09e2070bfab",
   "metadata": {},
   "outputs": [
    {
     "name": "stdout",
     "output_type": "stream",
     "text": [
      "1 2 3 4 5 6 7 8 9 10 \n",
      "2 4 6 8 10 12 14 16 18 20 \n",
      "3 6 9 12 15 18 21 24 27 30 \n",
      "4 8 12 16 20 24 28 32 36 40 \n",
      "5 10 15 20 25 30 35 40 45 50 \n"
     ]
    }
   ],
   "source": [
    "for i in range(1,6):\n",
    "    for j in range(1,11):\n",
    "        k=i*j\n",
    "        print(k,end=' ')\n",
    "    print()"
   ]
  },
  {
   "cell_type": "markdown",
   "id": "3e10a4e8-df2f-4b05-96bb-eff62d959b84",
   "metadata": {},
   "source": [
    "17. Write a program that converts a list of Fahrenheit temperatures to Celsius using a `for` loop."
   ]
  },
  {
   "cell_type": "code",
   "execution_count": 14,
   "id": "4997f652-cdab-4a99-bfde-a45fdc1ab2ce",
   "metadata": {},
   "outputs": [
    {
     "name": "stdout",
     "output_type": "stream",
     "text": [
      "[-20.88888888888889, -28.11111111111111, 18.555555555555557, 21.888888888888893, -7.0]\n"
     ]
    }
   ],
   "source": [
    "lst=[20,7,91,97,45]\n",
    "lst1=[]\n",
    "for i in lst[::1]:\n",
    "    k=((5/9)*i-32)\n",
    "    lst1.append(k)\n",
    "print(lst1)"
   ]
  },
  {
   "cell_type": "markdown",
   "id": "6e972c77-6691-4c32-bbba-194d43cc3693",
   "metadata": {},
   "source": [
    "18. Create a program to print the common elements from two lists using a `for` loop."
   ]
  },
  {
   "cell_type": "code",
   "execution_count": 17,
   "id": "d85f5649-5d13-469c-ab38-f043e56d78ce",
   "metadata": {},
   "outputs": [
    {
     "name": "stdout",
     "output_type": "stream",
     "text": [
      "[9, 5]\n"
     ]
    }
   ],
   "source": [
    "lst = [9,7,6,8,3,5,3,2]\n",
    "lst1 = [56,78,9,5,34,65]\n",
    "lst2=[]\n",
    "for i in lst:\n",
    "    for j in lst1:\n",
    "        if i == j:\n",
    "            lst2.append(i)\n",
    "            break\n",
    "print(lst2)"
   ]
  },
  {
   "cell_type": "markdown",
   "id": "802a2555-d584-4251-99ec-ab4366366b38",
   "metadata": {},
   "source": [
    "19. Develop a program that prints the pattern of right-angled triangles using a `for` loop. Use ‘*’ to draw the\n",
    "pattern"
   ]
  },
  {
   "cell_type": "code",
   "execution_count": 18,
   "id": "506ce9f7-1b39-4ca3-bc74-35b17253982c",
   "metadata": {},
   "outputs": [
    {
     "name": "stdout",
     "output_type": "stream",
     "text": [
      "*\n",
      "**\n",
      "***\n",
      "****\n",
      "*****\n"
     ]
    }
   ],
   "source": [
    "for i in range(5):\n",
    "    for j in range(i+1):\n",
    "        print('*',end='')\n",
    "    print()"
   ]
  },
  {
   "cell_type": "markdown",
   "id": "7efec9a5-38e1-4817-b532-782f34fc2790",
   "metadata": {},
   "source": [
    "20. Write a program to find the greatest common divisor (GCD) of two numbers using a `for` loop."
   ]
  },
  {
   "cell_type": "code",
   "execution_count": 1,
   "id": "a57ec3ba-e64b-4ec6-a6cf-795cc7311f27",
   "metadata": {},
   "outputs": [],
   "source": [
    "def gcd(a, b):\n",
    " \n",
    "    if (a == 0):\n",
    "        return b\n",
    "    if (b == 0):\n",
    "        return a\n",
    " \n",
    "    if (a == b):\n",
    "        return a\n",
    " \n",
    "    if (a > b):\n",
    "        return gcd(a-b, b)\n",
    "    return gcd(a, b-a)"
   ]
  },
  {
   "cell_type": "code",
   "execution_count": 2,
   "id": "1cdf95d1-41b5-468a-8adc-d21aa62b78cc",
   "metadata": {},
   "outputs": [
    {
     "data": {
      "text/plain": [
       "4"
      ]
     },
     "execution_count": 2,
     "metadata": {},
     "output_type": "execute_result"
    }
   ],
   "source": [
    "gcd(8,12)"
   ]
  },
  {
   "cell_type": "markdown",
   "id": "7e49427c-eec7-4164-88aa-5339b28cfec4",
   "metadata": {},
   "source": [
    "21. Create a program that calculates the sum of the digits of numbers in a list using a list comprehension."
   ]
  },
  {
   "cell_type": "code",
   "execution_count": 19,
   "id": "c672dbf4-52b2-417d-9409-1b2fe21980d8",
   "metadata": {},
   "outputs": [],
   "source": [
    "lst=[1,23,44,52,61,97]\n",
    "x= [sum(int(j) for j in str(i)) for i in lst]"
   ]
  },
  {
   "cell_type": "code",
   "execution_count": 20,
   "id": "d053087f-aae4-465a-94b3-d4f1fe00f249",
   "metadata": {},
   "outputs": [
    {
     "data": {
      "text/plain": [
       "[1, 5, 8, 7, 7, 16]"
      ]
     },
     "execution_count": 20,
     "metadata": {},
     "output_type": "execute_result"
    }
   ],
   "source": [
    "x"
   ]
  },
  {
   "cell_type": "markdown",
   "id": "4592d8eb-fb97-4d18-b64a-b403e928c9a3",
   "metadata": {},
   "source": [
    "22. Write a program to find the prime factors of a given number using a `for` loop and list comprehension."
   ]
  },
  {
   "cell_type": "code",
   "execution_count": 6,
   "id": "de7f5c62-f71a-4ec1-b08d-02b79b6a1fd5",
   "metadata": {},
   "outputs": [
    {
     "name": "stdin",
     "output_type": "stream",
     "text": [
      "Enter a number:  2\n"
     ]
    }
   ],
   "source": [
    "def is_prime(num):\n",
    "    if num < 2:\n",
    "        return False\n",
    "    for i in range(2, int(num**0.5) + 1):\n",
    "        if num % i == 0:\n",
    "            return False\n",
    "    return True\n",
    "\n",
    "n = int(input(\"Enter a number: \"))\n",
    "p=[x for x in range(2, n + 1) if n % x == 0 and is_prime(x)]\n"
   ]
  },
  {
   "cell_type": "code",
   "execution_count": 7,
   "id": "e4133a40-5a1d-4bb5-bb75-5e55a75d8fdc",
   "metadata": {},
   "outputs": [
    {
     "data": {
      "text/plain": [
       "[2]"
      ]
     },
     "execution_count": 7,
     "metadata": {},
     "output_type": "execute_result"
    }
   ],
   "source": [
    "p"
   ]
  },
  {
   "cell_type": "markdown",
   "id": "4fa2a63f-0cf4-4239-a6bf-d111b7505815",
   "metadata": {},
   "source": [
    "23. Develop a program that extracts unique elements from a list and stores them in a new list using a list comprehension."
   ]
  },
  {
   "cell_type": "code",
   "execution_count": 9,
   "id": "8127a619-b252-4905-8499-ce8ac162247c",
   "metadata": {},
   "outputs": [],
   "source": [
    "n=[2,5,7,5,4,9,3,8,2,12]\n",
    "x=[]\n",
    "p=[x.append(i) for i in n if n.count(i) == 1]"
   ]
  },
  {
   "cell_type": "code",
   "execution_count": 10,
   "id": "0eb18b08-1512-4f05-a8fd-641ef8ed63e5",
   "metadata": {},
   "outputs": [
    {
     "data": {
      "text/plain": [
       "[7, 4, 9, 3, 8, 12]"
      ]
     },
     "execution_count": 10,
     "metadata": {},
     "output_type": "execute_result"
    }
   ],
   "source": [
    "x"
   ]
  },
  {
   "cell_type": "markdown",
   "id": "0be14bdd-be97-4c94-88fa-df2a3b45430e",
   "metadata": {},
   "source": [
    "24. Create a program that generates a list of all palindromic numbers up to a specified limit using a list comprehension."
   ]
  },
  {
   "cell_type": "code",
   "execution_count": 13,
   "id": "64802696-9257-4db6-9344-f90d4e6a9014",
   "metadata": {},
   "outputs": [
    {
     "name": "stdin",
     "output_type": "stream",
     "text": [
      "enter the range: 100\n"
     ]
    }
   ],
   "source": [
    "n= int(input(\"enter the range:\"))\n",
    "p = [i for i in range(1,n+1) if str(i) == str(i)[::-1]]"
   ]
  },
  {
   "cell_type": "code",
   "execution_count": 14,
   "id": "664f1482-3bec-4aca-9fe6-9cb19efea800",
   "metadata": {},
   "outputs": [
    {
     "data": {
      "text/plain": [
       "[1, 2, 3, 4, 5, 6, 7, 8, 9, 11, 22, 33, 44, 55, 66, 77, 88, 99]"
      ]
     },
     "execution_count": 14,
     "metadata": {},
     "output_type": "execute_result"
    }
   ],
   "source": [
    "p"
   ]
  },
  {
   "cell_type": "markdown",
   "id": "203ec333-8bac-426b-86a5-2e429f5cda1f",
   "metadata": {},
   "source": [
    "25. Write a program to flatten a nested list using list comprehension."
   ]
  },
  {
   "cell_type": "code",
   "execution_count": 15,
   "id": "9d8998ae-0b02-405c-8b98-b2b739393fa9",
   "metadata": {},
   "outputs": [],
   "source": [
    "lst = [[1,2],[4,5,6],[7,8,9,10]]\n",
    "k=[i for sublist in lst for i in sublist]"
   ]
  },
  {
   "cell_type": "code",
   "execution_count": 16,
   "id": "b7801f88-c6b4-4d21-8e2c-d5fcbd3e0aad",
   "metadata": {},
   "outputs": [
    {
     "data": {
      "text/plain": [
       "[1, 2, 4, 5, 6, 7, 8, 9, 10]"
      ]
     },
     "execution_count": 16,
     "metadata": {},
     "output_type": "execute_result"
    }
   ],
   "source": [
    "k"
   ]
  },
  {
   "cell_type": "markdown",
   "id": "b8eccbf5-665d-4432-a050-efc171e44340",
   "metadata": {},
   "source": [
    "26. Develop a program that computes the sum of even and odd numbers in a list separately using list comprehension."
   ]
  },
  {
   "cell_type": "code",
   "execution_count": 7,
   "id": "515c1e4f-5fa8-472c-99e3-4bd5cc3ee508",
   "metadata": {},
   "outputs": [],
   "source": [
    "x=[1,2,3,4,5,6,7,8,9]\n",
    "p=[sum(i for i in x if i%2==0),sum(i for i in x if i%2!=0)]"
   ]
  },
  {
   "cell_type": "code",
   "execution_count": 8,
   "id": "d487dd05-6300-4603-835f-e66c8846857d",
   "metadata": {},
   "outputs": [
    {
     "data": {
      "text/plain": [
       "[20, 25]"
      ]
     },
     "execution_count": 8,
     "metadata": {},
     "output_type": "execute_result"
    }
   ],
   "source": [
    "p"
   ]
  },
  {
   "cell_type": "markdown",
   "id": "4c01035d-7e04-4951-83ce-6824b5278b8d",
   "metadata": {},
   "source": [
    "27. Create a program that generates a list of squares of odd numbers between 1 and 10 using list comprehension."
   ]
  },
  {
   "cell_type": "code",
   "execution_count": 9,
   "id": "42ca8855-acd8-4c08-8ac0-b9a5e716942f",
   "metadata": {},
   "outputs": [],
   "source": [
    "x=[1,2,3,4,5,6,7,8,9]\n",
    "p=[i**2 for i in x if i%2!=0]"
   ]
  },
  {
   "cell_type": "code",
   "execution_count": 10,
   "id": "219c062f-d247-47b6-b567-d8d902280d4d",
   "metadata": {},
   "outputs": [
    {
     "data": {
      "text/plain": [
       "[1, 9, 25, 49, 81]"
      ]
     },
     "execution_count": 10,
     "metadata": {},
     "output_type": "execute_result"
    }
   ],
   "source": [
    "p"
   ]
  },
  {
   "cell_type": "markdown",
   "id": "2a4baa11-098c-4b09-9a4a-c279027cb0e6",
   "metadata": {},
   "source": [
    "28. Write a program that combines two lists into a dictionary using list comprehension."
   ]
  },
  {
   "cell_type": "code",
   "execution_count": 5,
   "id": "3fc6ce69-4f11-4d35-bf11-fc29ec15aabe",
   "metadata": {},
   "outputs": [],
   "source": [
    "a=['a','b','c','d']\n",
    "b=[1,2,3,4]\n",
    "x={a[i]:b[i] for i in range(min(len(a),len(b)))}"
   ]
  },
  {
   "cell_type": "code",
   "execution_count": 6,
   "id": "4b66564c-8c97-4ed2-affb-d31966c20e04",
   "metadata": {},
   "outputs": [
    {
     "data": {
      "text/plain": [
       "{'a': 1, 'b': 2, 'c': 3, 'd': 4}"
      ]
     },
     "execution_count": 6,
     "metadata": {},
     "output_type": "execute_result"
    }
   ],
   "source": [
    "x"
   ]
  },
  {
   "cell_type": "markdown",
   "id": "7e58c444-022f-42ea-89b2-5c1bedc95e67",
   "metadata": {},
   "source": [
    "29. Develop a program that extracts the vowels from a string and stores them in a list using list comprehension."
   ]
  },
  {
   "cell_type": "code",
   "execution_count": 1,
   "id": "b6f1ec3d-1175-467c-a551-763d421ed80f",
   "metadata": {},
   "outputs": [],
   "source": [
    "p=\"I Love Python\"\n",
    "vowel = list(filter(lambda a:a, [i for i in p if i in ['a','e','i','o','u','A','E','I','O','U']]))"
   ]
  },
  {
   "cell_type": "code",
   "execution_count": 2,
   "id": "344be6ea-4f92-4e42-a1ab-b3b4aa511952",
   "metadata": {},
   "outputs": [
    {
     "data": {
      "text/plain": [
       "['I', 'o', 'e', 'o']"
      ]
     },
     "execution_count": 2,
     "metadata": {},
     "output_type": "execute_result"
    }
   ],
   "source": [
    "vowel"
   ]
  },
  {
   "cell_type": "markdown",
   "id": "824b155a-e070-49d9-8511-be480555c13d",
   "metadata": {},
   "source": [
    "30. Create a program that removes all non-numeric characters from a list of strings using list comprehension."
   ]
  },
  {
   "cell_type": "code",
   "execution_count": 12,
   "id": "476a4f68-3fd6-435d-a1ca-fc3121557834",
   "metadata": {},
   "outputs": [],
   "source": [
    "p=[\"I\",\"97\",\"love\",\"62\",\"Python\"]\n",
    "k = list(''.join(filter(str.isdigit,i)) for i in p)"
   ]
  },
  {
   "cell_type": "code",
   "execution_count": 13,
   "id": "2a39a3b6-34e9-4d9c-a7a0-4f74cdd21615",
   "metadata": {},
   "outputs": [
    {
     "data": {
      "text/plain": [
       "['', '97', '', '62', '']"
      ]
     },
     "execution_count": 13,
     "metadata": {},
     "output_type": "execute_result"
    }
   ],
   "source": [
    "k"
   ]
  },
  {
   "cell_type": "markdown",
   "id": "efb26f52-7b5a-44d7-8d53-0a9200613f80",
   "metadata": {},
   "source": [
    "31. Write a program to generate a list of prime numbers using the Sieve of Eratosthenes algorithm and list comprehension."
   ]
  },
  {
   "cell_type": "code",
   "execution_count": 1,
   "id": "625e5a36-a76c-441b-bf3e-01d854fc297b",
   "metadata": {},
   "outputs": [
    {
     "name": "stdout",
     "output_type": "stream",
     "text": [
      "[2, 3, 5, 7, 11, 13, 17, 19, 23, 29, 31, 37, 41, 43, 47]\n"
     ]
    }
   ],
   "source": [
    "def sieve_eratosthenes(n):\n",
    "    is_prime = [True] * (n + 1)\n",
    "    is_prime[0] = is_prime[1] = False  \n",
    "\n",
    "    for p in range(2, int(n**0.5) + 1):\n",
    "        if is_prime[p]:\n",
    "            for i in range(p * p, n + 1, p):\n",
    "                is_prime[i] = False\n",
    "    \n",
    "    primes = [i for i in range(2, n + 1) if is_prime[i]]\n",
    "    return primes\n",
    "\n",
    "limit = 50\n",
    "prime_list = sieve_eratosthenes(limit)\n",
    "\n",
    "print(prime_list)"
   ]
  },
  {
   "cell_type": "markdown",
   "id": "beb0ba63-9b9d-47e2-ad1c-a4656dbd2171",
   "metadata": {},
   "source": [
    "32. Create a program that generates a list of all Pythagorean triplets up to a specified limit using list comprehension."
   ]
  },
  {
   "cell_type": "code",
   "execution_count": 1,
   "id": "d9ff1599-0325-4671-967c-2499f1a79916",
   "metadata": {},
   "outputs": [],
   "source": [
    "n = 25 \n",
    "pythagorean_triplets = [(a, b, c) for a in range(1, n + 1) for b in range(a, n + 1) for c in range(b, n + 1) if a**2 + b**2 == c**2]"
   ]
  },
  {
   "cell_type": "code",
   "execution_count": 2,
   "id": "7874308d-df8b-4685-a78e-eb63274f8ab8",
   "metadata": {},
   "outputs": [
    {
     "data": {
      "text/plain": [
       "[(3, 4, 5),\n",
       " (5, 12, 13),\n",
       " (6, 8, 10),\n",
       " (7, 24, 25),\n",
       " (8, 15, 17),\n",
       " (9, 12, 15),\n",
       " (12, 16, 20),\n",
       " (15, 20, 25)]"
      ]
     },
     "execution_count": 2,
     "metadata": {},
     "output_type": "execute_result"
    }
   ],
   "source": [
    "pythagorean_triplets"
   ]
  },
  {
   "cell_type": "markdown",
   "id": "3d9630c0-030e-46f4-a321-66f017238f79",
   "metadata": {},
   "source": [
    "33. Develop a program that generates a list of all possible combinations of two lists using list comprehension."
   ]
  },
  {
   "cell_type": "code",
   "execution_count": 3,
   "id": "1d2c5d1c-fcd4-412e-9ae0-cd2c623ca3fa",
   "metadata": {},
   "outputs": [],
   "source": [
    "lst1 = [1, 2, 3]\n",
    "lst2 = ['a', 'b','c']\n",
    "\n",
    "comb = [(x, y) for x in lst1 for y in lst2]"
   ]
  },
  {
   "cell_type": "code",
   "execution_count": 4,
   "id": "c9ab556c-caf0-42f0-8055-af44c21ea659",
   "metadata": {},
   "outputs": [
    {
     "data": {
      "text/plain": [
       "[(1, 'a'),\n",
       " (1, 'b'),\n",
       " (1, 'c'),\n",
       " (2, 'a'),\n",
       " (2, 'b'),\n",
       " (2, 'c'),\n",
       " (3, 'a'),\n",
       " (3, 'b'),\n",
       " (3, 'c')]"
      ]
     },
     "execution_count": 4,
     "metadata": {},
     "output_type": "execute_result"
    }
   ],
   "source": [
    "comb"
   ]
  },
  {
   "cell_type": "markdown",
   "id": "a5c38366-4ca7-4828-be3c-e16f82c8f316",
   "metadata": {},
   "source": [
    "34. Write a program that calculates the mean, median, and mode of a list of numbers using list comprehension."
   ]
  },
  {
   "cell_type": "code",
   "execution_count": 7,
   "id": "118549a4-d7a9-4043-b918-cae39c7c8137",
   "metadata": {},
   "outputs": [
    {
     "name": "stdout",
     "output_type": "stream",
     "text": [
      "Mean: 3.0\n",
      "Median: 3\n",
      "Mode: [1, 2, 3, 4, 5]\n"
     ]
    }
   ],
   "source": [
    "def mean(numbers):\n",
    "    return sum(numbers) / len(numbers)\n",
    "\n",
    "def median(numbers):\n",
    "    numbers.sort()\n",
    "    n = len(numbers)\n",
    "    middle = n // 2\n",
    "    if n % 2 == 0:\n",
    "        median = (numbers[middle - 1] + numbers[middle]) / 2\n",
    "    else:\n",
    "        median = numbers[middle]\n",
    "    return median\n",
    "\n",
    "def mode(numbers):\n",
    "    from collections import Counter\n",
    "    count = Counter(numbers)\n",
    "    max_count = max(count.values())\n",
    "    mode = [num for num, freq in count.items() if freq == max_count]\n",
    "    return mode\n",
    "\n",
    "\n",
    "numbers = [1, 2, 3, 4, 5]\n",
    "mean = mean(numbers)\n",
    "print(f\"Mean: {mean}\")\n",
    "median = median(numbers)\n",
    "print(f\"Median: {median}\")\n",
    "mode = mode(numbers)\n",
    "print(f\"Mode: {mode}\")"
   ]
  },
  {
   "cell_type": "markdown",
   "id": "5a4b823c-24fd-4523-b7d6-5125c6d6ba67",
   "metadata": {},
   "source": [
    "35. Create a program that generates Pascal's triangle up to a specified number of rows using list comprehension."
   ]
  },
  {
   "cell_type": "code",
   "execution_count": 5,
   "id": "e99e2578-3fbf-40c5-bfb0-ce12dcea59cd",
   "metadata": {},
   "outputs": [],
   "source": [
    "def gen_pascals_triangle(rows):\n",
    "    if rows <= 0:\n",
    "        return []\n",
    "\n",
    "    triangle = [[1]]\n",
    "\n",
    "    for _ in range(1, rows):\n",
    "        prev_row = triangle[-1]\n",
    "        next_row = [1] + [prev_row[i] + prev_row[i + 1] for i in range(len(prev_row) - 1)] + [1]\n",
    "        triangle.append(next_row)\n",
    "\n",
    "    return triangle\n",
    "\n",
    "def print_pascals_triangle(triangle):\n",
    "    for j in triangle:\n",
    "        print(\" \".join(map(str, j)))\n"
   ]
  },
  {
   "cell_type": "code",
   "execution_count": 6,
   "id": "e5c12a22-4330-4a3b-afe7-d374be59c703",
   "metadata": {},
   "outputs": [
    {
     "name": "stdout",
     "output_type": "stream",
     "text": [
      "1\n",
      "1 1\n",
      "1 2 1\n",
      "1 3 3 1\n",
      "1 4 6 4 1\n"
     ]
    }
   ],
   "source": [
    "rows = 5\n",
    "pascals_triangle = gen_pascals_triangle(rows)\n",
    "print_pascals_triangle(pascals_triangle)"
   ]
  },
  {
   "cell_type": "markdown",
   "id": "1ce5db7f-55d7-46f6-86ac-ae3fbb4824d6",
   "metadata": {},
   "source": [
    "36. Develop a program that calculates the sum of the digits of a factorial of numbers from 1 to 5 using list comprehension."
   ]
  },
  {
   "cell_type": "code",
   "execution_count": 4,
   "id": "e4b8528e-4f3e-4962-9ded-e2a28b412561",
   "metadata": {},
   "outputs": [],
   "source": [
    "import math\n",
    "\n",
    "def sum_of_digits(num):\n",
    "    return sum(int(digit) for digit in str(num))\n",
    "\n",
    "factorial_sum = [sum_of_digits(math.factorial(n)) for n in range(1, 6)]\n"
   ]
  },
  {
   "cell_type": "code",
   "execution_count": 5,
   "id": "fba9f3d4-2699-4059-b92a-3b6a10dad166",
   "metadata": {},
   "outputs": [
    {
     "name": "stdout",
     "output_type": "stream",
     "text": [
      "Sum of digits of 1! is 1\n",
      "Sum of digits of 2! is 2\n",
      "Sum of digits of 3! is 6\n",
      "Sum of digits of 4! is 6\n",
      "Sum of digits of 5! is 3\n"
     ]
    }
   ],
   "source": [
    "for n, fact_sum in enumerate(factorial_sum, start=1):\n",
    "    print(f\"Sum of digits of {n}! is {fact_sum}\")"
   ]
  },
  {
   "cell_type": "markdown",
   "id": "5f23d993-64bb-4411-8071-01084ff359c4",
   "metadata": {},
   "source": [
    "37. Write a program that finds the longest word in a sentence using list comprehension."
   ]
  },
  {
   "cell_type": "code",
   "execution_count": 14,
   "id": "c1793301-14fb-4a3f-b31e-64d1cce03790",
   "metadata": {},
   "outputs": [],
   "source": [
    "def find_longest_words(n):\n",
    "    a = n.split()\n",
    "    largest_len = max(len(i) for i in a)\n",
    "    largest_words = [i for i in a if len(i) == largest_len]\n",
    "    return largest_len, largest_words"
   ]
  },
  {
   "cell_type": "code",
   "execution_count": 15,
   "id": "039317f7-51e9-480f-b543-8f471686ceaa",
   "metadata": {},
   "outputs": [
    {
     "data": {
      "text/plain": [
       "(6, ['python'])"
      ]
     },
     "execution_count": 15,
     "metadata": {},
     "output_type": "execute_result"
    }
   ],
   "source": [
    "find_longest_words(\"i love python\")"
   ]
  },
  {
   "cell_type": "markdown",
   "id": "0431f2ee-42c1-4bcf-a0ee-d9477e2708f3",
   "metadata": {},
   "source": [
    "38. Create a program that filters a list of strings to include only those with more than three vowels using list comprehension."
   ]
  },
  {
   "cell_type": "code",
   "execution_count": 1,
   "id": "81a62b37-a241-40b9-b7d7-3a658700850e",
   "metadata": {},
   "outputs": [],
   "source": [
    "lst =[\"apple\", \"pwskills\",\"orange\", \"cat\", \"abababab\"]\n",
    "def vowel_count(word):\n",
    "    vowel = \"AEIOUaeiou\"\n",
    "    return sum(1 for i in word if i in vowel)\n",
    "word_list = [word for word in lst if vowel_count(word) > 3]"
   ]
  },
  {
   "cell_type": "code",
   "execution_count": 2,
   "id": "061acbc3-797e-41ef-ab3c-ba69b366aab8",
   "metadata": {},
   "outputs": [
    {
     "data": {
      "text/plain": [
       "['abababab']"
      ]
     },
     "execution_count": 2,
     "metadata": {},
     "output_type": "execute_result"
    }
   ],
   "source": [
    "word_list"
   ]
  },
  {
   "cell_type": "markdown",
   "id": "1ff23b76-862c-4b46-b2ca-f68ebd3de438",
   "metadata": {},
   "source": [
    "39. Develop a program that calculates the sum of the digits of numbers from 1 to 1000 using list comprehension."
   ]
  },
  {
   "cell_type": "code",
   "execution_count": 9,
   "id": "79d7f68c-3f74-4b32-b787-7ce69b7aeedf",
   "metadata": {},
   "outputs": [],
   "source": [
    "n=100\n",
    "digit_sum = [sum(int(j) for j in str(i)) for i in range(1,n)]"
   ]
  },
  {
   "cell_type": "code",
   "execution_count": 10,
   "id": "1aae0e65-d081-41d7-8d6f-ed273b6c7f89",
   "metadata": {},
   "outputs": [
    {
     "data": {
      "text/plain": [
       "[1,\n",
       " 2,\n",
       " 3,\n",
       " 4,\n",
       " 5,\n",
       " 6,\n",
       " 7,\n",
       " 8,\n",
       " 9,\n",
       " 1,\n",
       " 2,\n",
       " 3,\n",
       " 4,\n",
       " 5,\n",
       " 6,\n",
       " 7,\n",
       " 8,\n",
       " 9,\n",
       " 10,\n",
       " 2,\n",
       " 3,\n",
       " 4,\n",
       " 5,\n",
       " 6,\n",
       " 7,\n",
       " 8,\n",
       " 9,\n",
       " 10,\n",
       " 11,\n",
       " 3,\n",
       " 4,\n",
       " 5,\n",
       " 6,\n",
       " 7,\n",
       " 8,\n",
       " 9,\n",
       " 10,\n",
       " 11,\n",
       " 12,\n",
       " 4,\n",
       " 5,\n",
       " 6,\n",
       " 7,\n",
       " 8,\n",
       " 9,\n",
       " 10,\n",
       " 11,\n",
       " 12,\n",
       " 13,\n",
       " 5,\n",
       " 6,\n",
       " 7,\n",
       " 8,\n",
       " 9,\n",
       " 10,\n",
       " 11,\n",
       " 12,\n",
       " 13,\n",
       " 14,\n",
       " 6,\n",
       " 7,\n",
       " 8,\n",
       " 9,\n",
       " 10,\n",
       " 11,\n",
       " 12,\n",
       " 13,\n",
       " 14,\n",
       " 15,\n",
       " 7,\n",
       " 8,\n",
       " 9,\n",
       " 10,\n",
       " 11,\n",
       " 12,\n",
       " 13,\n",
       " 14,\n",
       " 15,\n",
       " 16,\n",
       " 8,\n",
       " 9,\n",
       " 10,\n",
       " 11,\n",
       " 12,\n",
       " 13,\n",
       " 14,\n",
       " 15,\n",
       " 16,\n",
       " 17,\n",
       " 9,\n",
       " 10,\n",
       " 11,\n",
       " 12,\n",
       " 13,\n",
       " 14,\n",
       " 15,\n",
       " 16,\n",
       " 17,\n",
       " 18]"
      ]
     },
     "execution_count": 10,
     "metadata": {},
     "output_type": "execute_result"
    }
   ],
   "source": [
    "digit_sum"
   ]
  },
  {
   "cell_type": "markdown",
   "id": "be4a6bf5-6f06-4925-b925-48b6732199a5",
   "metadata": {},
   "source": [
    "40. Write a program that generates a list of prime palindromic numbers using list comprehension."
   ]
  },
  {
   "cell_type": "code",
   "execution_count": 8,
   "id": "aa32fe76-7137-4826-9833-0a672bf9dd62",
   "metadata": {},
   "outputs": [
    {
     "name": "stdout",
     "output_type": "stream",
     "text": [
      "[2, 3, 5, 7, 11]\n"
     ]
    }
   ],
   "source": [
    "n = 100\n",
    "\n",
    "def prime():\n",
    "    primes = []\n",
    "    for possiblePrime in range(2, n):\n",
    "        isPrime = True\n",
    "        for num in range(2, possiblePrime):\n",
    "            if possiblePrime % num == 0:\n",
    "                isPrime = False\n",
    "                break  \n",
    "        if isPrime:\n",
    "            primes.append(possiblePrime)\n",
    "    return primes\n",
    "\n",
    "def is_palindrome(number):\n",
    "    return str(number) == str(number)[::-1]\n",
    "\n",
    "palindromic_prime_check = [i for i in range(1, n) if is_palindrome(i) and i in prime()]\n",
    "\n",
    "print(palindromic_prime_check)"
   ]
  },
  {
   "cell_type": "code",
   "execution_count": null,
   "id": "71662236-69bf-4afd-a275-fa9aeb722c64",
   "metadata": {},
   "outputs": [],
   "source": []
  }
 ],
 "metadata": {
  "kernelspec": {
   "display_name": "Python 3 (ipykernel)",
   "language": "python",
   "name": "python3"
  },
  "language_info": {
   "codemirror_mode": {
    "name": "ipython",
    "version": 3
   },
   "file_extension": ".py",
   "mimetype": "text/x-python",
   "name": "python",
   "nbconvert_exporter": "python",
   "pygments_lexer": "ipython3",
   "version": "3.10.8"
  }
 },
 "nbformat": 4,
 "nbformat_minor": 5
}
