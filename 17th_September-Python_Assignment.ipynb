{
 "cells": [
  {
   "cell_type": "markdown",
   "id": "130e52b7-0b55-47b8-8c11-740769883422",
   "metadata": {},
   "source": [
    "Write a Python program to print numbers from 1 to 10 using a for loop."
   ]
  },
  {
   "cell_type": "code",
   "execution_count": 1,
   "id": "621e5c46-76af-4769-9cfc-286ab5c90175",
   "metadata": {},
   "outputs": [
    {
     "name": "stdout",
     "output_type": "stream",
     "text": [
      "1 2 3 4 5 6 7 8 9 "
     ]
    }
   ],
   "source": [
    "for i in range(1,10):\n",
    "    print(i,end= ' ')"
   ]
  },
  {
   "cell_type": "markdown",
   "id": "771ec9bf-899a-4c92-b367-36ceef5f237d",
   "metadata": {},
   "source": [
    "Explain the difference between a for loop and a while loop in Python."
   ]
  },
  {
   "cell_type": "markdown",
   "id": "b5feb953-54f1-4b3d-b83c-67df1effb8a4",
   "metadata": {},
   "source": [
    "for loop: Used for iterating over a sequence (such as a list, tuple, string, or range) or any iterable object. It automatically iterates through each element in the sequence until there are no more elements to process.\n",
    "\n",
    "while loop: Used for iterating based on a condition. It repeats a block of code as long as a specified condition is True. The condition is evaluated before each iteration."
   ]
  },
  {
   "cell_type": "markdown",
   "id": "9c64ca23-2988-4fda-a83e-55082c70ad89",
   "metadata": {},
   "source": [
    "Write a Python program to calculate the sum of all numbers from 1 to 100 using a for loop."
   ]
  },
  {
   "cell_type": "code",
   "execution_count": 1,
   "id": "dffd39cc-6a06-4142-ae87-3fd17bb0c16a",
   "metadata": {},
   "outputs": [
    {
     "name": "stdout",
     "output_type": "stream",
     "text": [
      "4950\n"
     ]
    }
   ],
   "source": [
    "sum1 = 0\n",
    "for i in range(1,100):\n",
    "    sum1 = sum1 +i\n",
    "print(sum1)"
   ]
  },
  {
   "cell_type": "markdown",
   "id": "c7896520-4cdb-4e8c-bf97-8dd06c854a8a",
   "metadata": {},
   "source": [
    "How do you iterate through a list using a for loop in Python?"
   ]
  },
  {
   "cell_type": "code",
   "execution_count": 3,
   "id": "000e3af0-bd99-4acc-b78b-d9b91ba44aa3",
   "metadata": {},
   "outputs": [
    {
     "name": "stdout",
     "output_type": "stream",
     "text": [
      "1\n",
      "2\n",
      "3\n",
      "4\n",
      "5\n"
     ]
    }
   ],
   "source": [
    "my_list = [1, 2, 3, 4, 5]\n",
    "\n",
    "for item in my_list:\n",
    "    # Your code to process each item goes here\n",
    "    print(item)"
   ]
  },
  {
   "cell_type": "markdown",
   "id": "1ae7a554-eecb-4823-80d5-bcb2ff77a970",
   "metadata": {},
   "source": [
    "Write a Python program to find the product of all elements in a list using a for loop."
   ]
  },
  {
   "cell_type": "code",
   "execution_count": 4,
   "id": "922c210f-5fc4-4620-b5d1-95ba5fdece57",
   "metadata": {},
   "outputs": [
    {
     "name": "stdout",
     "output_type": "stream",
     "text": [
      "120\n"
     ]
    }
   ],
   "source": [
    "my_list = [1, 2, 3, 4, 5]\n",
    "prod = 1\n",
    "for item in my_list:\n",
    "    prod = prod * item\n",
    "print(prod)"
   ]
  },
  {
   "cell_type": "markdown",
   "id": "a0ecf616-202b-43f7-9424-56f75304ae15",
   "metadata": {},
   "source": [
    "Create a Python program that prints all even numbers from 1 to 20 using a for loop."
   ]
  },
  {
   "cell_type": "code",
   "execution_count": 5,
   "id": "173d0e95-c379-4386-8dc4-a04daebc75c4",
   "metadata": {},
   "outputs": [
    {
     "name": "stdout",
     "output_type": "stream",
     "text": [
      "0 2 4 6 8 10 12 14 16 18 "
     ]
    }
   ],
   "source": [
    "for i in range(20):\n",
    "    if i % 2 == 0:\n",
    "        print(i, end= ' ')"
   ]
  },
  {
   "cell_type": "markdown",
   "id": "24484a6a-1bc9-442b-8e4d-8cdfffc6f849",
   "metadata": {},
   "source": [
    "Write a Python program that calculates the factorial of a number using a for loop."
   ]
  },
  {
   "cell_type": "code",
   "execution_count": 4,
   "id": "e4714690-7d80-491d-9b0d-58a99b0c22c7",
   "metadata": {},
   "outputs": [
    {
     "name": "stdin",
     "output_type": "stream",
     "text": [
      "enter the number 5\n"
     ]
    },
    {
     "name": "stdout",
     "output_type": "stream",
     "text": [
      "120\n"
     ]
    }
   ],
   "source": [
    "n = int(input(\"enter the number\"))\n",
    "k=1\n",
    "if n==0:\n",
    "    print('1')\n",
    "else:\n",
    "    for i in range(1,n+1):\n",
    "        k=k*i\n",
    "    print(k)"
   ]
  },
  {
   "cell_type": "markdown",
   "id": "85770402-420a-4bf0-b817-b60d2b12b98f",
   "metadata": {},
   "source": [
    "How can you iterate through the characters of a string using a for loop in Python?"
   ]
  },
  {
   "cell_type": "code",
   "execution_count": 6,
   "id": "fe55a671-7342-40ae-9e46-15698a28a1b9",
   "metadata": {},
   "outputs": [
    {
     "name": "stdin",
     "output_type": "stream",
     "text": [
      "enter a string: pw skills\n"
     ]
    },
    {
     "name": "stdout",
     "output_type": "stream",
     "text": [
      "p\n",
      "w\n",
      " \n",
      "s\n",
      "k\n",
      "i\n",
      "l\n",
      "l\n",
      "s\n"
     ]
    }
   ],
   "source": [
    "a=input(\"enter a string:\")\n",
    "for i in a[::]:\n",
    "    print(i)"
   ]
  },
  {
   "cell_type": "markdown",
   "id": "f06954e7-4975-461a-9b2e-619afe7438b1",
   "metadata": {},
   "source": [
    "Write a Python program to find the largest number in a list using a for loop."
   ]
  },
  {
   "cell_type": "code",
   "execution_count": 2,
   "id": "da87bbd3-76df-4985-bcca-8fd911cc3b55",
   "metadata": {},
   "outputs": [
    {
     "name": "stdin",
     "output_type": "stream",
     "text": [
      "enter the number 5\n",
      "enter the numbers 1\n",
      "enter the numbers 3\n",
      "enter the numbers 2\n",
      "enter the numbers 5\n",
      "enter the numbers 4\n"
     ]
    },
    {
     "name": "stdout",
     "output_type": "stream",
     "text": [
      "max: 5\n"
     ]
    }
   ],
   "source": [
    "lst =[]\n",
    "n=int(input(\"enter the number\"))\n",
    "for i in range(n):\n",
    "    e=int(input(\"enter the numbers\"))\n",
    "    lst.append(e)\n",
    "for i in range(0,len(lst)):\n",
    "    for j in range(0,i):\n",
    "        if lst[j]>lst[i]:\n",
    "            maximum = lst[j]\n",
    "print(\"max:\", maximum)\n",
    "    "
   ]
  },
  {
   "cell_type": "markdown",
   "id": "1f227cf8-dd5e-41b7-b2a5-9547341154e6",
   "metadata": {},
   "source": [
    "Create a Python program that prints the Fibonacci sequence up to a specified limit using a for loop"
   ]
  },
  {
   "cell_type": "code",
   "execution_count": 1,
   "id": "3f2bf8d7-fe46-402d-971f-9a1bfbe04d24",
   "metadata": {},
   "outputs": [],
   "source": [
    "def print_fibonacci(limit):\n",
    "    a, b = 0, 1\n",
    "\n",
    "    if limit <= 0:\n",
    "        print(\"Please enter a positive limit.\")\n",
    "    else:\n",
    "        print(a)\n",
    "        for _ in range(limit - 1):\n",
    "            a, b = b, a + b\n",
    "            print(a)\n"
   ]
  },
  {
   "cell_type": "code",
   "execution_count": 2,
   "id": "7f6c0fd8-f48f-4ee6-8acf-7d33bc577aa5",
   "metadata": {},
   "outputs": [
    {
     "name": "stdout",
     "output_type": "stream",
     "text": [
      "0\n",
      "1\n",
      "1\n",
      "2\n",
      "3\n",
      "5\n",
      "8\n",
      "13\n",
      "21\n",
      "34\n"
     ]
    }
   ],
   "source": [
    "limit = 10\n",
    "print_fibonacci(limit)"
   ]
  },
  {
   "cell_type": "markdown",
   "id": "bad4ba5e-7b87-4282-9780-94ef31fbdd2c",
   "metadata": {},
   "source": [
    "Write a Python program to count the number of vowels in a given string using a for loop."
   ]
  },
  {
   "cell_type": "code",
   "execution_count": 4,
   "id": "8175dee7-06ed-466a-8a94-322a4ac19e59",
   "metadata": {},
   "outputs": [
    {
     "name": "stdin",
     "output_type": "stream",
     "text": [
      "enter the string: pwskills python\n"
     ]
    },
    {
     "name": "stdout",
     "output_type": "stream",
     "text": [
      "2\n"
     ]
    }
   ],
   "source": [
    "a= str(input(\"enter the string:\"))\n",
    "a.lower\n",
    "c=0\n",
    "for i in a:\n",
    "    if i in ('a','e','i','o','u'):\n",
    "        c+=1\n",
    "print(c)"
   ]
  },
  {
   "cell_type": "markdown",
   "id": "4eaffccc-11a9-4c2c-9fbd-acc24c171ff6",
   "metadata": {},
   "source": [
    "Create a Python program that generates a multiplication table for a given number using a for loop."
   ]
  },
  {
   "cell_type": "code",
   "execution_count": 5,
   "id": "63cd3dc2-705f-4fbb-b28a-8e2d6b8e467f",
   "metadata": {},
   "outputs": [],
   "source": [
    "def multiplication_table(number, limit):\n",
    "    for i in range(1, limit + 1):\n",
    "        result = number * i\n",
    "        print(f\"{number} x {i} = {result}\")"
   ]
  },
  {
   "cell_type": "code",
   "execution_count": 6,
   "id": "c991dd30-00b7-4d37-b881-53a87845e73d",
   "metadata": {},
   "outputs": [
    {
     "name": "stdout",
     "output_type": "stream",
     "text": [
      "5 x 1 = 5\n",
      "5 x 2 = 10\n",
      "5 x 3 = 15\n",
      "5 x 4 = 20\n",
      "5 x 5 = 25\n",
      "5 x 6 = 30\n",
      "5 x 7 = 35\n",
      "5 x 8 = 40\n",
      "5 x 9 = 45\n",
      "5 x 10 = 50\n"
     ]
    }
   ],
   "source": [
    "multiplication_table(5,10)"
   ]
  },
  {
   "cell_type": "markdown",
   "id": "f2d53776-23ad-4f68-8a8c-968b12709065",
   "metadata": {},
   "source": [
    "Write a Python program to reverse a list using a for loop."
   ]
  },
  {
   "cell_type": "code",
   "execution_count": 2,
   "id": "25fa8564-faa5-4004-afb8-eb72cbc6bfab",
   "metadata": {},
   "outputs": [
    {
     "name": "stdout",
     "output_type": "stream",
     "text": [
      "Original List: [1, 2, 3, 4, 5]\n",
      "Reversed List: [5, 4, 3, 2, 1]\n"
     ]
    }
   ],
   "source": [
    "lst = [1, 2, 3, 4, 5]\n",
    "\n",
    "reversed_list = []\n",
    "\n",
    "for i in range(len(lst) - 1, -1, -1):\n",
    "    reversed_list.append(lst[i])\n",
    "\n",
    "print(\"Original List:\", lst)\n",
    "print(\"Reversed List:\", reversed_list)"
   ]
  },
  {
   "cell_type": "markdown",
   "id": "1780f295-24e7-4bf6-8cfb-0d29c2bcd668",
   "metadata": {},
   "source": [
    "Write a Python program to find the common elements between two lists using a for loop."
   ]
  },
  {
   "cell_type": "code",
   "execution_count": 3,
   "id": "5c367455-d5c7-44ca-821c-b957bb5275f1",
   "metadata": {},
   "outputs": [
    {
     "name": "stdout",
     "output_type": "stream",
     "text": [
      "common elements: [2, 4, 5]\n"
     ]
    }
   ],
   "source": [
    "lst1 = [1, 2, 3, 4, 5]\n",
    "lst2 = [4,2,5,7,8]\n",
    "lst3 = []\n",
    "\n",
    "for i in lst1:\n",
    "    for j in lst2:\n",
    "        if i == j:\n",
    "            lst3.append(i)\n",
    "\n",
    "print(\"common elements:\", lst3)"
   ]
  },
  {
   "cell_type": "markdown",
   "id": "e513afe9-8ad3-4fda-8d7f-91be01fee662",
   "metadata": {},
   "source": [
    "Explain how to use a for loop to iterate through the keys and values of a dictionary in Python."
   ]
  },
  {
   "cell_type": "code",
   "execution_count": 4,
   "id": "87784c4b-c91d-4c82-bd91-ea585933098e",
   "metadata": {},
   "outputs": [
    {
     "name": "stdout",
     "output_type": "stream",
     "text": [
      "Key: name, Value: Alice\n",
      "Key: age, Value: 30\n",
      "Key: city, Value: New York\n"
     ]
    }
   ],
   "source": [
    "my_dict = {'name': 'Alice', 'age': 30, 'city': 'New York'}\n",
    "\n",
    "for key in my_dict:\n",
    "    value = my_dict[key]\n",
    "    print(f\"Key: {key}, Value: {value}\")"
   ]
  },
  {
   "cell_type": "markdown",
   "id": "14f5077f-a3dc-4606-a1ea-c63d49725862",
   "metadata": {},
   "source": [
    "Write a Python program to find the GCD (Greatest Common Divisor) of two numbers using a for loop."
   ]
  },
  {
   "cell_type": "code",
   "execution_count": 1,
   "id": "17fae04f-1ddb-4fc5-b925-f432abbd31c8",
   "metadata": {},
   "outputs": [
    {
     "name": "stdout",
     "output_type": "stream",
     "text": [
      "The GCD of 48 and 18 is 6\n"
     ]
    }
   ],
   "source": [
    "num1 = 48\n",
    "num2 = 18\n",
    "\n",
    "def find_gcd(a, b):\n",
    "    gcd = 1\n",
    "    for i in range(1, min(a, b) + 1):\n",
    "        if a % i == 0 and b % i == 0:\n",
    "            gcd = i\n",
    "    return gcd\n",
    "\n",
    "gcd = find_gcd(num1, num2)\n",
    "\n",
    "# Print the result\n",
    "print(f\"The GCD of {num1} and {num2} is {gcd}\")"
   ]
  },
  {
   "cell_type": "markdown",
   "id": "190a669a-29da-4a1a-aa40-4f8754022985",
   "metadata": {},
   "source": [
    "Create a Python program that checks if a string is a palindrome using a for loop."
   ]
  },
  {
   "cell_type": "code",
   "execution_count": 2,
   "id": "9c9913cd-7159-4e0f-85ca-71cfe2ecb436",
   "metadata": {},
   "outputs": [],
   "source": [
    "def is_palindrome(input_string):\n",
    "    input_string = input_string.lower()\n",
    "    input_string = ''.join(e for e in input_string if e.isalnum())  # Remove non-alphanumeric characters\n",
    "    \n",
    "    # Iterate through the string using a for loop\n",
    "    for i in range(len(input_string) // 2):\n",
    "        if input_string[i] != input_string[-i - 1]:\n",
    "            print(\"Not pallindrom\")\n",
    "    print(\"pallindrom\")"
   ]
  },
  {
   "cell_type": "code",
   "execution_count": 3,
   "id": "5a5ed8e5-9060-4c25-bcdb-698ff043a87e",
   "metadata": {},
   "outputs": [
    {
     "name": "stdout",
     "output_type": "stream",
     "text": [
      "pallindrom\n"
     ]
    }
   ],
   "source": [
    "string_to_check = \"A man, a plan, a canal, Panama\"\n",
    "is_palindrome(string_to_check)"
   ]
  },
  {
   "cell_type": "markdown",
   "id": "a4053ce2-88fd-45f1-8b1c-b04bc5b76550",
   "metadata": {},
   "source": [
    "Write a Python program to remove duplicates from a list using a for loop."
   ]
  },
  {
   "cell_type": "code",
   "execution_count": 4,
   "id": "8e3aaa48-d159-476a-a9e0-408f23fc34f3",
   "metadata": {},
   "outputs": [],
   "source": [
    "my_list = [1, 2, 2, 3, 4, 4, 5, 6, 6, 7]\n",
    "\n",
    "def remove_duplicates(input_list):\n",
    "    unique_list = []  # Initialize an empty list to store unique elements\n",
    "    \n",
    "    for item in input_list:\n",
    "        if item not in unique_list:\n",
    "            unique_list.append(item)\n",
    "    \n",
    "    return unique_list"
   ]
  },
  {
   "cell_type": "code",
   "execution_count": 5,
   "id": "fe7a7be1-8210-445a-8f32-7b055a1adf93",
   "metadata": {},
   "outputs": [
    {
     "name": "stdout",
     "output_type": "stream",
     "text": [
      "Original List: [1, 2, 2, 3, 4, 4, 5, 6, 6, 7]\n",
      "List with Duplicates Removed: [1, 2, 3, 4, 5, 6, 7]\n"
     ]
    }
   ],
   "source": [
    "unique_list = remove_duplicates(my_list)\n",
    "\n",
    "print(\"Original List:\", my_list)\n",
    "print(\"List with Duplicates Removed:\", unique_list)"
   ]
  },
  {
   "cell_type": "markdown",
   "id": "eda5bd48-dde3-483f-a227-5371179d29ae",
   "metadata": {},
   "source": [
    "Create a Python program that counts the number of words in a sentence using a for loop."
   ]
  },
  {
   "cell_type": "code",
   "execution_count": 6,
   "id": "01115d6f-baf2-483b-9f9e-7daa445ee807",
   "metadata": {},
   "outputs": [
    {
     "name": "stdin",
     "output_type": "stream",
     "text": [
      "enter the sentence: my name is bikash\n"
     ]
    },
    {
     "name": "stdout",
     "output_type": "stream",
     "text": [
      "Word count: 4\n"
     ]
    }
   ],
   "source": [
    "a = str(input(\"enter the sentence:\"))\n",
    "words = a.split()\n",
    "word_count = 0\n",
    "\n",
    "# Iterate through the list of words using a for loop\n",
    "for word in words:\n",
    "    word_count += 1\n",
    "\n",
    "# Print the word count\n",
    "print(\"Word count:\", word_count)\n"
   ]
  },
  {
   "cell_type": "markdown",
   "id": "5c4a8478-c400-4bac-aa18-692720d959ef",
   "metadata": {},
   "source": [
    "Write a Python program to find the sum of all odd numbers from 1 to 50 using a for loop."
   ]
  },
  {
   "cell_type": "code",
   "execution_count": 7,
   "id": "ce70614c-ede1-44db-99fc-e3c2134b89c2",
   "metadata": {},
   "outputs": [
    {
     "name": "stdout",
     "output_type": "stream",
     "text": [
      "sum value: 625\n"
     ]
    }
   ],
   "source": [
    "c=0\n",
    "for i in range(50):\n",
    "    if i % 2 != 0:\n",
    "        c=c+i\n",
    "print(\"sum value:\",c) "
   ]
  },
  {
   "cell_type": "markdown",
   "id": "e0b79480-4cc7-42ae-ae22-984dbe230e90",
   "metadata": {},
   "source": [
    "Write a Python program that checks if a given year is a leap year using a for loop."
   ]
  },
  {
   "cell_type": "code",
   "execution_count": 9,
   "id": "1944bbcf-392d-48c6-8e47-051139a0557c",
   "metadata": {},
   "outputs": [
    {
     "name": "stdout",
     "output_type": "stream",
     "text": [
      "2024 is a leap year.\n"
     ]
    }
   ],
   "source": [
    "def is_leap_year(year):\n",
    "    if (year % 4 == 0 and year % 100 != 0) or (year % 400 == 0):\n",
    "        return True\n",
    "    else:\n",
    "        return False\n",
    "\n",
    "year = 2024\n",
    "\n",
    "leap = False\n",
    "\n",
    "for y in range(1900, year + 1): \n",
    "    if is_leap_year(y):\n",
    "        leap = True\n",
    "\n",
    "if leap:\n",
    "    print(f\"{year} is a leap year.\")\n",
    "else:\n",
    "    print(f\"{year} is not a leap year.\")"
   ]
  },
  {
   "cell_type": "markdown",
   "id": "8ffc12dc-04a2-4aa1-bd0d-d864bf162627",
   "metadata": {},
   "source": [
    "Write a Python program to check if a number is positive, negative, or zero using an if-else statement."
   ]
  },
  {
   "cell_type": "code",
   "execution_count": 10,
   "id": "3399b84c-b749-47c8-bb73-0814633db1ba",
   "metadata": {},
   "outputs": [
    {
     "name": "stdin",
     "output_type": "stream",
     "text": [
      "enter the number 5\n"
     ]
    },
    {
     "name": "stdout",
     "output_type": "stream",
     "text": [
      "positive number\n"
     ]
    }
   ],
   "source": [
    "n= int(input(\"enter the number\"))\n",
    "if n>0:\n",
    "    print(\"positive number\")\n",
    "elif n==0:\n",
    "    print(\"it's zero\")\n",
    "else:\n",
    "    print(\"negetive number\")"
   ]
  },
  {
   "cell_type": "markdown",
   "id": "b2f205ab-8375-4b59-b51d-2f7d9da28692",
   "metadata": {},
   "source": [
    "Create a Python program that checks if a given number is even or odd using an if-else statement."
   ]
  },
  {
   "cell_type": "code",
   "execution_count": 11,
   "id": "326c8dfb-9016-4a27-b13f-ab3bfa0fc36e",
   "metadata": {},
   "outputs": [
    {
     "name": "stdin",
     "output_type": "stream",
     "text": [
      "enter the number 6\n"
     ]
    },
    {
     "name": "stdout",
     "output_type": "stream",
     "text": [
      "even number\n"
     ]
    }
   ],
   "source": [
    "n= int(input(\"enter the number\"))\n",
    "if n%2==0:\n",
    "    print(\"even number\")\n",
    "else:\n",
    "    print(\"odd number\")"
   ]
  },
  {
   "cell_type": "markdown",
   "id": "fe638899-449b-4a27-a9ed-60929c67e3e6",
   "metadata": {},
   "source": [
    "Write a Python program to determine the largest of three numbers using if-else."
   ]
  },
  {
   "cell_type": "code",
   "execution_count": 1,
   "id": "28142713-6d7c-4749-9584-cae765b475aa",
   "metadata": {},
   "outputs": [
    {
     "name": "stdin",
     "output_type": "stream",
     "text": [
      "enter the number 6\n",
      "enter the number 5\n",
      "enter the number 7\n"
     ]
    },
    {
     "name": "stdout",
     "output_type": "stream",
     "text": [
      "max number: 7\n"
     ]
    }
   ],
   "source": [
    "a= int(input(\"enter the number\"))\n",
    "b= int(input(\"enter the number\"))\n",
    "c= int(input(\"enter the number\"))\n",
    "if a > b:\n",
    "    if a > c:\n",
    "        print(\"max number:\",a)\n",
    "    else:\n",
    "        print(\"max number:\",c)\n",
    "elif b>a:\n",
    "    if b>c:\n",
    "        print(\"max number:\",b)\n",
    "    else:\n",
    "        print(\"max number:\",c)\n",
    "elif c>a:\n",
    "    if c>b:\n",
    "        print(\"max number:\",c)\n",
    "    else:\n",
    "         print(\"max number:\",b)\n"
   ]
  },
  {
   "cell_type": "markdown",
   "id": "07126ac3-f019-411e-951e-3b919dc2d73d",
   "metadata": {},
   "source": [
    "Write a Python program that calculates the absolute value of a number using if-else."
   ]
  },
  {
   "cell_type": "code",
   "execution_count": 2,
   "id": "f517d9f7-b2b1-480c-8ab8-45df13ece3e5",
   "metadata": {},
   "outputs": [
    {
     "name": "stdout",
     "output_type": "stream",
     "text": [
      "The absolute value of -5 is 5\n"
     ]
    }
   ],
   "source": [
    "def absolute_value(number):\n",
    "    if number < 0:\n",
    "        return -number\n",
    "    else:\n",
    "        return number\n",
    "\n",
    "# Example usage:\n",
    "num = -5\n",
    "abs_value = absolute_value(num)\n",
    "print(f\"The absolute value of {num} is {abs_value}\")"
   ]
  },
  {
   "cell_type": "markdown",
   "id": "9ddac781-86e4-4520-8e59-abfa6bc29d20",
   "metadata": {},
   "source": [
    "Create a Python program that checks if a given character is a vowel or consonant using if-else."
   ]
  },
  {
   "cell_type": "code",
   "execution_count": 3,
   "id": "f22b2a80-2689-4c36-ac8f-f5fd17b9aa8b",
   "metadata": {},
   "outputs": [
    {
     "name": "stdin",
     "output_type": "stream",
     "text": [
      "enter a character: h\n"
     ]
    },
    {
     "name": "stdout",
     "output_type": "stream",
     "text": [
      "it is not a vowel\n"
     ]
    }
   ],
   "source": [
    "n=input(\"enter a character:\")\n",
    "l='aeiouAEIOU'\n",
    "if n in l:\n",
    "    print(\"it is a vowel\")\n",
    "else:\n",
    "    print(\"it is not a vowel\")"
   ]
  },
  {
   "cell_type": "markdown",
   "id": "78ed95f0-010e-48cf-b2be-e05b3951fb38",
   "metadata": {},
   "source": [
    "Write a Python program to determine if a user is eligible to vote based on their age using if-else."
   ]
  },
  {
   "cell_type": "code",
   "execution_count": 4,
   "id": "d555792e-8113-4db4-836b-e2c84d09c5a8",
   "metadata": {},
   "outputs": [
    {
     "name": "stdin",
     "output_type": "stream",
     "text": [
      "please enter your age: 19\n"
     ]
    },
    {
     "name": "stdout",
     "output_type": "stream",
     "text": [
      "you are eligible for vote\n"
     ]
    }
   ],
   "source": [
    "age = int(input(\"please enter your age:\"))\n",
    "if age>=18:\n",
    "    print(\"you are eligible for vote\")\n",
    "else:\n",
    "    print(\"you are not eligible for vote\") "
   ]
  },
  {
   "cell_type": "markdown",
   "id": "5a317e63-be68-40a0-945f-548e25c5b623",
   "metadata": {},
   "source": [
    "Create a Python program that calculates the discount amount based on the purchase amount using if-else."
   ]
  },
  {
   "cell_type": "code",
   "execution_count": 1,
   "id": "dec28f5c-4f1c-482f-aff7-2303260021c2",
   "metadata": {},
   "outputs": [
    {
     "name": "stdin",
     "output_type": "stream",
     "text": [
      "enter the total cost: 1500\n"
     ]
    },
    {
     "name": "stdout",
     "output_type": "stream",
     "text": [
      "your shopping cost is: 1325.0\n"
     ]
    }
   ],
   "source": [
    "try:\n",
    "    a=int(input(\"enter the total cost:\"))\n",
    "    slab1 = 0.10\n",
    "    slab2 = 0.15\n",
    "    slab3 = 0.20\n",
    "    if a<=1000:\n",
    "        cost = a-(a * slab1)\n",
    "    elif a<= 2000:\n",
    "        cost = a-((1000*slab1)+((a-1000)*slab2))\n",
    "    else:\n",
    "        cost = a-((1000*slab1)+(1000*slab2)+((a-2000)*slab3))\n",
    "    print(f\"your shopping cost is: {cost}\")\n",
    "except Exception as e:\n",
    "    print(e)"
   ]
  },
  {
   "cell_type": "markdown",
   "id": "13ece92f-7764-4132-a509-e6dbbd5340b9",
   "metadata": {},
   "source": [
    "Write a Python program to check if a number is within a specified range using if-else."
   ]
  },
  {
   "cell_type": "code",
   "execution_count": 1,
   "id": "889d0db4-9b64-44e1-9a81-1fe488b5e6c9",
   "metadata": {},
   "outputs": [
    {
     "name": "stdout",
     "output_type": "stream",
     "text": [
      "25 is within the range [10, 50].\n"
     ]
    }
   ],
   "source": [
    "def is_in_range(number, lower_limit, upper_limit):\n",
    "    if lower_limit <= number <= upper_limit:\n",
    "        return True\n",
    "    else:\n",
    "        return False\n",
    "\n",
    "num = 25\n",
    "lower_limit = 10\n",
    "upper_limit = 50\n",
    "\n",
    "if is_in_range(num, lower_limit, upper_limit):\n",
    "    print(f\"{num} is within the range [{lower_limit}, {upper_limit}].\")\n",
    "else:\n",
    "    print(f\"{num} is not within the range [{lower_limit}, {upper_limit}].\")"
   ]
  },
  {
   "cell_type": "markdown",
   "id": "94fa07a5-2b8b-48cf-afaa-372e0cc1b392",
   "metadata": {},
   "source": [
    "Create a Python program that determines the grade of a student based on their score using if-else."
   ]
  },
  {
   "cell_type": "code",
   "execution_count": 2,
   "id": "8f504abd-5a1b-44ad-978d-102f8c9349fc",
   "metadata": {},
   "outputs": [
    {
     "name": "stdin",
     "output_type": "stream",
     "text": [
      "enter the number 95\n"
     ]
    },
    {
     "name": "stdout",
     "output_type": "stream",
     "text": [
      "A+ grade\n"
     ]
    }
   ],
   "source": [
    "a= int(input(\"enter the number\"))\n",
    "if a >= 90:\n",
    "    print(\"A+ grade\")\n",
    "elif a >=75:\n",
    "    print(\"A grade\")\n",
    "elif a >=50:\n",
    "    print(\"B grade\")\n",
    "else:\n",
    "    print(\"C grade\")"
   ]
  },
  {
   "cell_type": "markdown",
   "id": "44f7fe11-13df-4a39-aa78-819cfe15e3a3",
   "metadata": {},
   "source": [
    "Write a Python program to check if a string is empty or not using if-else."
   ]
  },
  {
   "cell_type": "code",
   "execution_count": 3,
   "id": "87f8f1f2-13a9-4803-98bb-bf1bbe575816",
   "metadata": {},
   "outputs": [
    {
     "name": "stdout",
     "output_type": "stream",
     "text": [
      "String 1 is not empty.\n",
      "String 2 is empty.\n"
     ]
    }
   ],
   "source": [
    "def is_string_empty(input_string):\n",
    "    if input_string:\n",
    "        return False  \n",
    "    else:\n",
    "        return True  \n",
    "\n",
    "string1 = \"Hello, World!\"\n",
    "string2 = \"\"\n",
    "\n",
    "if is_string_empty(string1):\n",
    "    print(\"String 1 is empty.\")\n",
    "else:\n",
    "    print(\"String 1 is not empty.\")\n",
    "\n",
    "if is_string_empty(string2):\n",
    "    print(\"String 2 is empty.\")\n",
    "else:\n",
    "    print(\"String 2 is not empty.\")\n"
   ]
  },
  {
   "cell_type": "markdown",
   "id": "af1efef7-a3d2-496b-b1c0-cddcbc450b0a",
   "metadata": {},
   "source": [
    "create a Python program that identifies the type of a triangle (e.g., equilateral, isosceles, or scalene) based on input values using if-else."
   ]
  },
  {
   "cell_type": "code",
   "execution_count": 4,
   "id": "5036fce5-5732-45a4-b601-3a23f096ddab",
   "metadata": {},
   "outputs": [
    {
     "name": "stdin",
     "output_type": "stream",
     "text": [
      "enter the number 4\n",
      "enter the number 5\n",
      "enter the number 6\n"
     ]
    },
    {
     "name": "stdout",
     "output_type": "stream",
     "text": [
      "it is an scalene triangle\n"
     ]
    }
   ],
   "source": [
    "a= int(input(\"enter the number\"))\n",
    "b= int(input(\"enter the number\"))\n",
    "c= int(input(\"enter the number\"))\n",
    "if a+b>c or b+c>a or c+a>b:\n",
    "    if (a==b==c):\n",
    "        print(\"it is an equilateral triangle\")\n",
    "    elif a==b or b==c or c==a:\n",
    "        print(\"it is an isosceles triangle\")\n",
    "    elif a!=b!=c:\n",
    "        print(\"it is an scalene triangle\")\n",
    "else:\n",
    "    print(\"it's not a triangle\")"
   ]
  },
  {
   "cell_type": "markdown",
   "id": "9a9d2233-1be5-417b-9081-f4bcbdf68f90",
   "metadata": {},
   "source": [
    "Write a Python program to determine the day of the week based on a user-provided number using if-else."
   ]
  },
  {
   "cell_type": "code",
   "execution_count": 5,
   "id": "e0924696-01ae-4104-9cbd-9e0ca9242128",
   "metadata": {},
   "outputs": [
    {
     "name": "stdin",
     "output_type": "stream",
     "text": [
      "Enter a number (1-7) to determine the day of the week:  3\n"
     ]
    },
    {
     "name": "stdout",
     "output_type": "stream",
     "text": [
      "The day corresponding to the number 3 is Wednesday.\n"
     ]
    }
   ],
   "source": [
    "days = [\"Monday\", \"Tuesday\", \"Wednesday\", \"Thursday\", \"Friday\", \"Saturday\", \"Sunday\"]\n",
    "\n",
    "day_number = int(input(\"Enter a number (1-7) to determine the day of the week: \"))\n",
    "\n",
    "if 1 <= day_number <= 7:\n",
    "    day = days[day_number - 1]\n",
    "    print(f\"The day corresponding to the number {day_number} is {day}.\")\n",
    "else:\n",
    "    print(\"Invalid input.\")"
   ]
  },
  {
   "cell_type": "markdown",
   "id": "a8070185-28c4-444f-a92c-76b07400dbb8",
   "metadata": {},
   "source": [
    "Create a Python program that checks if a given year is a leap year using both if-else and a function."
   ]
  },
  {
   "cell_type": "code",
   "execution_count": 9,
   "id": "0727c877-95fc-452c-9919-a6abf199ecda",
   "metadata": {},
   "outputs": [],
   "source": [
    "def is_leap_year(year):\n",
    "    if (year % 4 == 0 and year % 100 != 0) or (year % 400 == 0):\n",
    "        return True\n",
    "    else:\n",
    "        return False\n"
   ]
  },
  {
   "cell_type": "code",
   "execution_count": 10,
   "id": "dd2f4e9e-d015-4cfa-adb5-453ee8e325fc",
   "metadata": {},
   "outputs": [
    {
     "name": "stdin",
     "output_type": "stream",
     "text": [
      "Enter a year:  2020\n"
     ]
    },
    {
     "name": "stdout",
     "output_type": "stream",
     "text": [
      "2020 is a leap year.\n"
     ]
    }
   ],
   "source": [
    "year = int(input(\"Enter a year: \"))\n",
    "\n",
    "if is_leap_year(year):\n",
    "    print(f\"{year} is a leap year.\")\n",
    "else:\n",
    "    print(f\"{year} is not a leap year.\")\n"
   ]
  },
  {
   "cell_type": "markdown",
   "id": "cb3dcb18-71da-4b76-9094-054ad541ec69",
   "metadata": {},
   "source": [
    "How do you use the \"assert\" statement in Python to add debugging checks within if-else blocks?"
   ]
  },
  {
   "cell_type": "code",
   "execution_count": 21,
   "id": "b18acbce-9166-429a-ab17-591e4150e694",
   "metadata": {},
   "outputs": [
    {
     "name": "stdout",
     "output_type": "stream",
     "text": [
      "Result of division: 1.0\n"
     ]
    }
   ],
   "source": [
    "def divide(a, b):\n",
    "    assert b != 0, \"Division by zero is not allowed\"\n",
    "    result = a / b\n",
    "    return result\n",
    "\n",
    "numerator = 10\n",
    "denominator = 10  # Change this value to see the assertion in action\n",
    "if denominator == 0:\n",
    "    print(\"Denominator is zero.\")\n",
    "else:\n",
    "    result= divide(numerator, denominator)\n",
    "    print(f\"Result of division: {result}\")"
   ]
  },
  {
   "cell_type": "markdown",
   "id": "7617c313-eb00-492f-bba0-6289f0220616",
   "metadata": {},
   "source": [
    "Create a Python program that determines the eligibility of a person for a senior citizen discount based on age using if-else."
   ]
  },
  {
   "cell_type": "code",
   "execution_count": 1,
   "id": "163acb23-6738-41dc-aedf-83f193092b44",
   "metadata": {},
   "outputs": [],
   "source": [
    "def senior(a):\n",
    "    if a >60:\n",
    "        print(\"you are eligible\")\n",
    "    else:\n",
    "        print(\"you are not eligible\")"
   ]
  },
  {
   "cell_type": "code",
   "execution_count": 2,
   "id": "b5c2ef98-e58d-422c-93a4-be5cc8bc39da",
   "metadata": {},
   "outputs": [
    {
     "name": "stdin",
     "output_type": "stream",
     "text": [
      "enter the age: 62\n"
     ]
    },
    {
     "name": "stdout",
     "output_type": "stream",
     "text": [
      "you are eligible\n"
     ]
    }
   ],
   "source": [
    "age =int(input(\"enter the age:\"))\n",
    "senior(age)"
   ]
  },
  {
   "cell_type": "markdown",
   "id": "d29a7928-ee0e-4673-95d4-4103fb9a3188",
   "metadata": {},
   "source": [
    "Write a Python program to categorize a given character as uppercase, lowercase, or neither using if-else."
   ]
  },
  {
   "cell_type": "code",
   "execution_count": 1,
   "id": "924bfe7f-12f6-432e-a75c-f2266328297c",
   "metadata": {},
   "outputs": [],
   "source": [
    "def categorize_character(char):\n",
    "    if char.isupper():\n",
    "        return \"Uppercase\"\n",
    "    elif char.islower():\n",
    "        return \"Lowercase\"\n",
    "    else:\n",
    "        return \"Neither uppercase nor lowercase\"\n"
   ]
  },
  {
   "cell_type": "code",
   "execution_count": 2,
   "id": "1535f3f9-5f26-4dc0-8e8c-5193c38a35b1",
   "metadata": {},
   "outputs": [
    {
     "name": "stdout",
     "output_type": "stream",
     "text": [
      "The character 'A' is Uppercase\n"
     ]
    }
   ],
   "source": [
    "character = 'A'\n",
    "category = categorize_character(character)\n",
    "print(f\"The character '{character}' is {category}\")"
   ]
  },
  {
   "cell_type": "markdown",
   "id": "0bbcfacb-5fbc-4b89-8e60-38c6439c20cf",
   "metadata": {},
   "source": [
    "Write a Python program to determine the roots of a quadratic equation using if-else."
   ]
  },
  {
   "cell_type": "code",
   "execution_count": 3,
   "id": "4050cfe1-4df0-4b82-acc3-4185d2409771",
   "metadata": {},
   "outputs": [
    {
     "name": "stdin",
     "output_type": "stream",
     "text": [
      "Enter coefficient a:  2\n",
      "Enter coefficient b:  3\n",
      "Enter coefficient c:  4\n"
     ]
    },
    {
     "name": "stdout",
     "output_type": "stream",
     "text": [
      "Root 1: -0.75 + 1.1989578808281798i\n",
      "Root 2: -0.75 - 1.1989578808281798i\n"
     ]
    }
   ],
   "source": [
    "import math\n",
    "\n",
    "a = float(input(\"Enter coefficient a: \"))\n",
    "b = float(input(\"Enter coefficient b: \"))\n",
    "c = float(input(\"Enter coefficient c: \"))\n",
    "\n",
    "d = b**2 - 4*a*c\n",
    "\n",
    "if d > 0:\n",
    "    root1 = (-b + math.sqrt(d)) / (2*a)\n",
    "    root2 = (-b - math.sqrt(d)) / (2*a)\n",
    "    print(f\"Root 1: {root1}\")\n",
    "    print(f\"Root 2: {root2}\")\n",
    "elif d == 0:\n",
    "    root = -b / (2*a)\n",
    "    print(f\"Root: {root}\")\n",
    "else:\n",
    "    real_part = -b / (2*a)\n",
    "    imaginary_part = math.sqrt(abs(d)) / (2*a)\n",
    "    print(f\"Root 1: {real_part} + {imaginary_part}i\")\n",
    "    print(f\"Root 2: {real_part} - {imaginary_part}i\")"
   ]
  },
  {
   "cell_type": "markdown",
   "id": "c0064137-e6e0-482e-86c8-5a3f6b6fd385",
   "metadata": {},
   "source": [
    "Create a Python program that checks if a given year is a century year or not using if-else."
   ]
  },
  {
   "cell_type": "code",
   "execution_count": 5,
   "id": "b6460c4d-e389-44d2-985d-75962514bc49",
   "metadata": {},
   "outputs": [
    {
     "name": "stdout",
     "output_type": "stream",
     "text": [
      "2000 is a century year.\n"
     ]
    }
   ],
   "source": [
    "def century_year(year):\n",
    "    if year % 100 == 0:\n",
    "        return True\n",
    "    else:\n",
    "        return False\n",
    "#Driver code\n",
    "year = 2000\n",
    "if century_year(year):\n",
    "    print(f\"{year} is a century year.\")\n",
    "else:\n",
    "    print(f\"{year} is not a century year.\")"
   ]
  },
  {
   "cell_type": "markdown",
   "id": "3db4dbc0-0b79-40bc-b0df-87583f583059",
   "metadata": {},
   "source": [
    "Write a Python program to determine if a given number is a perfect square using if-else."
   ]
  },
  {
   "cell_type": "code",
   "execution_count": 6,
   "id": "dd022f5c-7096-4b58-9f63-5895079bcbe7",
   "metadata": {},
   "outputs": [
    {
     "name": "stdout",
     "output_type": "stream",
     "text": [
      "25 is a perfect square.\n"
     ]
    }
   ],
   "source": [
    "import math\n",
    "\n",
    "def is_perfect_square(number):\n",
    "    # Check if the square root is an integer\n",
    "    sqrt_value = math.sqrt(number)\n",
    "    if sqrt_value.is_integer():\n",
    "        return True\n",
    "    else:\n",
    "        return False\n",
    "\n",
    "# Example usage:\n",
    "num = 25\n",
    "if is_perfect_square(num):\n",
    "    print(f\"{num} is a perfect square.\")\n",
    "else:\n",
    "    print(f\"{num} is not a perfect square.\")"
   ]
  },
  {
   "cell_type": "markdown",
   "id": "8ecdeb4d-e674-48f1-93e5-4eac58279de5",
   "metadata": {},
   "source": [
    "Create a Python program that calculates the BMI (Body Mass Index) of a person based on their weight and height using if-else."
   ]
  },
  {
   "cell_type": "code",
   "execution_count": 7,
   "id": "5935fbc4-de57-4ed6-b000-d7a8f4e9ad01",
   "metadata": {},
   "outputs": [
    {
     "name": "stdout",
     "output_type": "stream",
     "text": [
      "Weight: 70 kg\n",
      "Height: 175 cm\n",
      "BMI: 22.86\n",
      "Category: Normal weight\n"
     ]
    }
   ],
   "source": [
    "def calculate_bmi(weight, height):\n",
    "    # Convert height from centimeters to meters\n",
    "    height_in_meters = height / 100.0\n",
    "\n",
    "    # Calculate BMI\n",
    "    bmi = weight / (height_in_meters ** 2)\n",
    "\n",
    "    return bmi\n",
    "\n",
    "def interpret_bmi(bmi):\n",
    "    if bmi < 18.5:\n",
    "        return \"Underweight\"\n",
    "    elif 18.5 <= bmi < 25:\n",
    "        return \"Normal weight\"\n",
    "    elif 25 <= bmi < 30:\n",
    "        return \"Overweight\"\n",
    "    else:\n",
    "        return \"Obese\"\n",
    "\n",
    "# Example usage:\n",
    "weight = 70 \n",
    "height = 175 \n",
    "\n",
    "bmi_value = calculate_bmi(weight, height)\n",
    "bmi_category = interpret_bmi(bmi_value)\n",
    "\n",
    "print(f\"Weight: {weight} kg\")\n",
    "print(f\"Height: {height} cm\")\n",
    "print(f\"BMI: {bmi_value:.2f}\")\n",
    "print(f\"Category: {bmi_category}\")"
   ]
  },
  {
   "cell_type": "markdown",
   "id": "3e9b78fb-0e91-4a68-b690-a0a17a14d994",
   "metadata": {},
   "source": [
    "Write a Python program to determine if a given number is prime or not using if-else."
   ]
  },
  {
   "cell_type": "code",
   "execution_count": 9,
   "id": "b3888c95-8690-407c-a09d-1997503dd1ce",
   "metadata": {},
   "outputs": [
    {
     "name": "stdin",
     "output_type": "stream",
     "text": [
      "enter the number:  5\n"
     ]
    },
    {
     "name": "stdout",
     "output_type": "stream",
     "text": [
      "prime number\n"
     ]
    }
   ],
   "source": [
    "a= int(input(\"enter the number: \"))\n",
    "c=0\n",
    "if a<2:\n",
    "    print(\"not a prime number\")\n",
    "elif a==2:\n",
    "    print(\"prime number\")\n",
    "else:\n",
    "    for i in range(2,a):\n",
    "        if a%i==0:\n",
    "            c+=1\n",
    "    if c>=1:\n",
    "        print(\"not a prime number\")\n",
    "    else:\n",
    "        print(\"prime number\")"
   ]
  },
  {
   "cell_type": "markdown",
   "id": "70226978-36dd-49e1-85aa-c9c7cb6a7fd2",
   "metadata": {},
   "source": [
    "Explain the purpose of the `map()` function in Python and provide an example of how it can be used to apply a function to each element of an iterable."
   ]
  },
  {
   "cell_type": "code",
   "execution_count": 10,
   "id": "e52df5cf-86bf-4044-935b-8ffa6dfcb21c",
   "metadata": {},
   "outputs": [
    {
     "data": {
      "text/plain": [
       "[7, 8, 9, 10, 91]"
      ]
     },
     "execution_count": 10,
     "metadata": {},
     "output_type": "execute_result"
    }
   ],
   "source": [
    "l=[5,6,7,8,89]\n",
    "list(map(lambda a:a+2,l))"
   ]
  },
  {
   "cell_type": "markdown",
   "id": "cd65a862-9457-4c82-84a3-bc4a9eb2d4f1",
   "metadata": {},
   "source": [
    "Write a Python program that uses the `map()` function to square each element of a list of numbers."
   ]
  },
  {
   "cell_type": "code",
   "execution_count": 11,
   "id": "532d8721-0883-4a88-8b73-746dd19f66d6",
   "metadata": {},
   "outputs": [
    {
     "data": {
      "text/plain": [
       "[25, 36, 49, 64, 121]"
      ]
     },
     "execution_count": 11,
     "metadata": {},
     "output_type": "execute_result"
    }
   ],
   "source": [
    "l=[5,6,7,8,11]\n",
    "list(map(lambda a:a**2,l))"
   ]
  },
  {
   "cell_type": "markdown",
   "id": "9f88d21f-9bad-4fb8-a326-96ec65a806bf",
   "metadata": {},
   "source": [
    "Create a Python program that uses the `map()` function to convert a list of names to uppercase."
   ]
  },
  {
   "cell_type": "code",
   "execution_count": 17,
   "id": "b54779e3-6dd4-4229-a583-5b8c0e253939",
   "metadata": {},
   "outputs": [],
   "source": [
    "a=[\"abc\",\"ghjl\",\"lmn\"]"
   ]
  },
  {
   "cell_type": "code",
   "execution_count": 3,
   "id": "4e20bdf0-d72a-431c-8a47-18ede0ca7986",
   "metadata": {},
   "outputs": [],
   "source": [
    "def uppercase(a):\n",
    "    k=a.upper()\n",
    "    return k"
   ]
  },
  {
   "cell_type": "code",
   "execution_count": 5,
   "id": "f04dbcad-8606-4e54-93cd-525a6e16f357",
   "metadata": {},
   "outputs": [
    {
     "data": {
      "text/plain": [
       "['ABC', 'GHJ', 'LMN']"
      ]
     },
     "execution_count": 5,
     "metadata": {},
     "output_type": "execute_result"
    }
   ],
   "source": [
    "list(map(uppercase,a))"
   ]
  },
  {
   "cell_type": "markdown",
   "id": "10b268ac-8c6b-43d0-b06f-e3c1674de056",
   "metadata": {},
   "source": [
    "Write a Python program that uses the `map()` function to calculate the length of each word in a list of strings."
   ]
  },
  {
   "cell_type": "code",
   "execution_count": 23,
   "id": "139b5c9c-42c3-46d0-9fe0-a1803dc0dfeb",
   "metadata": {},
   "outputs": [],
   "source": [
    "def lengthcount(a):\n",
    "    return len(a)"
   ]
  },
  {
   "cell_type": "code",
   "execution_count": 24,
   "id": "20358eba-db8d-4f5a-907c-a4c393844086",
   "metadata": {},
   "outputs": [
    {
     "data": {
      "text/plain": [
       "[3, 4, 3]"
      ]
     },
     "execution_count": 24,
     "metadata": {},
     "output_type": "execute_result"
    }
   ],
   "source": [
    "list(map(lengthcount,a))"
   ]
  },
  {
   "cell_type": "markdown",
   "id": "bef6aa33-c317-4ac3-b2b7-7210180cf1c0",
   "metadata": {},
   "source": [
    "How can you use the `map()` function to apply a custom function to elements of multiple lists simultaneously in Python?"
   ]
  },
  {
   "cell_type": "code",
   "execution_count": 1,
   "id": "56072a13-9921-4262-aef2-caec058d7cba",
   "metadata": {},
   "outputs": [
    {
     "name": "stdout",
     "output_type": "stream",
     "text": [
      "[12, 15, 18]\n"
     ]
    }
   ],
   "source": [
    "def custom_function(x, y, z):\n",
    "    # Your custom function logic here\n",
    "    return x + y + z\n",
    "\n",
    "# Example usage:\n",
    "list1 = [1, 2, 3]\n",
    "list2 = [4, 5, 6]\n",
    "list3 = [7, 8, 9]\n",
    "\n",
    "result = map(custom_function, list1, list2, list3)\n",
    "\n",
    "result_list = list(result)\n",
    "\n",
    "print(result_list)"
   ]
  },
  {
   "cell_type": "markdown",
   "id": "158a822d-360b-44aa-bd65-8a29e3b51f5a",
   "metadata": {},
   "source": [
    "Create a Python program that uses `map()` to convert a list of temperatures from Celsius to Fahrenheit."
   ]
  },
  {
   "cell_type": "code",
   "execution_count": 2,
   "id": "a973a5f0-bfb5-4d53-bfba-ca3243377e17",
   "metadata": {},
   "outputs": [
    {
     "name": "stdout",
     "output_type": "stream",
     "text": [
      "Celsius Temperatures: [0, 10, 20, 30, 40]\n",
      "Fahrenheit Temperatures: [32.0, 50.0, 68.0, 86.0, 104.0]\n"
     ]
    }
   ],
   "source": [
    "def celsius_to_fahrenheit(celsius):\n",
    "    return (9/5) * celsius + 32\n",
    "\n",
    "# Example usage:\n",
    "celsius_temperatures = [0, 10, 20, 30, 40]\n",
    "\n",
    "# Using map() to convert temperatures\n",
    "fahrenheit_temperatures = list(map(celsius_to_fahrenheit, celsius_temperatures))\n",
    "\n",
    "print(\"Celsius Temperatures:\", celsius_temperatures)\n",
    "print(\"Fahrenheit Temperatures:\", fahrenheit_temperatures)"
   ]
  },
  {
   "cell_type": "markdown",
   "id": "47447788-5c24-4bbc-9f25-14870caa6fd5",
   "metadata": {},
   "source": [
    "Write a Python program that uses the `map()` function to round each element of a list of floating-point numbers to the nearest integer."
   ]
  },
  {
   "cell_type": "code",
   "execution_count": 3,
   "id": "4c1afbf4-8f7a-40b8-a4ec-f3d3f8412fe7",
   "metadata": {},
   "outputs": [
    {
     "name": "stdout",
     "output_type": "stream",
     "text": [
      "Original Float Numbers: [3.14, 2.718, 1.5, 4.9, 6.75]\n",
      "Rounded Integers: [3, 3, 2, 5, 7]\n"
     ]
    }
   ],
   "source": [
    "def round_to_nearest_integer(number):\n",
    "    return round(number)\n",
    "\n",
    "# Example usage:\n",
    "float_numbers = [3.14, 2.718, 1.5, 4.9, 6.75]\n",
    "\n",
    "# Using map() to round each element to the nearest integer\n",
    "rounded_integers = list(map(round_to_nearest_integer, float_numbers))\n",
    "\n",
    "print(\"Original Float Numbers:\", float_numbers)\n",
    "print(\"Rounded Integers:\", rounded_integers)"
   ]
  },
  {
   "cell_type": "markdown",
   "id": "fb3fbd8a-a215-4a19-85f3-70fc996baa3b",
   "metadata": {},
   "source": [
    "What is the `reduce()` function in Python, and what module should you import to use it? Provide an example of its basic usage."
   ]
  },
  {
   "cell_type": "code",
   "execution_count": 1,
   "id": "d291aa59-4006-4726-a247-f20e5faba521",
   "metadata": {},
   "outputs": [
    {
     "name": "stdout",
     "output_type": "stream",
     "text": [
      "Original Numbers: [1, 2, 3, 4, 5]\n",
      "Product of Numbers: 120\n"
     ]
    }
   ],
   "source": [
    "from functools import reduce\n",
    "\n",
    "# Example: Calculating the product of elements in a list\n",
    "numbers = [1, 2, 3, 4, 5]\n",
    "\n",
    "# Using reduce() to calculate the product\n",
    "product = reduce(lambda x, y: x * y, numbers)\n",
    "\n",
    "print(\"Original Numbers:\", numbers)\n",
    "print(\"Product of Numbers:\", product)"
   ]
  },
  {
   "cell_type": "markdown",
   "id": "4b818b10-2880-4260-982a-c4be2aec269b",
   "metadata": {},
   "source": [
    "Write a Python program that uses the `reduce()` function to find the product of all elements in a list."
   ]
  },
  {
   "cell_type": "code",
   "execution_count": 2,
   "id": "11386ef2-c652-4cf7-8a41-2852beb8d3ae",
   "metadata": {},
   "outputs": [
    {
     "name": "stdout",
     "output_type": "stream",
     "text": [
      "Original Numbers: [1, 2, 3, 4, 5]\n",
      "Product of Numbers: 120\n"
     ]
    }
   ],
   "source": [
    "from functools import reduce\n",
    "\n",
    "# Example: Calculating the product of elements in a list\n",
    "numbers = [1, 2, 3, 4, 5]\n",
    "\n",
    "# Using reduce() to calculate the product\n",
    "product = reduce(lambda x, y: x * y, numbers)\n",
    "\n",
    "print(\"Original Numbers:\", numbers)\n",
    "print(\"Product of Numbers:\", product)"
   ]
  },
  {
   "cell_type": "markdown",
   "id": "3f455771-4ab8-4a9d-b219-8df1c141dc41",
   "metadata": {},
   "source": [
    "Create a Python program that uses `reduce()` to find the maximum element in a list of numbers."
   ]
  },
  {
   "cell_type": "code",
   "execution_count": 2,
   "id": "bab7cbc0-163f-421d-b949-22a315cf8d43",
   "metadata": {},
   "outputs": [
    {
     "data": {
      "text/plain": [
       "6"
      ]
     },
     "execution_count": 2,
     "metadata": {},
     "output_type": "execute_result"
    }
   ],
   "source": [
    "from functools import reduce\n",
    "l =[1,4,3,2,6,5]\n",
    "reduce(lambda a,b: a if a>b else b, l)"
   ]
  },
  {
   "cell_type": "markdown",
   "id": "4fc79913-acdc-4233-a231-b1ae2be77d7e",
   "metadata": {},
   "source": [
    "How can you use the `reduce()` function to concatenate a list of strings into a single string"
   ]
  },
  {
   "cell_type": "code",
   "execution_count": 4,
   "id": "9e226f80-e0a0-4fea-af54-84ead0b276d7",
   "metadata": {},
   "outputs": [
    {
     "data": {
      "text/plain": [
       "'abcdefghijk'"
      ]
     },
     "execution_count": 4,
     "metadata": {},
     "output_type": "execute_result"
    }
   ],
   "source": [
    "l =[\"abc\",\"defg\",\"hijk\"]\n",
    "reduce(lambda a,b: a+b, l)"
   ]
  },
  {
   "cell_type": "markdown",
   "id": "bd09f241-2126-41af-82d9-d8e587fa99e2",
   "metadata": {},
   "source": [
    "Write a Python program that calculates the factorial of a number using the `reduce()` function."
   ]
  },
  {
   "cell_type": "code",
   "execution_count": 20,
   "id": "83d04867-8c1c-417f-ad51-4715d9012e90",
   "metadata": {},
   "outputs": [
    {
     "data": {
      "text/plain": [
       "120"
      ]
     },
     "execution_count": 20,
     "metadata": {},
     "output_type": "execute_result"
    }
   ],
   "source": [
    "a=1\n",
    "n=5\n",
    "reduce(lambda a,b: a*b,[b for b in range(1,n+1)])"
   ]
  },
  {
   "cell_type": "markdown",
   "id": "60a80c5f-d8c3-4ad1-9ec2-aeb4b38e24ca",
   "metadata": {},
   "source": [
    "Create a Python program that uses `reduce()` to find the GCD (Greatest Common Divisor) of a list of numbers."
   ]
  },
  {
   "cell_type": "code",
   "execution_count": 1,
   "id": "6b410fcd-35dc-4f79-820e-755cdeb4b68e",
   "metadata": {},
   "outputs": [
    {
     "name": "stdout",
     "output_type": "stream",
     "text": [
      "The GCD of [48, 60, 72, 96] is: 12\n"
     ]
    }
   ],
   "source": [
    "from functools import reduce\n",
    "import math\n",
    "\n",
    "# Function to find the GCD of two numbers\n",
    "def find_gcd(x, y):\n",
    "    return math.gcd(x, y)\n",
    "\n",
    "# Function to find the GCD of a list of numbers using reduce()\n",
    "def gcd_of_list(numbers):\n",
    "    return reduce(find_gcd, numbers)\n",
    "\n",
    "# Example usage:\n",
    "number_list = [48, 60, 72, 96]\n",
    "\n",
    "# Find the GCD using the gcd_of_list function\n",
    "result_gcd = gcd_of_list(number_list)\n",
    "\n",
    "# Displaying the result\n",
    "print(f\"The GCD of {number_list} is: {result_gcd}\")"
   ]
  },
  {
   "cell_type": "markdown",
   "id": "1ecf762b-b476-4928-9601-17511677dfc2",
   "metadata": {},
   "source": [
    "Write a Python program that uses the `reduce()` function to find the sum of the digits of a given number."
   ]
  },
  {
   "cell_type": "code",
   "execution_count": 1,
   "id": "fd697f7a-14f9-4ad1-b0f3-8826273da64a",
   "metadata": {},
   "outputs": [
    {
     "name": "stdout",
     "output_type": "stream",
     "text": [
      "The sum of digits in 12345 is: 15\n"
     ]
    }
   ],
   "source": [
    "from functools import reduce\n",
    "\n",
    "# Function to find the sum of two digits\n",
    "def sum_digits(x, y):\n",
    "    return int(x) + int(y)\n",
    "\n",
    "def sum_of_digits(number):\n",
    "    number_str = str(number)\n",
    "    return reduce(sum_digits, number_str, 0)\n",
    "\n",
    "# Example usage:\n",
    "given_number = 12345\n",
    "\n",
    "# Find the sum of digits using the sum_of_digits function\n",
    "result_sum = sum_of_digits(given_number)\n",
    "\n",
    "# Displaying the result\n",
    "print(f\"The sum of digits in {given_number} is: {result_sum}\")"
   ]
  },
  {
   "cell_type": "markdown",
   "id": "3626ce06-5e69-473e-82b1-183edef151c5",
   "metadata": {},
   "source": [
    "Write a Python program that uses the `filter()` function to select even numbers from a list of integers."
   ]
  },
  {
   "cell_type": "code",
   "execution_count": 3,
   "id": "e283f269-a6ed-48cf-ba57-68c52910733c",
   "metadata": {},
   "outputs": [
    {
     "data": {
      "text/plain": [
       "[2, 4, 6]"
      ]
     },
     "execution_count": 3,
     "metadata": {},
     "output_type": "execute_result"
    }
   ],
   "source": [
    "lst = [3,2,5,4,7,6,1]\n",
    "list(filter(lambda a:a%2==0,lst))"
   ]
  },
  {
   "cell_type": "markdown",
   "id": "e696c6b3-928e-4a57-917c-d38f7419eafe",
   "metadata": {},
   "source": [
    "Create a Python program that uses the `filter()` function to select names that start with a specific letter from a list of strings"
   ]
  },
  {
   "cell_type": "code",
   "execution_count": 7,
   "id": "cbcaee32-c35f-43ec-9d61-6e0834978be4",
   "metadata": {},
   "outputs": [
    {
     "name": "stdout",
     "output_type": "stream",
     "text": [
      "Original List: ['abc', 'fgh', 'akl']\n",
      "Filtered List: ['abc', 'akl']\n"
     ]
    }
   ],
   "source": [
    "lst = [\"abc\", \"fgh\", \"akl\"]\n",
    "filtered_list = list(filter(lambda x: x[0] == \"a\", lst))\n",
    "\n",
    "print(\"Original List:\", lst)\n",
    "print(\"Filtered List:\", filtered_list)"
   ]
  },
  {
   "cell_type": "markdown",
   "id": "ae9561bf-88c6-437b-bee2-7648624e04cb",
   "metadata": {},
   "source": [
    "Write a Python program that uses the `filter()` function to select prime numbers from a list of integers."
   ]
  },
  {
   "cell_type": "code",
   "execution_count": 8,
   "id": "b048013e-1526-4592-be80-fcba595b336c",
   "metadata": {},
   "outputs": [
    {
     "name": "stdout",
     "output_type": "stream",
     "text": [
      "Original Numbers: [1, 2, 3, 4, 5, 6, 7, 8, 9, 10, 11, 12, 13, 14, 15]\n",
      "Filtered Prime Numbers: [2, 3, 5, 7, 11, 13]\n"
     ]
    }
   ],
   "source": [
    "def is_prime(n):\n",
    "    if n < 2:\n",
    "        return False\n",
    "    for i in range(2, int(n**0.5) + 1):\n",
    "        if n % i == 0:\n",
    "            return False\n",
    "    return True\n",
    "\n",
    "# Example usage of filter() to select prime numbers\n",
    "numbers = [1, 2, 3, 4, 5, 6, 7, 8, 9, 10, 11, 12, 13, 14, 15]\n",
    "\n",
    "filtered_prime_numbers = filter(is_prime, numbers)\n",
    "\n",
    "# Convert the result to a list (if needed)\n",
    "prime_numbers_list = list(filtered_prime_numbers)\n",
    "\n",
    "# Displaying the result\n",
    "print(\"Original Numbers:\", numbers)\n",
    "print(\"Filtered Prime Numbers:\", prime_numbers_list)"
   ]
  },
  {
   "cell_type": "markdown",
   "id": "09a71847-2510-44d1-a87a-d33b3fe5268b",
   "metadata": {},
   "source": [
    "Create a Python program that uses `filter()` to select words longer than a certain length from a list of strings."
   ]
  },
  {
   "cell_type": "code",
   "execution_count": 9,
   "id": "5a9072f4-8144-4266-8266-0a52e3dd21b9",
   "metadata": {},
   "outputs": [
    {
     "name": "stdout",
     "output_type": "stream",
     "text": [
      "Original List: ['abc', 'fghk', 'akl']\n",
      "Filtered List: ['fghk']\n"
     ]
    }
   ],
   "source": [
    "lst = [\"abc\", \"fghk\", \"akl\"]\n",
    "filtered_list = list(filter(lambda x: len(x) == 4, lst))\n",
    "\n",
    "print(\"Original List:\", lst)\n",
    "print(\"Filtered List:\", filtered_list)"
   ]
  },
  {
   "cell_type": "markdown",
   "id": "793c0fda-a87a-4c97-98e1-5b68b129cc5e",
   "metadata": {},
   "source": [
    "Write a Python program that uses the `filter()` function to select elements greater than a specified threshold from a list of values."
   ]
  },
  {
   "cell_type": "code",
   "execution_count": 10,
   "id": "1078c30e-0be0-443c-a386-0d10e5fb4d15",
   "metadata": {},
   "outputs": [
    {
     "name": "stdout",
     "output_type": "stream",
     "text": [
      "Original List: [1, 2, 3, 4, 5, 6, 7, 8, 9, 10, 11, 12, 13, 14, 15]\n",
      "Filtered List: [11, 12, 13, 14, 15]\n"
     ]
    }
   ],
   "source": [
    "lst = [1, 2, 3, 4, 5, 6, 7, 8, 9, 10, 11, 12, 13, 14, 15]\n",
    "filtered_list = list(filter(lambda x: x >10, lst))\n",
    "\n",
    "print(\"Original List:\", lst)\n",
    "print(\"Filtered List:\", filtered_list)"
   ]
  },
  {
   "cell_type": "markdown",
   "id": "a75929ed-bb55-453a-8976-e0674b5c0918",
   "metadata": {},
   "source": [
    "Write a Python program to calculate the factorial of a number using recursion."
   ]
  },
  {
   "cell_type": "code",
   "execution_count": 11,
   "id": "4d846a54-5823-4cc8-9e70-7b9cd28478fc",
   "metadata": {},
   "outputs": [
    {
     "name": "stdout",
     "output_type": "stream",
     "text": [
      "120\n"
     ]
    }
   ],
   "source": [
    "def factorial(n):\n",
    "    if n == 0 or n == 1:\n",
    "        return 1\n",
    "    return n * factorial(n-1)\n",
    "\n",
    "#driver code\n",
    "n=5\n",
    "result= factorial(n)\n",
    "print(result)"
   ]
  },
  {
   "cell_type": "markdown",
   "id": "73d8657e-24b7-455a-a597-ac290d2ae59c",
   "metadata": {},
   "source": [
    "Create a recursive Python function to find the nth Fibonacci number."
   ]
  },
  {
   "cell_type": "code",
   "execution_count": 13,
   "id": "9a0ed021-3169-448c-ab64-db131dd383c4",
   "metadata": {},
   "outputs": [
    {
     "name": "stdout",
     "output_type": "stream",
     "text": [
      "1\n"
     ]
    }
   ],
   "source": [
    "def fibonacci(n):\n",
    "    if n<2:\n",
    "        return n\n",
    "    else:\n",
    "        first=0\n",
    "        second=1\n",
    "        for i in range(2,n+1):\n",
    "            third = first + second\n",
    "            first = second\n",
    "            second = third\n",
    "        return second\n",
    "\n",
    "#driver code\n",
    "n=5\n",
    "result= fibonacci(n)\n",
    "print(result)"
   ]
  },
  {
   "cell_type": "markdown",
   "id": "85891101-6d7e-42fa-8821-56d109245f8d",
   "metadata": {},
   "source": [
    "Write a recursive Python function to calculate the sum of all elements in a list."
   ]
  },
  {
   "cell_type": "code",
   "execution_count": 1,
   "id": "8ce97107-3add-42c3-956c-3a76bcbc1295",
   "metadata": {},
   "outputs": [
    {
     "name": "stdout",
     "output_type": "stream",
     "text": [
      "The sum of the elements in the list is: 15\n"
     ]
    }
   ],
   "source": [
    "def sumelements(lst, index=0):\n",
    "    if index == len(lst):\n",
    "        return 0\n",
    "    else:\n",
    "        current_element = lst[index]\n",
    "        rest_of_the_list_sum = sumelements(lst, index + 1)\n",
    "        return current_element + rest_of_the_list_sum\n",
    "    \n",
    "#driver code\n",
    "my_list = [1, 2, 3, 4, 5]\n",
    "result = sumelements(my_list)\n",
    "\n",
    "print(f\"The sum of the elements in the list is: {result}\") "
   ]
  },
  {
   "cell_type": "markdown",
   "id": "4a452f66-883b-45e8-9c21-36f93ca2433c",
   "metadata": {},
   "source": [
    "Write a recursive Python function to reverse a string."
   ]
  },
  {
   "cell_type": "code",
   "execution_count": 1,
   "id": "04b0c2b7-44e5-43f0-98e2-02b56aa3bf88",
   "metadata": {},
   "outputs": [
    {
     "name": "stdout",
     "output_type": "stream",
     "text": [
      "The original string: hello\n",
      "The reversed string: olleh\n"
     ]
    }
   ],
   "source": [
    "def reverse_string_recursive(input_str):\n",
    "    # Base case: if the string is empty or has only one character, it's already reversed\n",
    "    if len(input_str) <= 1:\n",
    "        return input_str\n",
    "    else:\n",
    "        return reverse_string_recursive(input_str[1:]) + input_str[0]\n",
    "\n",
    "# Example usage:\n",
    "original_string = \"hello\"\n",
    "reversed_string = reverse_string_recursive(original_string)\n",
    "\n",
    "print(f\"The original string: {original_string}\")\n",
    "print(f\"The reversed string: {reversed_string}\")"
   ]
  },
  {
   "cell_type": "markdown",
   "id": "a4e8197f-6bc4-4dd0-a51e-45a6399bd357",
   "metadata": {},
   "source": [
    "Create a recursive Python function to calculate the power of a number (x^n)."
   ]
  },
  {
   "cell_type": "code",
   "execution_count": 2,
   "id": "c6a80822-cc88-487f-a093-c2897140fdf8",
   "metadata": {},
   "outputs": [
    {
     "name": "stdout",
     "output_type": "stream",
     "text": [
      "2 raised to the power of 3 is: 8\n"
     ]
    }
   ],
   "source": [
    "def power(x, n):\n",
    "    # Base case: x^0 is 1 for any x, and x^1 is x\n",
    "    if n == 0:\n",
    "        return 1\n",
    "    elif n == 1:\n",
    "        return x\n",
    "    else:\n",
    "        return x * power(x, n - 1)\n",
    "\n",
    "# Example usage:\n",
    "base = 2\n",
    "exponent = 3\n",
    "result = power(base, exponent)\n",
    "\n",
    "print(f\"{base} raised to the power of {exponent} is: {result}\")"
   ]
  },
  {
   "cell_type": "markdown",
   "id": "63bc8a3e-5adc-4476-9e8d-0b2c96e8ac7d",
   "metadata": {},
   "source": [
    "Write a recursive Python function to check if a string is a palindrome."
   ]
  },
  {
   "cell_type": "code",
   "execution_count": 2,
   "id": "ada09e25-210c-4dd3-a5e0-5e7166c3c150",
   "metadata": {},
   "outputs": [
    {
     "name": "stdout",
     "output_type": "stream",
     "text": [
      "radar is a palindrome.\n"
     ]
    }
   ],
   "source": [
    "def is_palindrome(s):\n",
    "    # Base case: an empty string or a string with a single character is a palindrome\n",
    "    if len(s) <= 1:\n",
    "        return True\n",
    "    else:\n",
    "        return s[0] == s[-1] and is_palindrome(s[1:-1])\n",
    "\n",
    "# Example usage:\n",
    "test_string = \"radar\"\n",
    "result = is_palindrome(test_string)\n",
    "\n",
    "if result:\n",
    "    print(f\"{test_string} is a palindrome.\")\n",
    "else:\n",
    "    print(f\"{test_string} is not a palindrome.\")"
   ]
  },
  {
   "cell_type": "markdown",
   "id": "d4e38e81-d14a-4729-b77c-cbb44e254b17",
   "metadata": {},
   "source": [
    "Write a Python program that defines a function to calculate the sum of two numbers and then calls the function."
   ]
  },
  {
   "cell_type": "code",
   "execution_count": 1,
   "id": "358d4f9e-bedb-4dc8-92ca-a4487479e75e",
   "metadata": {},
   "outputs": [
    {
     "name": "stdout",
     "output_type": "stream",
     "text": [
      "11\n"
     ]
    }
   ],
   "source": [
    "def add(a,b):\n",
    "    return a+b\n",
    "\n",
    "a=5\n",
    "b=6\n",
    "result = add(a,b)\n",
    "print(result)"
   ]
  },
  {
   "cell_type": "markdown",
   "id": "6251168f-4dfa-424a-8a97-933181f9b2f1",
   "metadata": {},
   "source": [
    "Create a Python function that takes two arguments and returns their product."
   ]
  },
  {
   "cell_type": "code",
   "execution_count": 2,
   "id": "5780db90-33c5-454f-b793-80bce331c63f",
   "metadata": {},
   "outputs": [
    {
     "name": "stdout",
     "output_type": "stream",
     "text": [
      "30\n"
     ]
    }
   ],
   "source": [
    "def mul(a,b):\n",
    "    return a*b\n",
    "\n",
    "a=5\n",
    "b=6\n",
    "result = mul(a,b)\n",
    "print(result)"
   ]
  },
  {
   "cell_type": "markdown",
   "id": "a83bb581-40ed-4e11-a791-1cc186816dc1",
   "metadata": {},
   "source": [
    "Write a Python program that uses lambda functions to sort a list of tuples based on the second element."
   ]
  },
  {
   "cell_type": "code",
   "execution_count": 1,
   "id": "52813377-0d50-492e-91bc-ba0009da4147",
   "metadata": {},
   "outputs": [
    {
     "name": "stdout",
     "output_type": "stream",
     "text": [
      "Original list of tuples: [(1, 4), (3, 2), (5, 8), (2, 7)]\n",
      "Sorted list based on the second element: [(3, 2), (1, 4), (2, 7), (5, 8)]\n"
     ]
    }
   ],
   "source": [
    "tuple_list = [(1, 4), (3, 2), (5, 8), (2, 7)]\n",
    "\n",
    "# Sorting the list of tuples based on the second element\n",
    "sorted_list = sorted(tuple_list, key=lambda x: x[1])\n",
    "\n",
    "# Displaying the sorted list\n",
    "print(\"Original list of tuples:\", tuple_list)\n",
    "print(\"Sorted list based on the second element:\", sorted_list)"
   ]
  },
  {
   "cell_type": "code",
   "execution_count": null,
   "id": "cdfec597-fa6b-48cd-954b-a00105b087a1",
   "metadata": {},
   "outputs": [],
   "source": []
  }
 ],
 "metadata": {
  "kernelspec": {
   "display_name": "Python 3 (ipykernel)",
   "language": "python",
   "name": "python3"
  },
  "language_info": {
   "codemirror_mode": {
    "name": "ipython",
    "version": 3
   },
   "file_extension": ".py",
   "mimetype": "text/x-python",
   "name": "python",
   "nbconvert_exporter": "python",
   "pygments_lexer": "ipython3",
   "version": "3.10.8"
  }
 },
 "nbformat": 4,
 "nbformat_minor": 5
}
