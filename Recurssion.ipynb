{
 "cells": [
  {
   "cell_type": "markdown",
   "id": "473950a4-041e-4e44-942a-063d56cdce91",
   "metadata": {},
   "source": [
    "Q.1 Can you explain the logic and working of the Tower of Hanoi algorithm by writing a Java program?\n",
    "How does the recursion work, and how are the movements of disks between rods accomplished?"
   ]
  },
  {
   "cell_type": "code",
   "execution_count": 2,
   "id": "96cc6ab1-517f-4ee5-a8e2-c5fd43af98a1",
   "metadata": {},
   "outputs": [
    {
     "name": "stdout",
     "output_type": "stream",
     "text": [
      "Move disk 1 from rod A to rod C\n",
      "Move disk 2 from rod A to rod B\n",
      "Move disk 1 from rod C to rod B\n",
      "Move disk 3 from rod A to rod C\n",
      "Move disk 1 from rod B to rod A\n",
      "Move disk 2 from rod B to rod C\n",
      "Move disk 1 from rod A to rod C\n"
     ]
    }
   ],
   "source": [
    "def tower_of_hanoi(n, source_rod, destination_rod, auxiliary_rod):\n",
    "    if n == 1:\n",
    "        print(f\"Move disk 1 from rod {source_rod} to rod {destination_rod}\")\n",
    "        return\n",
    "\n",
    "    tower_of_hanoi(n - 1, source_rod, auxiliary_rod, destination_rod)\n",
    "    print(f\"Move disk {n} from rod {source_rod} to rod {destination_rod}\")\n",
    "    tower_of_hanoi(n - 1, auxiliary_rod, destination_rod, source_rod)\n",
    "\n",
    "# Example usage with 3 disks\n",
    "tower_of_hanoi(3, 'A', 'C', 'B')"
   ]
  },
  {
   "cell_type": "markdown",
   "id": "686d5c09-a961-4256-8b56-2e572e4c3e69",
   "metadata": {},
   "source": [
    "Q.2 Given two strings word1 and word2, return the minimum number of operations required to convert word1\n",
    "to word2.\n",
    "Example 1:\n",
    "Input: word1 = \"horse\", word2 = \"ros\"\n",
    "Output: 3"
   ]
  },
  {
   "cell_type": "code",
   "execution_count": 1,
   "id": "b7d2d010-3bb8-4137-8e7a-f485b3794451",
   "metadata": {},
   "outputs": [
    {
     "name": "stdout",
     "output_type": "stream",
     "text": [
      "3\n"
     ]
    }
   ],
   "source": [
    "def min_distance(word1, word2):\n",
    "    return recursive_min_distance(word1, word2, len(word1), len(word2))\n",
    "\n",
    "def recursive_min_distance(word1, word2, m, n):\n",
    "    # Base cases\n",
    "    if m == 0:\n",
    "        return n  # Insert all characters in word2\n",
    "    if n == 0:\n",
    "        return m  # Delete all characters in word1\n",
    "\n",
    "    # If the characters match, no operation is needed\n",
    "    if word1[m - 1] == word2[n - 1]:\n",
    "        return recursive_min_distance(word1, word2, m - 1, n - 1)\n",
    "\n",
    "    # Explore all possible operations and find the minimum\n",
    "    return 1 + min(\n",
    "        recursive_min_distance(word1, word2, m - 1, n),       # Deletion\n",
    "        recursive_min_distance(word1, word2, m, n - 1),       # Insertion\n",
    "        recursive_min_distance(word1, word2, m - 1, n - 1)    # Substitution\n",
    "    )\n",
    "\n",
    "# Example\n",
    "word1 = \"horse\"\n",
    "word2 = \"ros\"\n",
    "result = min_distance(word1, word2)\n",
    "print(result)"
   ]
  },
  {
   "cell_type": "markdown",
   "id": "fa6f3be6-2a22-447c-a79e-a434ef242bb0",
   "metadata": {},
   "source": [
    "Q. 3 Print the max value of the array [ 13, 1, -3, 22, 5]."
   ]
  },
  {
   "cell_type": "code",
   "execution_count": 1,
   "id": "e97dcb9e-152f-494f-8931-8082a689849e",
   "metadata": {},
   "outputs": [
    {
     "name": "stdout",
     "output_type": "stream",
     "text": [
      "The maximum value in the array is: 22\n"
     ]
    }
   ],
   "source": [
    "def find_max_recursive(arr, n):\n",
    "    # Base case: if the array is empty, return a very small value\n",
    "    if n == 0:\n",
    "        return float('-inf')\n",
    "\n",
    "    max_of_rest = find_max_recursive(arr, n - 1)\n",
    "\n",
    "    # Compare the current element with the maximum of the rest\n",
    "    return max(arr[n - 1], max_of_rest)\n",
    "\n",
    "# Example usage\n",
    "array = [13, 1, -3, 22, 5]\n",
    "max_value = find_max_recursive(array, len(array))\n",
    "\n",
    "print(\"The maximum value in the array is:\", max_value)"
   ]
  },
  {
   "cell_type": "markdown",
   "id": "f451661b-7436-4180-b22f-16434ccd5c28",
   "metadata": {},
   "source": [
    "Q.4 Find the sum of the values of the array [92, 23, 15, -20, 10]."
   ]
  },
  {
   "cell_type": "code",
   "execution_count": 5,
   "id": "f91f2c94-5400-4f56-8eaa-c4c99c3f3243",
   "metadata": {},
   "outputs": [
    {
     "name": "stdout",
     "output_type": "stream",
     "text": [
      "The sum of the values in the array is: 120\n"
     ]
    }
   ],
   "source": [
    "def array_sum_recursive(arr, n):\n",
    "    # Base case: if the array is empty, return 0\n",
    "    if n == 0:\n",
    "        return 0\n",
    "\n",
    "    return arr[n - 1] + array_sum_recursive(arr, n - 1)\n",
    "\n",
    "# Example usage\n",
    "array = [92, 23, 15, -20, 10]\n",
    "sum_of_values = array_sum_recursive(array, len(array))\n",
    "\n",
    "print(\"The sum of the values in the array is:\", sum_of_values)"
   ]
  },
  {
   "cell_type": "markdown",
   "id": "c516f74b-acda-415f-ab3f-e2509e4105a3",
   "metadata": {},
   "source": [
    "Q.5 Given a number n. Print if it is an armstrong number or not.An armstrong number is a number if the sum\n",
    "of every digit in that number raised to the power of total digits in that number is equal to the number.\n",
    "Example : 153 = 1^3 + 5^3 + 3^3 = 1 + 125 + 27 = 153 hence 153 is an armstrong number. (Easy)"
   ]
  },
  {
   "cell_type": "code",
   "execution_count": 1,
   "id": "2e6775ef-9d8f-480a-a22c-ddcfe9148f1f",
   "metadata": {},
   "outputs": [
    {
     "name": "stdin",
     "output_type": "stream",
     "text": [
      "Enter a number:  153\n"
     ]
    },
    {
     "name": "stdout",
     "output_type": "stream",
     "text": [
      "153 is an Armstrong number.\n"
     ]
    }
   ],
   "source": [
    "def count_digits(n):\n",
    "    if n == 0:\n",
    "        return 0\n",
    "    return 1 + count_digits(n // 10)\n",
    "\n",
    "def is_armstrong(n):\n",
    "    total_digits = count_digits(n)\n",
    "    return n == armstrong_recursive(n, total_digits)\n",
    "\n",
    "def armstrong_recursive(n, total_digits):\n",
    "    if n == 0:\n",
    "        return 0\n",
    "    return (n % 10) ** total_digits + armstrong_recursive(n // 10, total_digits)\n",
    "\n",
    "# Example usage\n",
    "number = int(input(\"Enter a number: \"))\n",
    "if is_armstrong(number):\n",
    "    print(f\"{number} is an Armstrong number.\")\n",
    "else:\n",
    "    print(f\"{number} is not an Armstrong number.\")"
   ]
  },
  {
   "cell_type": "code",
   "execution_count": null,
   "id": "aca46f6c-caae-43f3-8430-dee91a9da53a",
   "metadata": {},
   "outputs": [],
   "source": []
  }
 ],
 "metadata": {
  "kernelspec": {
   "display_name": "Python 3 (ipykernel)",
   "language": "python",
   "name": "python3"
  },
  "language_info": {
   "codemirror_mode": {
    "name": "ipython",
    "version": 3
   },
   "file_extension": ".py",
   "mimetype": "text/x-python",
   "name": "python",
   "nbconvert_exporter": "python",
   "pygments_lexer": "ipython3",
   "version": "3.10.8"
  }
 },
 "nbformat": 4,
 "nbformat_minor": 5
}
