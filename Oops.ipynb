{
 "cells": [
  {
   "cell_type": "markdown",
   "id": "8894036a-5237-441d-981a-14d9101e2bc8",
   "metadata": {},
   "source": [
    "Problem 1: Bank Account Create a class representing a bank account with attributes like account number, account holder name, and balance. Implement methods to deposit and withdraw money from the account."
   ]
  },
  {
   "cell_type": "code",
   "execution_count": 10,
   "id": "cbbf3eb2-9355-49be-a22b-b1d5b3214d9d",
   "metadata": {},
   "outputs": [],
   "source": [
    "class bankaccount:\n",
    "    def account_num(self,acc_no):\n",
    "        print(\"this is your account number:\")\n",
    "        return acc_no\n",
    "    def account_holder(self,name):\n",
    "        print(\"this is your registered name for this account:\")\n",
    "        return name\n",
    "    def account_balance(self,balance,diposit,withdraw):\n",
    "        if diposit>0:\n",
    "            balance=balance+diposit\n",
    "            print(f\"this is your diposit amount:{diposit}\")\n",
    "            print(f\"this is your current balance:{balance}\")\n",
    "        elif withdraw>0:\n",
    "            balance=balance-withdraw\n",
    "            print(f\"this is your withdraw amount:{withdraw}\")\n",
    "            print(f\"this is your current balance:{balance}\")\n",
    "        else:\n",
    "            return balance"
   ]
  },
  {
   "cell_type": "code",
   "execution_count": 11,
   "id": "7e7d7853-2563-4a2b-a8b9-69e4b9358e1a",
   "metadata": {},
   "outputs": [],
   "source": [
    "bik=bankaccount()"
   ]
  },
  {
   "cell_type": "code",
   "execution_count": 14,
   "id": "5ab9f6db-e9c5-4bc3-a014-704af1017a6a",
   "metadata": {},
   "outputs": [
    {
     "name": "stdout",
     "output_type": "stream",
     "text": [
      "this is your diposit amount:1000\n",
      "this is your current balance:8000\n"
     ]
    }
   ],
   "source": [
    "bik.account_balance(7000,1000,0)"
   ]
  },
  {
   "cell_type": "code",
   "execution_count": 15,
   "id": "96ab2416-56b3-448e-9429-d3b3b1a5f969",
   "metadata": {},
   "outputs": [
    {
     "name": "stdout",
     "output_type": "stream",
     "text": [
      "this is your registered name for this account:\n"
     ]
    },
    {
     "data": {
      "text/plain": [
       "'Bikash'"
      ]
     },
     "execution_count": 15,
     "metadata": {},
     "output_type": "execute_result"
    }
   ],
   "source": [
    "bik.account_holder(\"Bikash\")"
   ]
  },
  {
   "cell_type": "markdown",
   "id": "17106fa9-4a80-4136-8bea-1e374a12989c",
   "metadata": {},
   "source": [
    "Problem 2: Employee Management Create a class representing an employee with attributes like employee ID, name, and salary. Implement methods to calculate the yearly bonus and display employee details."
   ]
  },
  {
   "cell_type": "code",
   "execution_count": 2,
   "id": "fedb4d15-e7e9-4ffc-a184-777cfff42bd5",
   "metadata": {},
   "outputs": [],
   "source": [
    "class employee:\n",
    "    def employee__details(self,name,employee_ID):\n",
    "        print(f\"employee name is: {name} and employee_ID is: {employee_ID}\")\n",
    "    def employee_salary(self,salary):\n",
    "        print(f\"employee salary is:{salary}\")\n",
    "    def employee_bonus(self,salary):\n",
    "        bonus=salary*0.10\n",
    "        print(f\"employee yearly bonus is:{bonus}\") "
   ]
  },
  {
   "cell_type": "code",
   "execution_count": 3,
   "id": "201bfa9b-cabf-471a-8524-e44f113df704",
   "metadata": {},
   "outputs": [],
   "source": [
    "k=employee()"
   ]
  },
  {
   "cell_type": "code",
   "execution_count": 4,
   "id": "b28e1669-8ab5-402e-923d-044898e67b79",
   "metadata": {},
   "outputs": [
    {
     "name": "stdout",
     "output_type": "stream",
     "text": [
      "employee yearly bonus is:46000.0\n"
     ]
    }
   ],
   "source": [
    "k.employee_bonus(460000)"
   ]
  },
  {
   "cell_type": "markdown",
   "id": "a9823216-f639-4940-bb99-f529c7319f89",
   "metadata": {},
   "source": [
    "Problem 3: Vehicle Rental Create a class representing a vehicle rental system. Implement methods to rent a vehicle, return a vehicle, and display available vehicles."
   ]
  },
  {
   "cell_type": "code",
   "execution_count": 13,
   "id": "0c9b1dc0-6b84-4292-a395-e60858d16f4f",
   "metadata": {},
   "outputs": [],
   "source": [
    "class vehicle:\n",
    "    def total_vic(self,total_vic_count):\n",
    "        return total_vic_count\n",
    "    def rent_vic(self,rent_vic_count):\n",
    "        return rent_vic_count\n",
    "    def return_vic(self,return_vic_count):\n",
    "        return return_vic_count\n",
    "    def available_vic(self,total_vic_count,rent_vic_count,return_vic_count):\n",
    "        if rent_vic_count>0 or return_vic_count>0:\n",
    "            available_vic= total_vic_count - (rent_vic_count - return_vic_count)\n",
    "            return available_vic\n",
    "        else:\n",
    "            available_vic = total_vic_count\n",
    "            return available_vic"
   ]
  },
  {
   "cell_type": "code",
   "execution_count": 14,
   "id": "9ece502f-a570-45f4-8dc1-7718ee99169a",
   "metadata": {},
   "outputs": [],
   "source": [
    "k=vehicle()"
   ]
  },
  {
   "cell_type": "code",
   "execution_count": 16,
   "id": "27f15827-f06e-4ff2-8fdb-78a7aff38a73",
   "metadata": {},
   "outputs": [
    {
     "data": {
      "text/plain": [
       "9"
      ]
     },
     "execution_count": 16,
     "metadata": {},
     "output_type": "execute_result"
    }
   ],
   "source": [
    "k.available_vic(10,3,2)"
   ]
  },
  {
   "cell_type": "markdown",
   "id": "27ee3255-7475-482f-977d-3e9c13f7a41f",
   "metadata": {},
   "source": [
    "Problem 4: Library Catalog Create classes representing a library and a book. Implement methods to add books to the library, borrow books, and display available books."
   ]
  },
  {
   "cell_type": "code",
   "execution_count": 13,
   "id": "5ad5a46d-b730-40cb-836f-2bef64c9994e",
   "metadata": {},
   "outputs": [],
   "source": [
    "class book:\n",
    "    def add_book(self, add_book_count):\n",
    "        return add_book_count\n",
    "    def borrow_book(self,borrow_book_count):\n",
    "        return borrow_book_count\n",
    "class library(book):\n",
    "    def available_books(self,avabl_books,add_book_count,borrow_book_count):\n",
    "        super().add_book(add_book_count)\n",
    "        super().borrow_book(borrow_book_count)\n",
    "        if add_book_count > 0:\n",
    "            avabl_books =avabl_books+add_book_count\n",
    "            return avabl_books\n",
    "        elif borrow_book_count>0:\n",
    "            avabl_books=avabl_books-borrow_book_count\n",
    "            return avabl_books\n",
    "        else:\n",
    "            return avabl_books"
   ]
  },
  {
   "cell_type": "code",
   "execution_count": 15,
   "id": "f8db8011-fbd6-4875-bdff-00fee9045308",
   "metadata": {},
   "outputs": [],
   "source": [
    "k=library()"
   ]
  },
  {
   "cell_type": "code",
   "execution_count": 16,
   "id": "f06adcab-ead4-4df5-9c19-26850eeab9e3",
   "metadata": {},
   "outputs": [
    {
     "data": {
      "text/plain": [
       "11"
      ]
     },
     "execution_count": 16,
     "metadata": {},
     "output_type": "execute_result"
    }
   ],
   "source": [
    "k.available_books(10,1,0)"
   ]
  },
  {
   "cell_type": "code",
   "execution_count": 17,
   "id": "5a625b3b-a7a2-448b-bffe-a05e903ecc39",
   "metadata": {},
   "outputs": [
    {
     "data": {
      "text/plain": [
       "9"
      ]
     },
     "execution_count": 17,
     "metadata": {},
     "output_type": "execute_result"
    }
   ],
   "source": [
    "k.available_books(10,0,1)"
   ]
  },
  {
   "cell_type": "markdown",
   "id": "ae9d692d-5523-425a-bfbc-0c89f831f458",
   "metadata": {},
   "source": [
    "Problem 5: Product Inventory Create classes representing a product and an inventory system. Implement methods to add products to the inventory, update product quantity, and display available products."
   ]
  },
  {
   "cell_type": "code",
   "execution_count": 1,
   "id": "c9fdb31f-72fd-4613-83b3-3f8c3c8c847b",
   "metadata": {},
   "outputs": [],
   "source": [
    "class Product:\n",
    "    def __init__(self, product_id, name, price, quantity):\n",
    "        self.product_id = product_id\n",
    "        self.name = name\n",
    "        self.price = price\n",
    "        self.quantity = quantity\n",
    "\n",
    "    def __str__(self):\n",
    "        return f\"Product ID: {self.product_id}, Name: {self.name}, Price: ${self.price}, Quantity: {self.quantity}\"\n",
    "\n",
    "\n",
    "class Inventory:\n",
    "    def __init__(self):\n",
    "        self.products = {}\n",
    "\n",
    "    def add_product(self, product):\n",
    "        if product.product_id in self.products:\n",
    "            print(\"Product already exists in the inventory.\")\n",
    "        else:\n",
    "            self.products[product.product_id] = product\n",
    "            print(f\"Product added to inventory: {product.name}\")\n",
    "\n",
    "    def update_quantity(self, product_id, new_quantity):\n",
    "        if product_id in self.products:\n",
    "            product = self.products[product_id]\n",
    "            product.quantity = new_quantity\n",
    "            print(f\"Quantity for {product.name} updated to {new_quantity}\")\n",
    "        else:\n",
    "            print(\"Product not found in the inventory.\")\n",
    "\n",
    "    def display_available_products(self):\n",
    "        if not self.products:\n",
    "            print(\"Inventory is empty.\")\n",
    "        else:\n",
    "            print(\"Available Products:\")\n",
    "            for product in self.products.values():\n",
    "                print(product)"
   ]
  },
  {
   "cell_type": "code",
   "execution_count": 2,
   "id": "fb137810-e988-444e-8ccd-deb13c56107d",
   "metadata": {},
   "outputs": [
    {
     "name": "stdout",
     "output_type": "stream",
     "text": [
      "Product added to inventory: Laptop\n",
      "Product added to inventory: Phone\n",
      "Product added to inventory: Tablet\n",
      "Quantity for Laptop updated to 5\n",
      "Available Products:\n",
      "Product ID: 1, Name: Laptop, Price: $800, Quantity: 5\n",
      "Product ID: 2, Name: Phone, Price: $400, Quantity: 20\n",
      "Product ID: 3, Name: Tablet, Price: $300, Quantity: 15\n"
     ]
    }
   ],
   "source": [
    "product1 = Product(1, \"Laptop\", 800, 10)\n",
    "product2 = Product(2, \"Phone\", 400, 20)\n",
    "product3 = Product(3, \"Tablet\", 300, 15)\n",
    "\n",
    "inventory = Inventory()\n",
    "\n",
    "inventory.add_product(product1)\n",
    "inventory.add_product(product2)\n",
    "inventory.add_product(product3)\n",
    "\n",
    "inventory.update_quantity(1, 5)\n",
    "\n",
    "inventory.display_available_products()"
   ]
  },
  {
   "cell_type": "markdown",
   "id": "346334ab-c477-40e8-b570-06daa7cd38a8",
   "metadata": {},
   "source": [
    "Problem 6: Shape Calculation Create a class representing a shape with attributes like length, width, and height. Implement methods to calculate the area and perimeter of the shape."
   ]
  },
  {
   "cell_type": "code",
   "execution_count": 32,
   "id": "0f76b1e7-95d8-419f-85d9-9f6ea668e5b1",
   "metadata": {},
   "outputs": [],
   "source": [
    "class shape:\n",
    "    def __init__(self, length, width, height):\n",
    "        self.length = length\n",
    "        self.width = width\n",
    "        self.height = height\n",
    "        \n",
    "    def Rectangle_area1(self):\n",
    "        rec_area=self.length * self.width\n",
    "        print(\"this is the area of the rectangle\")\n",
    "        return rec_area\n",
    "\n",
    "    def calculate_perimeter1(self):\n",
    "        rec_peri=2 * (self.length + self.width)\n",
    "        print(\"this is the perimeter of the rectangle\")\n",
    "        return rec_peri\n",
    "    \n",
    "    def Square_area(self):\n",
    "        sq_area=self.length*self.length\n",
    "        print(\"this is the area of the square\")\n",
    "        return sq_area\n",
    "    \n",
    "    def Triangle_area2(self):\n",
    "        s = (self.length + self.width + self.height) / 2\n",
    "        tri_area=(s * (s - self.length) * (s - self.width) * (s - self.height)) ** 0.5\n",
    "        print(\"this is the area of the triangle\")\n",
    "        return tri_area\n",
    "\n",
    "    def Triangle_perimeter2(self):\n",
    "        tri_peri=self.length + self.width + self.height\n",
    "        print(\"this is the perimeter of the triangle\")\n",
    "        return tri_peri"
   ]
  },
  {
   "cell_type": "code",
   "execution_count": 33,
   "id": "f1abdacf-f6e2-46a9-a29b-57027042bd39",
   "metadata": {},
   "outputs": [
    {
     "name": "stdout",
     "output_type": "stream",
     "text": [
      "this is the area of the rectangle\n"
     ]
    },
    {
     "data": {
      "text/plain": [
       "20"
      ]
     },
     "execution_count": 33,
     "metadata": {},
     "output_type": "execute_result"
    }
   ],
   "source": [
    "k=shape(4,5,6)\n",
    "k.Rectangle_area1()"
   ]
  },
  {
   "cell_type": "markdown",
   "id": "f6b6f534-9ecd-48da-ad1e-61705e4d00f2",
   "metadata": {},
   "source": [
    "Problem 7: Student Management Create a class representing a student with attributes like student ID, name, and grades. Implement methods to calculate the average grade and display student details."
   ]
  },
  {
   "cell_type": "code",
   "execution_count": 1,
   "id": "2379bdfc-7dfb-46d4-951c-6120a1751156",
   "metadata": {},
   "outputs": [],
   "source": [
    "class student:\n",
    "    def __init__(self,student_ID, name):\n",
    "        self.student_ID=student_ID\n",
    "        self.name=name\n",
    "        self.grades = []\n",
    "    def add_grades(self,grade):\n",
    "        self.grades.append(grade)\n",
    "    def avg_grade(self):\n",
    "        if len(self.grades) == 0:\n",
    "            return 0\n",
    "        else:\n",
    "            total= sum(self.grades)\n",
    "            average= total / len(self.grades)\n",
    "            return average\n",
    "    def display_student_details(self):\n",
    "        print(f\"Student ID: {self.student_ID}\")\n",
    "        print(f\"Name: {self.name}\")\n",
    "        print(\"Grades:\", self.grades)\n",
    "        #avg=self.avg_grade\n",
    "        #print(f\"Average Grade: {avg}\")\n",
    "        #return avg"
   ]
  },
  {
   "cell_type": "code",
   "execution_count": 4,
   "id": "d3739198-6838-4a59-a0e2-ee898d08852d",
   "metadata": {},
   "outputs": [
    {
     "name": "stdout",
     "output_type": "stream",
     "text": [
      "Student ID: 1\n",
      "Name: sudh\n",
      "Grades: [85, 92, 78]\n"
     ]
    }
   ],
   "source": [
    "student1 = student(1, \"sudh\")\n",
    "student1.add_grades(85)\n",
    "student1.add_grades(92)\n",
    "student1.add_grades(78)\n",
    "student1.avg_grade()\n",
    "student1.display_student_details()"
   ]
  },
  {
   "cell_type": "markdown",
   "id": "9e4f4d30-2208-4560-b59c-54baea7f85bd",
   "metadata": {},
   "source": [
    "Problem 8: Email Management Create a class representing an email with attributes like sender, recipient, and subject. Implement methods to send an email and display email details."
   ]
  },
  {
   "cell_type": "code",
   "execution_count": 1,
   "id": "3a109f52-2bea-4a3a-b776-7977ee423207",
   "metadata": {},
   "outputs": [],
   "source": [
    "class email:\n",
    "    def __init__(self,sender, recipient, subject, message):\n",
    "        self.sender=sender\n",
    "        self.recipient=recipient\n",
    "        self.subject=subject\n",
    "        self.message=message\n",
    "        self.sent=False\n",
    "        \n",
    "    def send_email(self):\n",
    "        self.sent=True\n",
    "        \n",
    "    def display(self):\n",
    "        print(\"Email Details:\")\n",
    "        print(f\"Sender: {self.sender}\")\n",
    "        print(f\"Recipient: {self.recipient}\")\n",
    "        print(f\"Subject: {self.subject}\")\n",
    "        print(\"Message:\")\n",
    "        print(self.message)\n",
    "        if self.sent:\n",
    "            print(\"Status: Sent\")\n",
    "        else:\n",
    "            print(\"Status: Draft\")"
   ]
  },
  {
   "cell_type": "code",
   "execution_count": 2,
   "id": "1f5ae85f-ebfd-4153-b288-f568782904b5",
   "metadata": {},
   "outputs": [
    {
     "name": "stdout",
     "output_type": "stream",
     "text": [
      "Email Details:\n",
      "Sender: sudh@example.com\n",
      "Recipient: bik@example.com\n",
      "Subject: Meeting\n",
      "Message:\n",
      "Hello sudh, let's meet at 2 PM.\n",
      "Status: Sent\n"
     ]
    }
   ],
   "source": [
    "email1 = email(\"sudh@example.com\", \"bik@example.com\", \"Meeting\", \"Hello sudh, let's meet at 2 PM.\")\n",
    "email1.send_email()\n",
    "email1.display()"
   ]
  },
  {
   "cell_type": "markdown",
   "id": "27e8e2e2-b0bf-47a3-91f0-779f1c689bb2",
   "metadata": {},
   "source": [
    "Problem 9: Social Media Profile Create a class representing a social media profile with attributes like username and posts. Implement methods to add posts, display posts, and search for posts by keyword."
   ]
  },
  {
   "cell_type": "code",
   "execution_count": 1,
   "id": "11c62e58-cc86-443a-9075-8f4e84edbc59",
   "metadata": {},
   "outputs": [],
   "source": [
    "class social_media:\n",
    "    def __init__(self,username):\n",
    "        self.username=username\n",
    "        self.posts=[]\n",
    "        self.match=[]\n",
    "    def add_post(self,post_content):\n",
    "        self.posts.append(post_content)\n",
    "    def display_post(self):\n",
    "        if not self.posts:\n",
    "            print(f\"{self.username}'s profile has no posts.\")\n",
    "        else:\n",
    "            for i,post in enumerate(self.posts):\n",
    "                print(f\"{i}, {post}\")\n",
    "    def search_post(self,keyword):\n",
    "        matching_posts = [post for post in self.posts if keyword in post]\n",
    "        if matching_posts: \n",
    "            for i in matching_posts: \n",
    "                self.match.append(i)\n",
    "            print(self.match)\n",
    "        else:\n",
    "            print(f\"No posts by {self.username} contain the keyword '{keyword}'.\")\n",
    "        \n",
    "                "
   ]
  },
  {
   "cell_type": "code",
   "execution_count": 2,
   "id": "6a306c1c-a980-4ee2-a021-6c0758d52793",
   "metadata": {},
   "outputs": [
    {
     "name": "stdout",
     "output_type": "stream",
     "text": [
      "0, Hello, world! This is my first post.\n",
      "1, I'm enjoying a beautiful day in the park.\n",
      "2, Hiking up a mountain this weekend!\n",
      "[\"I'm enjoying a beautiful day in the park.\"]\n"
     ]
    }
   ],
   "source": [
    "profile = social_media(\"Bik\")\n",
    "\n",
    "profile.add_post(\"Hello, world! This is my first post.\")\n",
    "profile.add_post(\"I'm enjoying a beautiful day in the park.\")\n",
    "profile.add_post(\"Hiking up a mountain this weekend!\")\n",
    "\n",
    "profile.display_post()\n",
    "\n",
    "profile.search_post(\"park\")\n",
    "   "
   ]
  },
  {
   "cell_type": "markdown",
   "id": "0a93ccea-271a-4895-b6f6-3bde514b8b8a",
   "metadata": {},
   "source": [
    "Problem 10: ToDo List Create a class representing a ToDo list with attributes like tasks and due dates. Implement methods to add tasks, mark tasks as completed, and display pending tasks."
   ]
  },
  {
   "cell_type": "code",
   "execution_count": 3,
   "id": "34bd031b-b898-4770-9e7e-c14fa4379e6c",
   "metadata": {},
   "outputs": [],
   "source": [
    "class ToDoList:\n",
    "    def __init__(self):\n",
    "        self.tasks = {}\n",
    "\n",
    "    def add_task(self, task, due_date):\n",
    "        self.tasks[task] = due_date\n",
    "\n",
    "    def mark_completed(self, task):\n",
    "        if task in self.tasks:\n",
    "            del self.tasks[task]\n",
    "            print(f\"Task '{task}' has been marked as completed.\")\n",
    "        else:\n",
    "            print(f\"Task '{task}' not found in the ToDo list.\")\n",
    "\n",
    "    def display_pending_tasks(self):\n",
    "        if not self.tasks:\n",
    "            print(\"No pending tasks.\")\n",
    "        else:\n",
    "            print(\"Pending tasks:\")\n",
    "            for task, due_date in self.tasks.items():\n",
    "                print(f\"- Task: {task}, Due Date: {due_date}\")\n"
   ]
  },
  {
   "cell_type": "code",
   "execution_count": 4,
   "id": "4526d2fe-fe8c-4e5c-a3c0-7c6a5214c3e6",
   "metadata": {},
   "outputs": [
    {
     "name": "stdout",
     "output_type": "stream",
     "text": [
      "Pending tasks:\n",
      "- Task: Buy groceries, Due Date: 2023-10-25\n",
      "- Task: Finish the report, Due Date: 2023-10-20\n",
      "- Task: Call the dentist, Due Date: 2023-11-05\n",
      "Task 'Finish the report' has been marked as completed.\n",
      "Pending tasks:\n",
      "- Task: Buy groceries, Due Date: 2023-10-25\n",
      "- Task: Call the dentist, Due Date: 2023-11-05\n"
     ]
    }
   ],
   "source": [
    "my_todo_list = ToDoList()\n",
    "\n",
    "my_todo_list.add_task(\"Buy groceries\", \"2023-10-25\")\n",
    "my_todo_list.add_task(\"Finish the report\", \"2023-10-20\")\n",
    "my_todo_list.add_task(\"Call the dentist\", \"2023-11-05\")\n",
    "\n",
    "my_todo_list.display_pending_tasks()\n",
    "\n",
    "my_todo_list.mark_completed(\"Finish the report\")\n",
    "\n",
    "my_todo_list.display_pending_tasks()"
   ]
  },
  {
   "cell_type": "code",
   "execution_count": null,
   "id": "bce96d58-2edb-4540-9785-2e6a7f179839",
   "metadata": {},
   "outputs": [],
   "source": []
  }
 ],
 "metadata": {
  "kernelspec": {
   "display_name": "Python 3 (ipykernel)",
   "language": "python",
   "name": "python3"
  },
  "language_info": {
   "codemirror_mode": {
    "name": "ipython",
    "version": 3
   },
   "file_extension": ".py",
   "mimetype": "text/x-python",
   "name": "python",
   "nbconvert_exporter": "python",
   "pygments_lexer": "ipython3",
   "version": "3.10.8"
  }
 },
 "nbformat": 4,
 "nbformat_minor": 5
}
