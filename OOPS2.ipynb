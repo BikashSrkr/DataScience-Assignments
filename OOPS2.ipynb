{
 "cells": [
  {
   "cell_type": "markdown",
   "id": "a503fa58-d7e2-406f-b23c-1d700dc616eb",
   "metadata": {},
   "source": [
    "How do you define a constructor in a Python class? Provide an example."
   ]
  },
  {
   "cell_type": "code",
   "execution_count": 1,
   "id": "5856e5e3-7e44-44f5-8988-35fa8676f9df",
   "metadata": {},
   "outputs": [
    {
     "name": "stdout",
     "output_type": "stream",
     "text": [
      "bik\n",
      "27\n"
     ]
    }
   ],
   "source": [
    "class Student:\n",
    "    def __init__(self, name, age):\n",
    "        # Initialize attributes\n",
    "        self.name = name\n",
    "        self.age = age\n",
    "\n",
    "# Creating an object of MyClass and calling the constructor\n",
    "obj = Student(\"bik\", 27)\n",
    "\n",
    "# Accessing attributes of the object\n",
    "print(obj.name)  \n",
    "print(obj.age)"
   ]
  },
  {
   "cell_type": "markdown",
   "id": "589cf178-5c15-4fe8-a894-fed0158db33b",
   "metadata": {},
   "source": [
    "In a class named `Person`, create a constructor that initializes the `name` and `age` attributes. Provide an\n",
    "example of creating an object of this class."
   ]
  },
  {
   "cell_type": "code",
   "execution_count": 1,
   "id": "2cc77003-0d0a-4159-9d98-c936263c9b99",
   "metadata": {},
   "outputs": [
    {
     "name": "stdout",
     "output_type": "stream",
     "text": [
      "Name: abc\n",
      "Age: 25\n"
     ]
    }
   ],
   "source": [
    "class Person:\n",
    "    def __init__(self, name, age):\n",
    "        self.name = name\n",
    "        self.age = age\n",
    "\n",
    "# Example of creating an object of the Person class\n",
    "person_obj = Person(\"abc\", 25)\n",
    "\n",
    "# Accessing attributes of the object\n",
    "print(\"Name:\", person_obj.name) \n",
    "print(\"Age:\", person_obj.age)   "
   ]
  },
  {
   "cell_type": "markdown",
   "id": "e7008124-9aa1-4b62-8301-0741812b2ece",
   "metadata": {},
   "source": [
    "6. How can you call a constructor explicitly in Python? Give an example."
   ]
  },
  {
   "cell_type": "code",
   "execution_count": 2,
   "id": "32308857-c83f-4196-88c9-c37b0bd29df1",
   "metadata": {},
   "outputs": [
    {
     "name": "stdout",
     "output_type": "stream",
     "text": [
      "Constructor called with value: Hello\n",
      "Attribute value: Hello\n"
     ]
    }
   ],
   "source": [
    "class MyClass:\n",
    "    def __init__(self, value):\n",
    "        self.value = value\n",
    "        print(\"Constructor called with value:\", value)\n",
    "\n",
    "# Explicitly calling the constructor\n",
    "explicit_obj = MyClass.__new__(MyClass)\n",
    "MyClass.__init__(explicit_obj, \"Hello\")\n",
    "\n",
    "# Accessing the attribute after explicit constructor call\n",
    "print(\"Attribute value:\", explicit_obj.value)"
   ]
  },
  {
   "cell_type": "markdown",
   "id": "63977ded-53f6-41f5-a31e-730c55aacb0f",
   "metadata": {},
   "source": [
    "Create a Python class called `Rectangle` with a constructor that initializes the `width` and `height`\n",
    "attributes. Provide a method to calculate the area of the rectangle."
   ]
  },
  {
   "cell_type": "code",
   "execution_count": 3,
   "id": "fda8ac1c-93e0-4142-91fe-c09751d84714",
   "metadata": {},
   "outputs": [],
   "source": [
    "class Rectangle:\n",
    "    def __init__(self,length,width):\n",
    "        self.length = length\n",
    "        self.width = width\n",
    "    def area(self):\n",
    "        rect_area = self.length * self.width\n",
    "        return f\"the area of the rectangle is : {rect_area}\""
   ]
  },
  {
   "cell_type": "code",
   "execution_count": 4,
   "id": "95d27b2f-a27d-4181-a989-1e43b5efe785",
   "metadata": {},
   "outputs": [
    {
     "data": {
      "text/plain": [
       "'the area of the rectangle is : 24'"
      ]
     },
     "execution_count": 4,
     "metadata": {},
     "output_type": "execute_result"
    }
   ],
   "source": [
    "k=Rectangle(6,4)\n",
    "k.area()"
   ]
  },
  {
   "cell_type": "code",
   "execution_count": null,
   "id": "3a090d40-ca69-4844-8e8c-b2ceb2d67c37",
   "metadata": {},
   "outputs": [],
   "source": []
  },
  {
   "cell_type": "code",
   "execution_count": 7,
   "id": "a95faa18-2dc5-4397-87f9-c6cc49ebeae5",
   "metadata": {},
   "outputs": [
    {
     "name": "stdout",
     "output_type": "stream",
     "text": [
      "value1 value2\n",
      "value3 0\n"
     ]
    }
   ],
   "source": [
    "class MyClass:\n",
    "    def __init__(self, name1, name2):\n",
    "        self.name1 = name1\n",
    "        self.name2 = name2\n",
    "\n",
    "    @classmethod\n",
    "    def from_single_param(cls, param):\n",
    "        # Alternative constructor taking a single parameter\n",
    "        return cls(param, 0)\n",
    "\n",
    "# Example usage:\n",
    "obj1 = MyClass(\"value1\", \"value2\")\n",
    "obj2 = MyClass.from_single_param(\"value3\")\n",
    "\n",
    "print(obj1.name1, obj1.name2)\n",
    "print(obj2.name1, obj2.name2)"
   ]
  },
  {
   "cell_type": "markdown",
   "id": "6370638f-43ff-45f9-9c3c-ad46bcd23fe3",
   "metadata": {},
   "source": [
    "What is method overloading, and how is it related to constructors in Python?"
   ]
  },
  {
   "cell_type": "code",
   "execution_count": 8,
   "id": "7ceaa37e-6a11-431c-9d42-9d0a01160436",
   "metadata": {},
   "outputs": [
    {
     "name": "stdout",
     "output_type": "stream",
     "text": [
      "value1 value2\n",
      "value3 0\n"
     ]
    }
   ],
   "source": [
    "class MyClass:\n",
    "    def __init__(self, name1, name2=0):\n",
    "        self.name1 = name1\n",
    "        self.name2 = name2\n",
    "    def view(self):\n",
    "        print(self.name1,self.name2)\n",
    "\n",
    "# Example usage:\n",
    "obj1 = MyClass(\"value1\", \"value2\")\n",
    "obj2 = MyClass(\"value3\")\n",
    "\n",
    "obj1.view()\n",
    "obj2.view()"
   ]
  },
  {
   "cell_type": "markdown",
   "id": "94c5d6f1-8231-446b-b1b4-161c15bd9afd",
   "metadata": {},
   "source": [
    "Explain the use of the `super()` function in Python constructors. Provide an example."
   ]
  },
  {
   "cell_type": "code",
   "execution_count": 20,
   "id": "98d93aab-33e8-435d-8001-0c44aa2b21f2",
   "metadata": {},
   "outputs": [],
   "source": [
    "class MyClass:\n",
    "    def __init__(self, name1):\n",
    "        self.name1 = name1\n",
    "    def view(self):\n",
    "        print(self.name1)\n",
    "\n",
    "class MyClass2(MyClass):\n",
    "    def __init__(self, name1,name2):\n",
    "        super().__init__(name1)\n",
    "        self.name2 =name2\n",
    "    def view1(self):\n",
    "        super().view()\n",
    "        print(str(self.name2))"
   ]
  },
  {
   "cell_type": "code",
   "execution_count": 21,
   "id": "a07e0a1b-4341-4cf5-b4ed-9d12d3c3bfcf",
   "metadata": {},
   "outputs": [
    {
     "name": "stdout",
     "output_type": "stream",
     "text": [
      "abc\n",
      "def\n"
     ]
    }
   ],
   "source": [
    "child = MyClass2(\"abc\",\"def\")\n",
    "child.view1()"
   ]
  },
  {
   "cell_type": "markdown",
   "id": "f1659fb5-8989-43a2-aa37-ab2133debf85",
   "metadata": {},
   "source": [
    "Create a class called `Book` with a constructor that initializes the `title`, `author`, and `published_year`\n",
    "attributes. Provide a method to display book details."
   ]
  },
  {
   "cell_type": "code",
   "execution_count": 5,
   "id": "fa20c2bc-3ef8-4ebf-9889-a829ff69548f",
   "metadata": {},
   "outputs": [],
   "source": [
    "class Book:\n",
    "    def __init__(self, title, author, published_year):\n",
    "        self.title = title\n",
    "        self.author = author\n",
    "        self.published_year = published_year\n",
    "    def show(self):\n",
    "        print(\"title:\",self.title, \" author:\",self.author,\" year:\",self.published_year)"
   ]
  },
  {
   "cell_type": "code",
   "execution_count": 6,
   "id": "f6acfbb3-a53c-4e24-91fc-c2df041d7199",
   "metadata": {},
   "outputs": [
    {
     "name": "stdout",
     "output_type": "stream",
     "text": [
      "title: Fairy Tales  author: abc  year: 2023\n"
     ]
    }
   ],
   "source": [
    "a = Book(\"Fairy Tales\", \"abc\", 2023)\n",
    "a.show()"
   ]
  },
  {
   "cell_type": "markdown",
   "id": "56ce759f-e8aa-477f-b2e0-bb9416f079ec",
   "metadata": {},
   "source": [
    "Create a Python class called `Student` with a constructor that takes a list of subjects as a parameter and\n",
    "initializes the `subjects` attribute."
   ]
  },
  {
   "cell_type": "code",
   "execution_count": 7,
   "id": "a065dd7c-1d57-4f6e-aa0e-20c6cc88cd98",
   "metadata": {},
   "outputs": [
    {
     "name": "stdout",
     "output_type": "stream",
     "text": [
      "['Math', 'Science', 'English']\n"
     ]
    }
   ],
   "source": [
    "class Student:\n",
    "    def __init__(self, subjects):\n",
    "        self.subjects = subjects\n",
    "\n",
    "# Example usage:\n",
    "student1 = Student([\"Math\", \"Science\", \"English\"])\n",
    "print(student1.subjects)"
   ]
  },
  {
   "cell_type": "markdown",
   "id": "fcead85b-24c9-4b58-9d17-993ae3478bc0",
   "metadata": {},
   "source": [
    "Create a Python class called `Car` with a default constructor that initializes the `make` and `model`\n",
    "attributes. Provide a method to display car information."
   ]
  },
  {
   "cell_type": "code",
   "execution_count": 8,
   "id": "8c722053-3c60-43f4-8cc9-6a07d2550b9f",
   "metadata": {},
   "outputs": [
    {
     "name": "stdout",
     "output_type": "stream",
     "text": [
      "Car Information: Toyota Camry\n"
     ]
    }
   ],
   "source": [
    "class Car:\n",
    "    def __init__(self, make, model):\n",
    "        self.make = make\n",
    "        self.model = model\n",
    "\n",
    "    def display_info(self):\n",
    "        print(f\"Car Information: {self.make} {self.model}\")\n",
    "\n",
    "# Example usage:\n",
    "car1 = Car(\"Toyota\", \"Camry\")\n",
    "car1.display_info()"
   ]
  },
  {
   "cell_type": "markdown",
   "id": "ecdd1216-bc1d-4d50-ac96-609ac1de18e6",
   "metadata": {},
   "source": [
    "Create a Python class called `Vehicle` with attributes `color` and `speed`. Then, create a child class called\n",
    "`Car` that inherits from `Vehicle` and adds a `brand` attribute. Provide an example of creating a `Car` object."
   ]
  },
  {
   "cell_type": "code",
   "execution_count": 1,
   "id": "b5998ac5-aa84-43d7-b299-1af9738fcff2",
   "metadata": {},
   "outputs": [
    {
     "name": "stdout",
     "output_type": "stream",
     "text": [
      "Color: Blue\n",
      "Speed: 60\n",
      "Brand: Toyota\n"
     ]
    }
   ],
   "source": [
    "class Vehicle:\n",
    "    def __init__(self, color, speed):\n",
    "        self.color = color\n",
    "        self.speed = speed\n",
    "\n",
    "class Car(Vehicle):\n",
    "    def __init__(self, color, speed, brand):\n",
    "        super().__init__(color, speed)\n",
    "        self.brand = brand\n",
    "\n",
    "# Example usage:\n",
    "my_car = Car(color=\"Blue\", speed=60, brand=\"Toyota\")\n",
    "\n",
    "# Accessing attributes inherited from Vehicle\n",
    "print(\"Color:\", my_car.color)\n",
    "print(\"Speed:\", my_car.speed)\n",
    "print(\"Brand:\", my_car.brand)"
   ]
  },
  {
   "cell_type": "markdown",
   "id": "ce97a342-4984-4973-8903-58fc9e2f6e97",
   "metadata": {},
   "source": [
    "Explain the concept of method overriding in inheritance. Provide a practical example."
   ]
  },
  {
   "cell_type": "code",
   "execution_count": 3,
   "id": "a43b002d-73bb-4116-a465-6411c89185cd",
   "metadata": {},
   "outputs": [
    {
     "name": "stdout",
     "output_type": "stream",
     "text": [
      "Dog barks\n"
     ]
    }
   ],
   "source": [
    "class Animal:\n",
    "    def speak(self):\n",
    "        print(\"Animal speaks\")\n",
    "\n",
    "class Dog(Animal):\n",
    "    # Method overriding\n",
    "    def speak(self):\n",
    "        print(\"Dog barks\")\n",
    "\n",
    "# Example usage:\n",
    "my_dog = Dog()\n",
    "\n",
    "# Calling overridden method in Dog class\n",
    "my_dog.speak() "
   ]
  },
  {
   "cell_type": "markdown",
   "id": "21bd027b-7edc-4dae-8064-a16536b892dc",
   "metadata": {},
   "source": [
    "Create a Python class called `Animal` with a method `speak()`. Then, create child classes `Dog` and `Cat` that inherit from `Animal` and override the `speak()` method. Provide an example of using these classes."
   ]
  },
  {
   "cell_type": "code",
   "execution_count": 1,
   "id": "13620700-9c44-4a10-9e40-1b807222d7fe",
   "metadata": {},
   "outputs": [
    {
     "name": "stdout",
     "output_type": "stream",
     "text": [
      "Dog barks\n",
      "Cat mewww\n"
     ]
    }
   ],
   "source": [
    "class Animal:\n",
    "    def speak(self):\n",
    "        print(\"Animal speaks\")\n",
    "\n",
    "class Dog(Animal):\n",
    "    # Method overriding\n",
    "    def speak(self):\n",
    "        print(\"Dog barks\")\n",
    "\n",
    "class cat(Animal):\n",
    "    # Method overriding\n",
    "    def speak(self):\n",
    "        print(\"Cat mewww\")\n",
    "\n",
    "# Example usage:\n",
    "my_dog = Dog()\n",
    "my_cat = cat()\n",
    "\n",
    "# Calling overridden method in Dog class\n",
    "my_dog.speak()\n",
    "my_cat.speak()"
   ]
  },
  {
   "cell_type": "markdown",
   "id": "af601574-ec46-42a9-9185-e7d1f7acf59f",
   "metadata": {},
   "source": [
    "Create a Python class called `Shape` with a method `area()` that calculates the area of a shape. Then, create child classes `Circle` and `Rectangle` that inherit from `Shape` and implement the `area()` method\n",
    "accordingly. Provide an example."
   ]
  },
  {
   "cell_type": "code",
   "execution_count": 2,
   "id": "7770cfe0-3dbb-4dc8-be36-334fd0c02a95",
   "metadata": {},
   "outputs": [
    {
     "name": "stdout",
     "output_type": "stream",
     "text": [
      "Area of Circle: 78.54\n",
      "Area of Rectangle: 24\n"
     ]
    }
   ],
   "source": [
    "import math\n",
    "\n",
    "class Shape:\n",
    "    def area(self):\n",
    "        # This method will be overridden by subclasses\n",
    "        pass\n",
    "\n",
    "class Circle(Shape):\n",
    "    def __init__(self, radius):\n",
    "        self.radius = radius\n",
    "\n",
    "    def area(self):\n",
    "        return math.pi * self.radius ** 2\n",
    "\n",
    "class Rectangle(Shape):\n",
    "    def __init__(self, length, width):\n",
    "        self.length = length\n",
    "        self.width = width\n",
    "\n",
    "    def area(self):\n",
    "        return self.length * self.width\n",
    "\n",
    "# Example usage:\n",
    "circle = Circle(radius=5)\n",
    "rectangle = Rectangle(length=4, width=6)\n",
    "\n",
    "print(f\"Area of Circle: {circle.area():.2f}\")\n",
    "print(f\"Area of Rectangle: {rectangle.area()}\")"
   ]
  },
  {
   "cell_type": "markdown",
   "id": "6629eaad-aa9f-4374-9980-26c156c88d9d",
   "metadata": {},
   "source": [
    "Explain the use of abstract base classes (ABCs) in Python and how they relate to inheritance. Provide an\n",
    "example using the `abc` module."
   ]
  },
  {
   "cell_type": "code",
   "execution_count": 1,
   "id": "90aaf265-9c56-4656-b8f8-67a41494a79c",
   "metadata": {},
   "outputs": [
    {
     "name": "stdout",
     "output_type": "stream",
     "text": [
      "Area of Circle: 78.50\n",
      "Perimeter of Circle: 31.40\n",
      "Area of Rectangle: 24\n",
      "Perimeter of Rectangle: 20\n"
     ]
    }
   ],
   "source": [
    "from abc import ABC, abstractmethod\n",
    "\n",
    "# Define an abstract base class\n",
    "class Shape(ABC):\n",
    "    @abstractmethod\n",
    "    def area(self):\n",
    "        pass\n",
    "\n",
    "    @abstractmethod\n",
    "    def perimeter(self):\n",
    "        pass\n",
    "\n",
    "# Create a concrete subclass of Shape\n",
    "class Circle(Shape):\n",
    "    def __init__(self, radius):\n",
    "        self.radius = radius\n",
    "\n",
    "    def area(self):\n",
    "        return 3.14 * self.radius ** 2\n",
    "\n",
    "    def perimeter(self):\n",
    "        return 2 * 3.14 * self.radius\n",
    "\n",
    "# Create another concrete subclass of Shape\n",
    "class Rectangle(Shape):\n",
    "    def __init__(self, length, width):\n",
    "        self.length = length\n",
    "        self.width = width\n",
    "\n",
    "    def area(self):\n",
    "        return self.length * self.width\n",
    "\n",
    "    def perimeter(self):\n",
    "        return 2 * (self.length + self.width)\n",
    "\n",
    "\n",
    "\n",
    "# Create instances of the concrete subclasses\n",
    "circle = Circle(radius=5)\n",
    "rectangle = Rectangle(length=4, width=6)\n",
    "\n",
    "# Call the area and perimeter methods on the concrete instances\n",
    "print(f\"Area of Circle: {circle.area():.2f}\")\n",
    "print(f\"Perimeter of Circle: {circle.perimeter():.2f}\")\n",
    "\n",
    "print(f\"Area of Rectangle: {rectangle.area()}\")\n",
    "print(f\"Perimeter of Rectangle: {rectangle.perimeter()}\")"
   ]
  },
  {
   "cell_type": "markdown",
   "id": "854a06f3-f36a-4812-96f2-41415856a628",
   "metadata": {},
   "source": [
    "Create a Python class called `Employee` with attributes `name` and `salary`. Then, create a child class\n",
    "`Manager` that inherits from `Employee` and adds an attribute `department`. Provide an example."
   ]
  },
  {
   "cell_type": "code",
   "execution_count": 1,
   "id": "30a32467-b74b-4e2f-84f7-256eb83b218d",
   "metadata": {},
   "outputs": [
    {
     "name": "stdout",
     "output_type": "stream",
     "text": [
      "Jane Smith earns $70000 and works in the Marketing department.\n"
     ]
    }
   ],
   "source": [
    "class Employee:\n",
    "    def __init__(self, name, salary):\n",
    "        self.name = name\n",
    "        self.salary = salary\n",
    "\n",
    "class Manager(Employee):\n",
    "    def __init__(self, name, salary, department):\n",
    "        # Call the constructor of the base class (Employee) using super()\n",
    "        super().__init__(name, salary)\n",
    "        self.department = department\n",
    "\n",
    "# Example usage:\n",
    "manager1 = Manager(name=\"Jane Smith\", salary=70000, department=\"Marketing\")\n",
    "\n",
    "# Accessing attributes of Manager\n",
    "print(f\"{manager1.name} earns ${manager1.salary} and works in the {manager1.department} department.\")"
   ]
  },
  {
   "cell_type": "markdown",
   "id": "44153441-4e9c-419a-943a-d23b010c65db",
   "metadata": {},
   "source": [
    "Create a Python class hierarchy for a university system. Start with a base class `Person` and create child\n",
    "classes `Student` and `Professor`, each with their own attributes and methods. Provide an example of using\n",
    "these classes in a university context."
   ]
  },
  {
   "cell_type": "code",
   "execution_count": 2,
   "id": "b55106d3-3931-487b-a522-5e3c5f072016",
   "metadata": {},
   "outputs": [
    {
     "name": "stdout",
     "output_type": "stream",
     "text": [
      "Student Information:\n",
      "Name: Alice, Age: 20\n",
      "Student ID: S12345\n",
      "Alice is studying.\n",
      "\n",
      "Professor Information:\n",
      "Name: Dr. Smith, Age: 45\n",
      "Employee ID: P98765\n",
      "Dr. Smith is teaching.\n"
     ]
    }
   ],
   "source": [
    "class Person:\n",
    "    def __init__(self, name, age):\n",
    "        self.name = name\n",
    "        self.age = age\n",
    "\n",
    "    def display_info(self):\n",
    "        print(f\"Name: {self.name}, Age: {self.age}\")\n",
    "\n",
    "\n",
    "class Student(Person):\n",
    "    def __init__(self, name, age, student_id):\n",
    "        super().__init__(name,age)\n",
    "        self.student_id = student_id\n",
    "\n",
    "    def display_info(self):\n",
    "        super().display_info()\n",
    "        print(f\"Student ID: {self.student_id}\")\n",
    "\n",
    "    def study(self):\n",
    "        print(f\"{self.name} is studying.\")\n",
    "\n",
    "\n",
    "class Professor(Person):\n",
    "    def __init__(self, name, age, employee_id):\n",
    "        super().__init__(name, age)\n",
    "        self.employee_id = employee_id\n",
    "\n",
    "    def display_info(self):\n",
    "        super().display_info()\n",
    "        print(f\"Employee ID: {self.employee_id}\")\n",
    "\n",
    "    def teach(self):\n",
    "        print(f\"{self.name} is teaching.\")\n",
    "\n",
    "\n",
    "# Example usage:\n",
    "student1 = Student(name=\"Alice\", age=20, student_id=\"S12345\")\n",
    "professor1 = Professor(name=\"Dr. Smith\", age=45, employee_id=\"P98765\")\n",
    "\n",
    "# Display information for both student and professor\n",
    "print(\"Student Information:\")\n",
    "student1.display_info()\n",
    "student1.study()\n",
    "\n",
    "print(\"\\nProfessor Information:\")\n",
    "professor1.display_info()\n",
    "professor1.teach()"
   ]
  },
  {
   "cell_type": "markdown",
   "id": "e08b9489-0614-409a-8158-63ca14f89d84",
   "metadata": {},
   "source": [
    "Create a Python class called `Person` with a private attribute `__name`. Provide methods to get and set the\n",
    "name attribute."
   ]
  },
  {
   "cell_type": "code",
   "execution_count": 5,
   "id": "06708474-d0a3-4a42-9fda-594ed3ebb9a1",
   "metadata": {},
   "outputs": [
    {
     "name": "stdout",
     "output_type": "stream",
     "text": [
      "Current Name: John\n",
      "Updated Name: Alice\n"
     ]
    }
   ],
   "source": [
    "class Person:\n",
    "    def __init__(self, initial_name):\n",
    "        self.__name = initial_name\n",
    "\n",
    "    def get_name(self):\n",
    "        return self.__name\n",
    "\n",
    "    def set_name(self, new_name):\n",
    "        self.__name = new_name\n",
    "\n",
    "\n",
    "# Example usage:\n",
    "person1 = Person(\"John\")\n",
    "\n",
    "# Accessing the private attribute using the getter method\n",
    "current_name = person1.get_name()\n",
    "print(f\"Current Name: {current_name}\")\n",
    "\n",
    "# Using the setter method to update the name attribute\n",
    "person1.set_name(\"Alice\")\n",
    "\n",
    "# Accessing the updated name using the getter method\n",
    "updated_name = person1.get_name()\n",
    "print(f\"Updated Name: {updated_name}\")"
   ]
  },
  {
   "cell_type": "markdown",
   "id": "78c75cd8-f2e9-4de2-b300-1269901dc903",
   "metadata": {},
   "source": [
    "Create a Python class called `BankAccount` with private attributes for the account balance (`__balance`)"
   ]
  },
  {
   "cell_type": "code",
   "execution_count": 1,
   "id": "f9062aaf-4626-4b82-b83b-d71cccb1b8f7",
   "metadata": {},
   "outputs": [
    {
     "name": "stdout",
     "output_type": "stream",
     "text": [
      "Current Balance: $1000.0\n",
      "Updated Balance: $1500.0\n"
     ]
    }
   ],
   "source": [
    "class BankAccount:\n",
    "    def __init__(self, initial_balance):\n",
    "        self.__balance = initial_balance  # Private attribute\n",
    "\n",
    "    # Getter method for balance\n",
    "    def get_balance(self):\n",
    "        return self.__balance\n",
    "\n",
    "    # Setter method for balance with validation\n",
    "    def set_balance(self, new_balance):\n",
    "        if isinstance(new_balance, (int, float)) and new_balance >= 0:\n",
    "            self.__balance = new_balance\n",
    "        else:\n",
    "            print(\"Invalid balance value.\")\n",
    "\n",
    "# Example usage:\n",
    "account1 = BankAccount(1000.0)\n",
    "\n",
    "# Using the getter method to retrieve the balance\n",
    "current_balance = account1.get_balance()\n",
    "print(f\"Current Balance: ${current_balance}\")\n",
    "\n",
    "# Using the setter method to update the balance with validation\n",
    "account1.set_balance(1500.0)\n",
    "\n",
    "# Accessing the updated balance using the getter method\n",
    "updated_balance = account1.get_balance()\n",
    "print(f\"Updated Balance: ${updated_balance}\")"
   ]
  },
  {
   "cell_type": "markdown",
   "id": "2c5947ed-59a7-4840-9221-8818559372c2",
   "metadata": {},
   "source": [
    "Create a Python class hierarchy for a school system, including classes for students, teachers, and courses,\n",
    "and implement encapsulation principles to protect sensitive information."
   ]
  },
  {
   "cell_type": "code",
   "execution_count": 3,
   "id": "b5d2ae75-678e-495e-a8d6-493ed66441cc",
   "metadata": {},
   "outputs": [
    {
     "name": "stdout",
     "output_type": "stream",
     "text": [
      "Alice\n",
      "T456\n",
      "Name: Alice, Age: 18, Address: 123 Main St\n",
      "Name: Mr. Smith, Age: 35, Address: 456 Oak St\n"
     ]
    }
   ],
   "source": [
    "class Person:\n",
    "    def __init__(self, name, age, address):\n",
    "        self._name = name\n",
    "        self._age = age\n",
    "        self._address = address\n",
    "\n",
    "    def get_name(self):\n",
    "        return self._name\n",
    "\n",
    "    def get_age(self):\n",
    "        return self._age\n",
    "\n",
    "    def get_address(self):\n",
    "        return self._address\n",
    "\n",
    "    def display_info(self):\n",
    "        print(f\"Name: {self._name}, Age: {self._age}, Address: {self._address}\")\n",
    "\n",
    "\n",
    "class Student(Person):\n",
    "    def __init__(self, name, age, address, student_id):\n",
    "        super().__init__(name, age, address)\n",
    "        self._student_id = student_id\n",
    "        self._courses = []\n",
    "\n",
    "    def get_student_id(self):\n",
    "        return self._student_id\n",
    "\n",
    "    def display_courses(self):\n",
    "        print(f\"Student: {self._name}\")\n",
    "\n",
    "\n",
    "class Teacher(Person):\n",
    "    def __init__(self, name, age, address, employee_id):\n",
    "        super().__init__(name, age, address)\n",
    "        self._employee_id = employee_id\n",
    "        self._courses_taught = []\n",
    "\n",
    "    def get_employee_id(self):\n",
    "        return self._employee_id\n",
    "\n",
    "    def display_courses_taught(self):\n",
    "        print(f\"Teacher: {self._name}\")\n",
    "\n",
    "\n",
    "\n",
    "# Example usage:\n",
    "\n",
    "# Creating instances\n",
    "student1 = Student(\"Alice\", 18, \"123 Main St\", \"S123\")\n",
    "teacher1 = Teacher(\"Mr. Smith\", 35, \"456 Oak St\", \"T456\")\n",
    "\n",
    "# Accessing and displaying information\n",
    "print(student1.get_name())  \n",
    "print(teacher1.get_employee_id())  \n",
    "\n",
    "# Displaying information\n",
    "student1.display_info()\n",
    "\n",
    "teacher1.display_info()"
   ]
  },
  {
   "cell_type": "markdown",
   "id": "c3432431-3e65-44ae-852d-092956eb4d1d",
   "metadata": {},
   "source": [
    "Create a Python class called `Employee` with private attributes for salary (`__salary`) and employee ID (`__employee_id`). Provide a method to calculate yearly bonuses."
   ]
  },
  {
   "cell_type": "code",
   "execution_count": 1,
   "id": "3c2303f4-f1c7-44ac-976a-1ad3767a503b",
   "metadata": {},
   "outputs": [
    {
     "name": "stdout",
     "output_type": "stream",
     "text": [
      "Employee ID: E001\n",
      "Salary: $50000\n",
      "Yearly Bonus: $5000.0\n"
     ]
    }
   ],
   "source": [
    "class Employee:\n",
    "    def __init__(self, employee_id, salary):\n",
    "        self.__employee_id = employee_id\n",
    "        self.__salary = salary\n",
    "\n",
    "    def calculate_yearly_bonus(self, bonus_percentage):\n",
    "        bonus_amount = (bonus_percentage / 100) * self.__salary\n",
    "        return bonus_amount\n",
    "\n",
    "    # Getter methods to access private attributes\n",
    "    def get_employee_id(self):\n",
    "        return self.__employee_id\n",
    "\n",
    "    def get_salary(self):\n",
    "        return self.__salary\n",
    "\n",
    "\n",
    "# Creating an Employee instance\n",
    "employee1 = Employee(employee_id=\"E001\", salary=50000)\n",
    "\n",
    "# Accessing private attributes using getter methods\n",
    "print(f\"Employee ID: {employee1.get_employee_id()}\")\n",
    "print(f\"Salary: ${employee1.get_salary()}\")\n",
    "\n",
    "# Calculating and displaying yearly bonus\n",
    "bonus_percentage = 10 \n",
    "bonus_amount = employee1.calculate_yearly_bonus(bonus_percentage)\n",
    "print(f\"Yearly Bonus: ${bonus_amount}\")"
   ]
  },
  {
   "cell_type": "markdown",
   "id": "08d20489-8c88-4478-b328-38b7e2289441",
   "metadata": {},
   "source": [
    "Create a Python class called `Customer` with private attributes for customer details like name, address,\n",
    "and contact information. Implement encapsulation to ensure data integrity and security."
   ]
  },
  {
   "cell_type": "code",
   "execution_count": 3,
   "id": "cd76ee6f-54d3-42a2-9811-c6937d045655",
   "metadata": {},
   "outputs": [
    {
     "name": "stdout",
     "output_type": "stream",
     "text": [
      "Customer Name: John Doe\n",
      "Address: 123 Main St\n",
      "Contact Information: 555-1234\n"
     ]
    }
   ],
   "source": [
    "class Customer:\n",
    "    def __init__(self, name, address, contact_info):\n",
    "        self.__name = name\n",
    "        self.__address = address\n",
    "        self.__contact_info = contact_info\n",
    "\n",
    "    def get_name(self):\n",
    "        return self.__name\n",
    "\n",
    "    def get_address(self):\n",
    "        return self.__address\n",
    "\n",
    "    def get_contact_info(self):\n",
    "        return self.__contact_info\n",
    "\n",
    "    def display_customer_info(self):\n",
    "        print(f\"Customer Name: {self.__name}\")\n",
    "        print(f\"Address: {self.__address}\")\n",
    "        print(f\"Contact Information: {self.__contact_info}\")\n",
    "\n",
    "\n",
    "# Creating a Customer instance\n",
    "customer1 = Customer(name=\"John Doe\", address=\"123 Main St\", contact_info=\"555-1234\")\n",
    "\n",
    "# Accessing and displaying customer information using getter methods\n",
    "print(f\"Customer Name: {customer1.get_name()}\")\n",
    "print(f\"Address: {customer1.get_address()}\")\n",
    "print(f\"Contact Information: {customer1.get_contact_info()}\")"
   ]
  },
  {
   "cell_type": "markdown",
   "id": "081f76cc-71ba-465e-afd5-3614f03c527a",
   "metadata": {},
   "source": [
    "Create a Python class hierarchy for shapes (e.g., circle, square, triangle) and demonstrate polymorphism\n",
    "through a common method, such as `calculate_area()`."
   ]
  },
  {
   "cell_type": "code",
   "execution_count": 1,
   "id": "db34f388-67a1-4eac-b1fa-9b6cfb66c119",
   "metadata": {},
   "outputs": [
    {
     "name": "stdout",
     "output_type": "stream",
     "text": [
      "Area of Circle: 78.53981633974483\n",
      "Area of Square: 16\n",
      "Area of Triangle: 9.0\n"
     ]
    }
   ],
   "source": [
    "import math\n",
    "\n",
    "class Shape:\n",
    "    def calculate_area(self):\n",
    "        pass  # To be overridden by subclasses\n",
    "\n",
    "class Circle(Shape):\n",
    "    def __init__(self, radius):\n",
    "        self.radius = radius\n",
    "\n",
    "    def calculate_area(self):\n",
    "        return math.pi * self.radius**2\n",
    "\n",
    "class Square(Shape):\n",
    "    def __init__(self, side_length):\n",
    "        self.side_length = side_length\n",
    "\n",
    "    def calculate_area(self):\n",
    "        return self.side_length**2\n",
    "\n",
    "class Triangle(Shape):\n",
    "    def __init__(self, base, height):\n",
    "        self.base = base\n",
    "        self.height = height\n",
    "\n",
    "    def calculate_area(self):\n",
    "        return 0.5 * self.base * self.height\n",
    "\n",
    "# Example usage:\n",
    "\n",
    "circle = Circle(radius=5)\n",
    "square = Square(side_length=4)\n",
    "triangle = Triangle(base=3, height=6)\n",
    "\n",
    "# Polymorphic method calls\n",
    "shapes = [circle, square, triangle]\n",
    "\n",
    "for shape in shapes:\n",
    "    print(f\"Area of {shape.__class__.__name__}: {shape.calculate_area()}\")"
   ]
  },
  {
   "cell_type": "markdown",
   "id": "13cee82e-330f-458d-967b-2c5f3fd34d30",
   "metadata": {},
   "source": [
    "Create a Python class called `Animal` with a method `speak()`. Then, create child classes like `Dog`, `Cat`, and `Bird`, each with their own `speak()` method. Demonstrate polymorphism by calling the `speak()` method\n",
    "on objects of different subclasses."
   ]
  },
  {
   "cell_type": "code",
   "execution_count": 1,
   "id": "2462f7a3-85a1-48a7-8f93-6c6bd3d3d1bb",
   "metadata": {},
   "outputs": [
    {
     "name": "stdout",
     "output_type": "stream",
     "text": [
      "Woof!\n",
      "Meow!\n",
      "Tweet!\n"
     ]
    }
   ],
   "source": [
    "class Animal:\n",
    "    def speak(self):\n",
    "        pass\n",
    "\n",
    "class Dog(Animal):\n",
    "    def speak(self):\n",
    "        return \"Woof!\"\n",
    "\n",
    "class Cat(Animal):\n",
    "    def speak(self):\n",
    "        return \"Meow!\"\n",
    "\n",
    "class Bird(Animal):\n",
    "    def speak(self):\n",
    "        return \"Tweet!\"\n",
    "\n",
    "# Demonstrate polymorphism\n",
    "def animal_speak(animal):\n",
    "    return animal.speak()\n",
    "\n",
    "# Create instances of different subclasses\n",
    "dog = Dog()\n",
    "cat = Cat()\n",
    "bird = Bird()\n",
    "\n",
    "# Call speak() on objects of different subclasses\n",
    "print(animal_speak(dog))  \n",
    "print(animal_speak(cat)) \n",
    "print(animal_speak(bird))"
   ]
  },
  {
   "cell_type": "markdown",
   "id": "e7625f93-3716-46fb-9d50-5d64fc0e65a9",
   "metadata": {},
   "source": [
    "17. Create a Python class hierarchy for employees in a company (e.g., manager, developer, designer) and implement polymorphism through a common `calculate_salary()` method."
   ]
  },
  {
   "cell_type": "code",
   "execution_count": 1,
   "id": "22db7788-3050-4844-94db-81c74d065ea6",
   "metadata": {},
   "outputs": [
    {
     "name": "stdout",
     "output_type": "stream",
     "text": [
      "Manager - John Manager - Salary: $60000\n",
      "Developer - Alice Developer - Salary: $8000\n",
      "Designer - Bob Designer - Salary: $65000\n"
     ]
    }
   ],
   "source": [
    "from abc import ABC, abstractmethod\n",
    "\n",
    "class Employee(ABC):\n",
    "    def __init__(self, name, role):\n",
    "        self.name = name\n",
    "        self.role = role\n",
    "\n",
    "    @abstractmethod\n",
    "    def calculate_salary(self):\n",
    "        pass\n",
    "\n",
    "    def __str__(self):\n",
    "        return f\"{self.role} - {self.name}\"\n",
    "\n",
    "class Manager(Employee):\n",
    "    def __init__(self, name, salary, bonus):\n",
    "        super().__init__(name, \"Manager\")\n",
    "        self.salary = salary\n",
    "        self.bonus = bonus\n",
    "\n",
    "    def calculate_salary(self):\n",
    "        return self.salary + self.bonus\n",
    "\n",
    "class Developer(Employee):\n",
    "    def __init__(self, name, hourly_rate, hours_worked):\n",
    "        super().__init__(name, \"Developer\")\n",
    "        self.hourly_rate = hourly_rate\n",
    "        self.hours_worked = hours_worked\n",
    "\n",
    "    def calculate_salary(self):\n",
    "        return self.hourly_rate * self.hours_worked\n",
    "\n",
    "class Designer(Employee):\n",
    "    def __init__(self, name, salary, project_bonus):\n",
    "        super().__init__(name, \"Designer\")\n",
    "        self.salary = salary\n",
    "        self.project_bonus = project_bonus\n",
    "\n",
    "    def calculate_salary(self):\n",
    "        return self.salary + self.project_bonus\n",
    "\n",
    "# Example usage\n",
    "manager = Manager(\"John Manager\", 50000, 10000)\n",
    "developer = Developer(\"Alice Developer\", 50, 160)\n",
    "designer = Designer(\"Bob Designer\", 60000, 5000)\n",
    "\n",
    "employees = [manager, developer, designer]\n",
    "\n",
    "for employee in employees:\n",
    "    print(f\"{employee} - Salary: ${employee.calculate_salary()}\")"
   ]
  },
  {
   "cell_type": "markdown",
   "id": "6ca0922d-e5b3-419c-9fc6-0bcfc84a78ca",
   "metadata": {},
   "source": [
    "3. Create a Python class called `Shape` with an abstract method `calculate_area()`. Then, create child classes (e.g., `Circle`, `Rectangle`) that implement the `calculate_area()` method. Provide an example of using these classes."
   ]
  },
  {
   "cell_type": "code",
   "execution_count": 3,
   "id": "704d97f4-f051-4a2f-bb78-36e52cc80f98",
   "metadata": {},
   "outputs": [
    {
     "name": "stdout",
     "output_type": "stream",
     "text": [
      "Area of the circle: 78.5\n",
      "Area of the rectangle: 24\n"
     ]
    }
   ],
   "source": [
    "from abc import ABC, abstractmethod\n",
    "\n",
    "class Shape(ABC):\n",
    "    @abstractmethod\n",
    "    def calculate_area(self):\n",
    "        pass\n",
    "\n",
    "class Circle(Shape):\n",
    "    def __init__(self, radius):\n",
    "        self.radius = radius\n",
    "\n",
    "    def calculate_area(self):\n",
    "        return 3.14 * self.radius * self.radius\n",
    "\n",
    "class Rectangle(Shape):\n",
    "    def __init__(self, length, width):\n",
    "        self.length = length\n",
    "        self.width = width\n",
    "\n",
    "    def calculate_area(self):\n",
    "        return self.length * self.width\n",
    "\n",
    "# Example of using the classes\n",
    "circle = Circle(radius=5)\n",
    "rectangle = Rectangle(length=4, width=6)\n",
    "\n",
    "# Calculate and print areas\n",
    "print(f\"Area of the circle: {circle.calculate_area()}\")\n",
    "print(f\"Area of the rectangle: {rectangle.calculate_area()}\")"
   ]
  },
  {
   "cell_type": "markdown",
   "id": "c5d1b2ca-0608-4734-a86e-3fe38e653a0f",
   "metadata": {},
   "source": [
    "8. Create a Python class hierarchy for animals and implement abstraction by defining common methods"
   ]
  },
  {
   "cell_type": "code",
   "execution_count": 1,
   "id": "0cdad943-69ac-4a65-9632-5e9734f2225f",
   "metadata": {},
   "outputs": [
    {
     "name": "stdout",
     "output_type": "stream",
     "text": [
      "Buddy says Bark\n",
      "Buddy is moving.\n",
      "\n",
      "Whiskers says Meow\n",
      "Whiskers is moving.\n",
      "\n",
      "Robin says Chirp\n",
      "Robin is moving.\n",
      "\n",
      "Buddy is fetching.\n",
      "Whiskers is climbing a tree.\n",
      "Robin is flying.\n"
     ]
    }
   ],
   "source": [
    "class Animal:\n",
    "    def __init__(self, name, sound):\n",
    "        self.name = name\n",
    "        self.sound = sound\n",
    "\n",
    "    def make_sound(self):\n",
    "        raise NotImplementedError(\"Subclasses must implement the make_sound method\")\n",
    "\n",
    "    def move(self):\n",
    "        print(f\"{self.name} is moving.\")\n",
    "\n",
    "# Subclasses\n",
    "class Dog(Animal):\n",
    "    def __init__(self, name):\n",
    "        super().__init__(name, \"Bark\")\n",
    "\n",
    "    def make_sound(self):\n",
    "        print(f\"{self.name} says {self.sound}\")\n",
    "\n",
    "    def fetch(self):\n",
    "        print(f\"{self.name} is fetching.\")\n",
    "\n",
    "class Cat(Animal):\n",
    "    def __init__(self, name):\n",
    "        super().__init__(name, \"Meow\")\n",
    "\n",
    "    def make_sound(self):\n",
    "        print(f\"{self.name} says {self.sound}\")\n",
    "\n",
    "    def climb_tree(self):\n",
    "        print(f\"{self.name} is climbing a tree.\")\n",
    "\n",
    "class Bird(Animal):\n",
    "    def __init__(self, name):\n",
    "        super().__init__(name, \"Chirp\")\n",
    "\n",
    "    def make_sound(self):\n",
    "        print(f\"{self.name} says {self.sound}\")\n",
    "\n",
    "    def fly(self):\n",
    "        print(f\"{self.name} is flying.\")\n",
    "\n",
    "# Example usage\n",
    "if __name__ == \"__main__\":\n",
    "    dog = Dog(\"Buddy\")\n",
    "    cat = Cat(\"Whiskers\")\n",
    "    bird = Bird(\"Robin\")\n",
    "\n",
    "    animals = [dog, cat, bird]\n",
    "\n",
    "    for animal in animals:\n",
    "        animal.make_sound()\n",
    "        animal.move()\n",
    "        print()\n",
    "\n",
    "    dog.fetch()\n",
    "    cat.climb_tree()\n",
    "    bird.fly()"
   ]
  },
  {
   "cell_type": "markdown",
   "id": "09361574-fc94-4648-bf5a-9a1e02302f32",
   "metadata": {},
   "source": [
    "11. Create a Python class for a vehicle system and demonstrate abstraction by defining common methods"
   ]
  },
  {
   "cell_type": "code",
   "execution_count": 1,
   "id": "5cd9a2e9-673f-4c3f-b9f9-c6ce32d70605",
   "metadata": {},
   "outputs": [
    {
     "name": "stdout",
     "output_type": "stream",
     "text": [
      "Dell Inspiron desktop is powering on.\n",
      "Dell Inspiron desktop is running Word Processor.\n",
      "Dell Inspiron desktop is shutting down.\n",
      "\n",
      "HP EliteBook laptop is powering on.\n",
      "HP EliteBook laptop is running Word Processor.\n",
      "HP EliteBook laptop is shutting down.\n",
      "\n",
      "Lenovo ThinkServer server is powering on.\n",
      "Lenovo ThinkServer server is running Word Processor.\n",
      "Lenovo ThinkServer server is shutting down.\n",
      "\n"
     ]
    }
   ],
   "source": [
    "from abc import ABC, abstractmethod\n",
    "\n",
    "# Abstract base class\n",
    "class Computer(ABC):\n",
    "    def __init__(self, brand, model):\n",
    "        self.brand = brand\n",
    "        self.model = model\n",
    "\n",
    "    @abstractmethod\n",
    "    def power_on(self):\n",
    "        pass\n",
    "\n",
    "    @abstractmethod\n",
    "    def shutdown(self):\n",
    "        pass\n",
    "\n",
    "    @abstractmethod\n",
    "    def run_program(self, program):\n",
    "        pass\n",
    "\n",
    "# Concrete subclasses\n",
    "class Desktop(Computer):\n",
    "    def power_on(self):\n",
    "        print(f\"{self.brand} {self.model} desktop is powering on.\")\n",
    "\n",
    "    def shutdown(self):\n",
    "        print(f\"{self.brand} {self.model} desktop is shutting down.\")\n",
    "\n",
    "    def run_program(self, program):\n",
    "        print(f\"{self.brand} {self.model} desktop is running {program}.\")\n",
    "\n",
    "class Laptop(Computer):\n",
    "    def power_on(self):\n",
    "        print(f\"{self.brand} {self.model} laptop is powering on.\")\n",
    "\n",
    "    def shutdown(self):\n",
    "        print(f\"{self.brand} {self.model} laptop is shutting down.\")\n",
    "\n",
    "    def run_program(self, program):\n",
    "        print(f\"{self.brand} {self.model} laptop is running {program}.\")\n",
    "\n",
    "class Server(Computer):\n",
    "    def power_on(self):\n",
    "        print(f\"{self.brand} {self.model} server is powering on.\")\n",
    "\n",
    "    def shutdown(self):\n",
    "        print(f\"{self.brand} {self.model} server is shutting down.\")\n",
    "\n",
    "    def run_program(self, program):\n",
    "        print(f\"{self.brand} {self.model} server is running {program}.\")\n",
    "\n",
    "# Example usage\n",
    "if __name__ == \"__main__\":\n",
    "    desktop = Desktop(\"Dell\", \"Inspiron\")\n",
    "    laptop = Laptop(\"HP\", \"EliteBook\")\n",
    "    server = Server(\"Lenovo\", \"ThinkServer\")\n",
    "\n",
    "    computers = [desktop, laptop, server]\n",
    "\n",
    "    for computer in computers:\n",
    "        computer.power_on()\n",
    "        computer.run_program(\"Word Processor\")\n",
    "        computer.shutdown()\n",
    "        print()"
   ]
  },
  {
   "cell_type": "code",
   "execution_count": 2,
   "id": "3ec3c84c-262d-4791-a040-b554d05f04ff",
   "metadata": {},
   "outputs": [
    {
     "name": "stdout",
     "output_type": "stream",
     "text": [
      "Title: Sample Book\n",
      "Author: John Doe\n",
      "Author's Birthdate: January 1, 1980\n",
      "Publication Year: 2022\n",
      "\n"
     ]
    }
   ],
   "source": [
    "class Author:\n",
    "    def __init__(self, name, birthdate):\n",
    "        self.name = name\n",
    "        self.birthdate = birthdate\n",
    "\n",
    "class Book:\n",
    "    def __init__(self, title, author, publication_year):\n",
    "        self.title = title\n",
    "        self.author = author  # Composition: Book contains an instance of Author\n",
    "        self.publication_year = publication_year\n",
    "\n",
    "    def display_info(self):\n",
    "        print(f\"Title: {self.title}\")\n",
    "        print(f\"Author: {self.author.name}\")\n",
    "        print(f\"Author's Birthdate: {self.author.birthdate}\")\n",
    "        print(f\"Publication Year: {self.publication_year}\")\n",
    "        print()\n",
    "\n",
    "# Example usage\n",
    "if __name__ == \"__main__\":\n",
    "    # Create an Author\n",
    "    author = Author(\"John Doe\", \"January 1, 1980\")\n",
    "\n",
    "    # Create a Book with the Author as part of the composition\n",
    "    book = Book(\"Sample Book\", author, 2022)\n",
    "\n",
    "    # Display book information\n",
    "    book.display_info()"
   ]
  },
  {
   "cell_type": "markdown",
   "id": "3d864764-b965-4816-97cb-a3aced99b977",
   "metadata": {},
   "source": [
    "10. Create a Python class for a car, using composition to represent components like the engine, wheels, and transmission."
   ]
  },
  {
   "cell_type": "code",
   "execution_count": 3,
   "id": "732d0e4e-1ee4-4754-9974-4ac8e9afc121",
   "metadata": {},
   "outputs": [
    {
     "name": "stdout",
     "output_type": "stream",
     "text": [
      "Toyota Camry is starting...\n",
      "Engine started.\n",
      "Toyota Camry is now in motion.\n",
      "Wheel at position Front Left rotating.\n",
      "Wheel at position Front Right rotating.\n",
      "Wheel at position Rear Left rotating.\n",
      "Wheel at position Rear Right rotating.\n",
      "Transmission shifted to Automatic.\n",
      "Toyota Camry is stopping...\n",
      "Engine stopped.\n"
     ]
    }
   ],
   "source": [
    "class Engine:\n",
    "    def __init__(self, fuel_type, horsepower):\n",
    "        self.fuel_type = fuel_type\n",
    "        self.horsepower = horsepower\n",
    "\n",
    "    def start(self):\n",
    "        print(\"Engine started.\")\n",
    "\n",
    "    def stop(self):\n",
    "        print(\"Engine stopped.\")\n",
    "\n",
    "class Wheel:\n",
    "    def __init__(self, position):\n",
    "        self.position = position\n",
    "\n",
    "    def rotate(self):\n",
    "        print(f\"Wheel at position {self.position} rotating.\")\n",
    "\n",
    "class Transmission:\n",
    "    def __init__(self, transmission_type):\n",
    "        self.transmission_type = transmission_type\n",
    "\n",
    "    def shift(self):\n",
    "        print(f\"Transmission shifted to {self.transmission_type}.\")\n",
    "\n",
    "class Car:\n",
    "    def __init__(self, make, model):\n",
    "        self.make = make\n",
    "        self.model = model\n",
    "        self.engine = Engine(\"Gasoline\", 200)  # Composition: Car contains an Engine\n",
    "        self.wheels = [Wheel(\"Front Left\"), Wheel(\"Front Right\"), Wheel(\"Rear Left\"), Wheel(\"Rear Right\")]  # Composition: Car contains Wheels\n",
    "        self.transmission = Transmission(\"Automatic\")  # Composition: Car contains a Transmission\n",
    "\n",
    "    def start(self):\n",
    "        print(f\"{self.make} {self.model} is starting...\")\n",
    "        self.engine.start()\n",
    "\n",
    "    def drive(self):\n",
    "        print(f\"{self.make} {self.model} is now in motion.\")\n",
    "        for wheel in self.wheels:\n",
    "            wheel.rotate()\n",
    "        self.transmission.shift()\n",
    "\n",
    "    def stop(self):\n",
    "        print(f\"{self.make} {self.model} is stopping...\")\n",
    "        self.engine.stop()\n",
    "\n",
    "# Example usage\n",
    "if __name__ == \"__main__\":\n",
    "    my_car = Car(\"Toyota\", \"Camry\")\n",
    "\n",
    "    # Interact with the car\n",
    "    my_car.start()\n",
    "    my_car.drive()\n",
    "    my_car.stop()"
   ]
  },
  {
   "cell_type": "markdown",
   "id": "49bd7195-9ef6-4152-8007-aca60230a005",
   "metadata": {},
   "source": [
    "18. Create a Python class for a house, using composition to represent rooms, furniture, and appliances."
   ]
  },
  {
   "cell_type": "code",
   "execution_count": 2,
   "id": "33df90e1-9468-45cc-8d6e-7b48904a2577",
   "metadata": {},
   "outputs": [
    {
     "ename": "NameError",
     "evalue": "name 'Oven' is not defined",
     "output_type": "error",
     "traceback": [
      "\u001b[0;31m---------------------------------------------------------------------------\u001b[0m",
      "\u001b[0;31mNameError\u001b[0m                                 Traceback (most recent call last)",
      "Cell \u001b[0;32mIn[2], line 71\u001b[0m\n\u001b[1;32m     69\u001b[0m \u001b[38;5;66;03m# Add furniture and appliances to rooms\u001b[39;00m\n\u001b[1;32m     70\u001b[0m living_room\u001b[38;5;241m.\u001b[39madd_furniture(sofa)\n\u001b[0;32m---> 71\u001b[0m living_room\u001b[38;5;241m.\u001b[39madd_appliance(\u001b[43mOven\u001b[49m)\n\u001b[1;32m     72\u001b[0m kitchen\u001b[38;5;241m.\u001b[39madd_appliance(refrigerator)\n\u001b[1;32m     73\u001b[0m kitchen\u001b[38;5;241m.\u001b[39madd_appliance(oven)\n",
      "\u001b[0;31mNameError\u001b[0m: name 'Oven' is not defined"
     ]
    }
   ],
   "source": []
  },
  {
   "cell_type": "code",
   "execution_count": null,
   "id": "b339f535-3947-43c9-bf91-31fea8ce55e1",
   "metadata": {},
   "outputs": [],
   "source": []
  }
 ],
 "metadata": {
  "kernelspec": {
   "display_name": "Python 3 (ipykernel)",
   "language": "python",
   "name": "python3"
  },
  "language_info": {
   "codemirror_mode": {
    "name": "ipython",
    "version": 3
   },
   "file_extension": ".py",
   "mimetype": "text/x-python",
   "name": "python",
   "nbconvert_exporter": "python",
   "pygments_lexer": "ipython3",
   "version": "3.10.8"
  }
 },
 "nbformat": 4,
 "nbformat_minor": 5
}
