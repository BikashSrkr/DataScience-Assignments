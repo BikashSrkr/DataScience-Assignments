{
 "cells": [
  {
   "cell_type": "markdown",
   "id": "2b1d14b6-1672-4c55-b361-864bb65631b7",
   "metadata": {},
   "source": [
    "Declare two variables, `x` and `y`, and assign them integer values.\n",
    "Swap the values of these variables without using any temporary\n",
    "variable."
   ]
  },
  {
   "cell_type": "code",
   "execution_count": 1,
   "id": "fed0600b-4168-4c7e-a5ad-6e267a4bc0c3",
   "metadata": {},
   "outputs": [],
   "source": [
    "#Declaring values to 'x','y'\n",
    "x= 12\n",
    "y= 24"
   ]
  },
  {
   "cell_type": "code",
   "execution_count": 2,
   "id": "37372b4e-c184-4d11-a6ac-6a3dbd5d06b8",
   "metadata": {},
   "outputs": [],
   "source": [
    "#Swaping the values\n",
    "x=y\n",
    "y=x"
   ]
  },
  {
   "cell_type": "code",
   "execution_count": 3,
   "id": "8548b594-6782-44c9-9ee0-05452c54b885",
   "metadata": {},
   "outputs": [
    {
     "data": {
      "text/plain": [
       "24"
      ]
     },
     "execution_count": 3,
     "metadata": {},
     "output_type": "execute_result"
    }
   ],
   "source": [
    "x"
   ]
  },
  {
   "cell_type": "code",
   "execution_count": 4,
   "id": "8d100d3d-4ffd-4527-b9db-69676e017dbd",
   "metadata": {},
   "outputs": [
    {
     "data": {
      "text/plain": [
       "24"
      ]
     },
     "execution_count": 4,
     "metadata": {},
     "output_type": "execute_result"
    }
   ],
   "source": [
    "y"
   ]
  },
  {
   "cell_type": "code",
   "execution_count": 9,
   "id": "cc4c85d9-3b46-480a-872e-acbffb617c48",
   "metadata": {},
   "outputs": [],
   "source": [
    "# Alternate method\n",
    "x= 12\n",
    "y= 24\n",
    "x,y=y,x"
   ]
  },
  {
   "cell_type": "code",
   "execution_count": 10,
   "id": "2c45812a-4403-43e9-aaa5-25276bf4af55",
   "metadata": {},
   "outputs": [
    {
     "data": {
      "text/plain": [
       "24"
      ]
     },
     "execution_count": 10,
     "metadata": {},
     "output_type": "execute_result"
    }
   ],
   "source": [
    "x"
   ]
  },
  {
   "cell_type": "code",
   "execution_count": 11,
   "id": "867dffb7-0abb-4b37-bb58-25438a619151",
   "metadata": {},
   "outputs": [
    {
     "data": {
      "text/plain": [
       "12"
      ]
     },
     "execution_count": 11,
     "metadata": {},
     "output_type": "execute_result"
    }
   ],
   "source": [
    "y"
   ]
  },
  {
   "cell_type": "markdown",
   "id": "30ca4cc2-479e-47be-b204-37ea4e9df038",
   "metadata": {},
   "source": [
    "Create a program that calculates the area of a rectangle. Take the\n",
    "length and width as inputs from the user and store them in variables.\n",
    "Calculate and display the area."
   ]
  },
  {
   "cell_type": "code",
   "execution_count": 2,
   "id": "247ec743-ea0c-4457-8217-7ab94226ac15",
   "metadata": {},
   "outputs": [
    {
     "name": "stdin",
     "output_type": "stream",
     "text": [
      "Enter the Length 12\n",
      "Enter the Width 12\n"
     ]
    }
   ],
   "source": [
    "# Provide Length and Width\n",
    "Length = int(input(\"Enter the Length\"))\n",
    "Width = int(input(\"Enter the Width\"))"
   ]
  },
  {
   "cell_type": "code",
   "execution_count": 3,
   "id": "3b781c71-60fb-44f2-9d6c-4b0ffa033f44",
   "metadata": {},
   "outputs": [],
   "source": [
    "Area = Length * Width"
   ]
  },
  {
   "cell_type": "code",
   "execution_count": 4,
   "id": "85c064a4-540a-4897-aae2-6fc684cd516e",
   "metadata": {},
   "outputs": [
    {
     "data": {
      "text/plain": [
       "144"
      ]
     },
     "execution_count": 4,
     "metadata": {},
     "output_type": "execute_result"
    }
   ],
   "source": [
    "Area"
   ]
  },
  {
   "cell_type": "markdown",
   "id": "087b83df-7a8e-4139-ba69-8a5728e702b2",
   "metadata": {},
   "source": [
    "Write a Python program that converts temperatures from Celsius to\n",
    "Fahrenheit. Take the temperature in Celsius as input, store it in a variable,\n",
    "convert it to Fahrenheit, and display the result."
   ]
  },
  {
   "cell_type": "code",
   "execution_count": 11,
   "id": "7b89756f-b8df-43e1-be0d-02dde211e97f",
   "metadata": {},
   "outputs": [
    {
     "name": "stdin",
     "output_type": "stream",
     "text": [
      "Enter Temp in Celsius 100\n"
     ]
    }
   ],
   "source": [
    "# Provide temperature in Celsius\n",
    "C = float(input(\"Enter Temp in Celsius\"))"
   ]
  },
  {
   "cell_type": "code",
   "execution_count": 12,
   "id": "9893b3f3-c988-4692-9218-b7510e566701",
   "metadata": {},
   "outputs": [],
   "source": [
    "F = float((C*1.8) + 32)"
   ]
  },
  {
   "cell_type": "code",
   "execution_count": 10,
   "id": "cdbcfeb2-1aea-4a05-af29-1bf8c1cde125",
   "metadata": {},
   "outputs": [
    {
     "data": {
      "text/plain": [
       "212.0"
      ]
     },
     "execution_count": 10,
     "metadata": {},
     "output_type": "execute_result"
    }
   ],
   "source": [
    "F"
   ]
  },
  {
   "cell_type": "markdown",
   "id": "e85e8585-ebbb-4b5f-ab03-5332da28b0d0",
   "metadata": {},
   "source": [
    "Write a Python program that takes a string as input and prints the length of\n",
    "the string."
   ]
  },
  {
   "cell_type": "code",
   "execution_count": 13,
   "id": "55fb4a25-1783-47de-9772-c5cee19137aa",
   "metadata": {},
   "outputs": [
    {
     "name": "stdin",
     "output_type": "stream",
     "text": [
      "Enter the String abcdfg\n"
     ]
    }
   ],
   "source": [
    "#enter the String\n",
    "A= str(input(\"Enter the String\"))"
   ]
  },
  {
   "cell_type": "code",
   "execution_count": 14,
   "id": "24006b9a-5d39-41df-9aa5-94517e5a8b18",
   "metadata": {},
   "outputs": [
    {
     "data": {
      "text/plain": [
       "6"
      ]
     },
     "execution_count": 14,
     "metadata": {},
     "output_type": "execute_result"
    }
   ],
   "source": [
    "len(A)"
   ]
  },
  {
   "cell_type": "markdown",
   "id": "fdae2eb7-5e98-467e-8d7a-7688dcc26e85",
   "metadata": {},
   "source": [
    "Create a program that takes a sentence from the user and counts the number\n",
    "of vowels (a, e, i, o, u) in the string."
   ]
  },
  {
   "cell_type": "code",
   "execution_count": 6,
   "id": "59467fd6-6a12-4a74-aec0-e0c46d36ab8b",
   "metadata": {},
   "outputs": [
    {
     "name": "stdin",
     "output_type": "stream",
     "text": [
      "Enter the sentence my name is Bikash\n"
     ]
    }
   ],
   "source": [
    "B = input(\"Enter the sentence\")"
   ]
  },
  {
   "cell_type": "code",
   "execution_count": 7,
   "id": "3e6c7e6d-b813-46c1-b132-d2180cc922a1",
   "metadata": {},
   "outputs": [],
   "source": [
    "a= B.count('a')+B.count('e')+B.count('i')+B.count('o')+B.count('u')"
   ]
  },
  {
   "cell_type": "code",
   "execution_count": 8,
   "id": "875a1d6b-7e8d-4710-aa6c-22aceabed7be",
   "metadata": {},
   "outputs": [
    {
     "data": {
      "text/plain": [
       "5"
      ]
     },
     "execution_count": 8,
     "metadata": {},
     "output_type": "execute_result"
    }
   ],
   "source": [
    "a"
   ]
  },
  {
   "cell_type": "markdown",
   "id": "54ef4028-1f6f-4366-805f-663464f13b0a",
   "metadata": {},
   "source": [
    "Given a string, reverse the order of characters using string slicing and print\n",
    "the reversed string."
   ]
  },
  {
   "cell_type": "code",
   "execution_count": 1,
   "id": "6bb744e5-83ce-413a-af9d-7c803b838aad",
   "metadata": {},
   "outputs": [
    {
     "name": "stdin",
     "output_type": "stream",
     "text": [
      "Enter the string abcde\n"
     ]
    }
   ],
   "source": [
    "S=str(input(\"Enter the string\"))"
   ]
  },
  {
   "cell_type": "code",
   "execution_count": 4,
   "id": "209a0758-8f27-4b0b-a236-cd7b8edb1cbb",
   "metadata": {},
   "outputs": [
    {
     "data": {
      "text/plain": [
       "'edcba'"
      ]
     },
     "execution_count": 4,
     "metadata": {},
     "output_type": "execute_result"
    }
   ],
   "source": [
    "#reverse string\n",
    "S[::-1]"
   ]
  },
  {
   "cell_type": "markdown",
   "id": "0f807d7a-42b4-4423-9830-fd67bfb0b3c7",
   "metadata": {},
   "source": [
    "Write a program that takes a string as input and checks if it is a palindrome\n",
    "(reads the same forwards and backwards)."
   ]
  },
  {
   "cell_type": "code",
   "execution_count": 6,
   "id": "9d8774d6-109d-4786-9058-64494afbbb01",
   "metadata": {},
   "outputs": [
    {
     "name": "stdin",
     "output_type": "stream",
     "text": [
      "Enter the string abba\n"
     ]
    }
   ],
   "source": [
    "S1=input(\"Enter the string\")"
   ]
  },
  {
   "cell_type": "code",
   "execution_count": 7,
   "id": "fcb0bc38-e26c-4d1e-82f9-6e2bf5543761",
   "metadata": {},
   "outputs": [
    {
     "data": {
      "text/plain": [
       "str"
      ]
     },
     "execution_count": 7,
     "metadata": {},
     "output_type": "execute_result"
    }
   ],
   "source": [
    "type(S1)"
   ]
  },
  {
   "cell_type": "code",
   "execution_count": 10,
   "id": "9124b444-1539-4bfb-8848-18a4af3622c0",
   "metadata": {},
   "outputs": [
    {
     "data": {
      "text/plain": [
       "'abba'"
      ]
     },
     "execution_count": 10,
     "metadata": {},
     "output_type": "execute_result"
    }
   ],
   "source": [
    "S1[::1]"
   ]
  },
  {
   "cell_type": "code",
   "execution_count": 11,
   "id": "3aa40336-636e-470e-99ef-64f4b61556fa",
   "metadata": {},
   "outputs": [
    {
     "data": {
      "text/plain": [
       "'abba'"
      ]
     },
     "execution_count": 11,
     "metadata": {},
     "output_type": "execute_result"
    }
   ],
   "source": [
    "S1[::-1]"
   ]
  },
  {
   "cell_type": "markdown",
   "id": "2ac37d4d-dc6a-4cc4-9819-c36240eab5cc",
   "metadata": {},
   "source": [
    "Create a program that takes a string as input and removes all the spaces from\n",
    "it. Print the modified string without spaces."
   ]
  },
  {
   "cell_type": "code",
   "execution_count": 13,
   "id": "43017a2e-03ce-4b7e-a10b-ceeaff48366f",
   "metadata": {},
   "outputs": [
    {
     "name": "stdin",
     "output_type": "stream",
     "text": [
      "enter the string: i am Bikash\n"
     ]
    }
   ],
   "source": [
    "S2=input(\"enter the string:\")"
   ]
  },
  {
   "cell_type": "code",
   "execution_count": 14,
   "id": "837bd8d8-6205-480c-83ce-73cdab84b6c6",
   "metadata": {},
   "outputs": [
    {
     "data": {
      "text/plain": [
       "'iamBikash'"
      ]
     },
     "execution_count": 14,
     "metadata": {},
     "output_type": "execute_result"
    }
   ],
   "source": [
    "S2.replace(\" \",\"\")"
   ]
  },
  {
   "cell_type": "code",
   "execution_count": null,
   "id": "82b5ee93-5505-4fc0-a33e-3f4b6480b1fd",
   "metadata": {},
   "outputs": [],
   "source": []
  }
 ],
 "metadata": {
  "kernelspec": {
   "display_name": "Python 3 (ipykernel)",
   "language": "python",
   "name": "python3"
  },
  "language_info": {
   "codemirror_mode": {
    "name": "ipython",
    "version": 3
   },
   "file_extension": ".py",
   "mimetype": "text/x-python",
   "name": "python",
   "nbconvert_exporter": "python",
   "pygments_lexer": "ipython3",
   "version": "3.10.8"
  }
 },
 "nbformat": 4,
 "nbformat_minor": 5
}
