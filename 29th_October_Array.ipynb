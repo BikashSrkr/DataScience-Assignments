{
 "cells": [
  {
   "cell_type": "markdown",
   "id": "f0c43271-0b56-4562-94df-a1742773214f",
   "metadata": {},
   "source": [
    "1. Given an array, check if it contains any duplicates or not.\n",
    "arr = [1, 2, 4, 2, 5, 9]"
   ]
  },
  {
   "cell_type": "code",
   "execution_count": 1,
   "id": "7cf313d8-d26c-40a6-8e58-9c578c21eb92",
   "metadata": {},
   "outputs": [
    {
     "name": "stdout",
     "output_type": "stream",
     "text": [
      "duplicate exist\n"
     ]
    }
   ],
   "source": [
    "def duplicate(arr):\n",
    "    c=0\n",
    "    for i in range(len(arr)):\n",
    "        for j in range(i+1,len(arr)):\n",
    "            if arr[i] == arr[j]:\n",
    "                c=1\n",
    "    return c\n",
    "\n",
    "#driver code\n",
    "arr = [1, 2, 4, 2, 5, 9]\n",
    "result = duplicate(arr)\n",
    "if result == 1:\n",
    "    print(\"duplicate exist\")\n",
    "else:\n",
    "    print(\"duplicate not exist\")"
   ]
  },
  {
   "cell_type": "markdown",
   "id": "c8bafe71-dbdf-46f5-90f6-b378a3d4340e",
   "metadata": {},
   "source": [
    "2. Given an array and an integer k, rotate the array to the right by k steps.\n",
    "arr = [1, 2, 3, 4, 5, 6, 7] k = 3\n",
    "Output = [5, 6, 7, 1, 2, 3, 4]"
   ]
  },
  {
   "cell_type": "code",
   "execution_count": 1,
   "id": "536518f6-945b-41d6-a327-5ff83ae5e94a",
   "metadata": {},
   "outputs": [
    {
     "name": "stdout",
     "output_type": "stream",
     "text": [
      "[5, 6, 7, 1, 2, 3, 4]\n"
     ]
    }
   ],
   "source": [
    "def rotate_array(arr, k):\n",
    "    # Perform the rotation using slicing\n",
    "    rotated_array = arr[-k:] + arr[:-k]\n",
    "    \n",
    "    return rotated_array\n",
    "\n",
    "# Example usage:\n",
    "arr = [1, 2, 3, 4, 5, 6, 7]\n",
    "k = 3\n",
    "result = rotate_array(arr, k)\n",
    "\n",
    "print(result)"
   ]
  },
  {
   "cell_type": "markdown",
   "id": "ec1eac95-1e6c-40c1-ae49-fb5e1e3d2e8b",
   "metadata": {},
   "source": [
    "Reverse the given array in-place, means without using any extra data structure.\n",
    "arr = [2, 4, 5, 7, 9, 12]\n",
    "Output = [12, 9, 7, 5, 4, 2]"
   ]
  },
  {
   "cell_type": "code",
   "execution_count": 2,
   "id": "984752dd-1f08-4028-9d62-175dfc22e103",
   "metadata": {},
   "outputs": [
    {
     "name": "stdout",
     "output_type": "stream",
     "text": [
      "[12, 9, 7, 5, 4, 2]\n"
     ]
    }
   ],
   "source": [
    "def reverse_array_in_place(arr):\n",
    "    length = len(arr)\n",
    "    for i in range(length // 2):\n",
    "        # Swap elements at opposite ends of the array\n",
    "        arr[i], arr[length - 1 - i] = arr[length - 1 - i], arr[i]\n",
    "\n",
    "# Example usage:\n",
    "arr = [2, 4, 5, 7, 9, 12]\n",
    "reverse_array_in_place(arr)\n",
    "\n",
    "print(arr)"
   ]
  },
  {
   "cell_type": "markdown",
   "id": "e511112c-6ca5-4f72-b7fc-3db3bde2547f",
   "metadata": {},
   "source": [
    "Given an array of integers, find the maximum element in an array\n",
    "arr = [10, 5, 20, 8, 15]\n",
    "Output = 20"
   ]
  },
  {
   "cell_type": "code",
   "execution_count": 5,
   "id": "cd3d6f46-3e0a-4baa-ba18-2262591a86a7",
   "metadata": {},
   "outputs": [
    {
     "name": "stdout",
     "output_type": "stream",
     "text": [
      "20\n"
     ]
    }
   ],
   "source": [
    "def maximum(arr):\n",
    "    for i in range(len(arr)):\n",
    "        for j in range(i+1,len(arr)):\n",
    "            if arr[i] > arr[j]:\n",
    "                c=arr[i]\n",
    "    return c\n",
    "\n",
    "#driver code\n",
    "arr = [10, 5, 20, 8, 15]\n",
    "result = maximum(arr)\n",
    "print (result)"
   ]
  },
  {
   "cell_type": "markdown",
   "id": "104ff860-fb0e-4edd-818c-2d1e90e18491",
   "metadata": {},
   "source": [
    "Given a sorted array, remove the duplicate element without using any extra data structure.\n",
    "arr = [1, 1, 2, 2, 2, 3, 3, 4, 4, 4, 5, 5]\n",
    "Output = [1, 2, 3, 4, 5]"
   ]
  },
  {
   "cell_type": "code",
   "execution_count": 8,
   "id": "c9e8e366-2dd6-4bf7-934a-aad394ff72e1",
   "metadata": {},
   "outputs": [
    {
     "name": "stdout",
     "output_type": "stream",
     "text": [
      "[1, 2, 3, 4, 5]\n"
     ]
    }
   ],
   "source": [
    "def remove_duplicates_in_place(arr):\n",
    "    if not arr:\n",
    "        return []\n",
    "\n",
    "    unique_index = 0\n",
    "\n",
    "    for i in range(1, len(arr)):\n",
    "        if arr[i] != arr[unique_index]:\n",
    "            unique_index += 1\n",
    "            arr[unique_index] = arr[i]\n",
    "\n",
    "    # Truncate the array to remove any remaining elements\n",
    "    arr = arr[:unique_index + 1]\n",
    "    return arr\n",
    "\n",
    "# Example usage:\n",
    "arr = [1, 1, 2, 2, 2, 3, 3, 4, 4, 4, 5, 5]\n",
    "result = remove_duplicates_in_place(arr)\n",
    "\n",
    "print(result)"
   ]
  },
  {
   "cell_type": "code",
   "execution_count": null,
   "id": "1af38ddf-15b9-4ee7-bf80-cb0d5bbfee84",
   "metadata": {},
   "outputs": [],
   "source": []
  }
 ],
 "metadata": {
  "kernelspec": {
   "display_name": "Python 3 (ipykernel)",
   "language": "python",
   "name": "python3"
  },
  "language_info": {
   "codemirror_mode": {
    "name": "ipython",
    "version": 3
   },
   "file_extension": ".py",
   "mimetype": "text/x-python",
   "name": "python",
   "nbconvert_exporter": "python",
   "pygments_lexer": "ipython3",
   "version": "3.10.8"
  }
 },
 "nbformat": 4,
 "nbformat_minor": 5
}
