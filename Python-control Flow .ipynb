{
 "cells": [
  {
   "cell_type": "markdown",
   "id": "57773c6b-9888-4e25-a8f2-c23d81c6f8d9",
   "metadata": {},
   "source": [
    "1. Write a Python program to check if a given number is positive or negative."
   ]
  },
  {
   "cell_type": "code",
   "execution_count": 2,
   "id": "2d474ddd-2308-4732-b61f-949655c1c142",
   "metadata": {},
   "outputs": [
    {
     "name": "stdin",
     "output_type": "stream",
     "text": [
      "enter the number 2\n"
     ]
    },
    {
     "name": "stdout",
     "output_type": "stream",
     "text": [
      "positive number\n"
     ]
    }
   ],
   "source": [
    "n= int(input(\"enter the number\"))\n",
    "if n>0:\n",
    "    print(\"positive number\")\n",
    "else:\n",
    "    print(\"negetive number\")"
   ]
  },
  {
   "cell_type": "markdown",
   "id": "3d376f77-1b2e-4245-82c0-8e9ed341ab21",
   "metadata": {},
   "source": [
    "2. Create a program that determines if a person is eligible to vote based on their age."
   ]
  },
  {
   "cell_type": "code",
   "execution_count": 3,
   "id": "99dd9f2d-51b9-4299-a19c-3ffd83bf7605",
   "metadata": {},
   "outputs": [
    {
     "name": "stdin",
     "output_type": "stream",
     "text": [
      "please enter your age: 19\n"
     ]
    },
    {
     "name": "stdout",
     "output_type": "stream",
     "text": [
      "you are eligible for vote\n"
     ]
    }
   ],
   "source": [
    "age = int(input(\"please enter your age:\"))\n",
    "if age>=18:\n",
    "    print(\"you are eligible for vote\")\n",
    "else:\n",
    "    print(\"you are not eligible for vote\") "
   ]
  },
  {
   "cell_type": "markdown",
   "id": "9e7efd37-e955-4407-a001-4df447596224",
   "metadata": {},
   "source": [
    "3. Develop a program to find the maximum of two numbers using if-else statements."
   ]
  },
  {
   "cell_type": "code",
   "execution_count": 5,
   "id": "8c6c3497-8d4e-40ec-b858-827502140b7e",
   "metadata": {},
   "outputs": [
    {
     "name": "stdin",
     "output_type": "stream",
     "text": [
      "enter the number a: 25\n",
      "enter the number b: 23\n"
     ]
    },
    {
     "name": "stdout",
     "output_type": "stream",
     "text": [
      "maximum number is a: 25\n"
     ]
    }
   ],
   "source": [
    "a=int(input(\"enter the number a:\"))\n",
    "b=int(input(\"enter the number b:\"))\n",
    "if a>b:\n",
    "    print(\"maximum number is a:\",a)\n",
    "else:\n",
    "    print(\"maximum number is b:\",b)"
   ]
  },
  {
   "cell_type": "markdown",
   "id": "865edccf-5a7c-4691-be18-573636aa5041",
   "metadata": {},
   "source": [
    "4. Write a Python script to classify a given year as a leap year or not."
   ]
  },
  {
   "cell_type": "code",
   "execution_count": 13,
   "id": "fd025428-555b-4441-8d47-ca96d36acecd",
   "metadata": {},
   "outputs": [
    {
     "name": "stdin",
     "output_type": "stream",
     "text": [
      "enter the year: 2024\n"
     ]
    },
    {
     "name": "stdout",
     "output_type": "stream",
     "text": [
      "Leap year\n"
     ]
    }
   ],
   "source": [
    "year = int(input(\"enter the year:\"))\n",
    "if year%100 == 0:\n",
    "    if year%400 ==0:\n",
    "        print(\"Leap year\")\n",
    "    else:\n",
    "        print(\"not Leap year\")\n",
    "elif year%4==0:\n",
    "        print(\"Leap year\")\n",
    "else:\n",
    "    print(\"not Leap year\")"
   ]
  },
  {
   "cell_type": "markdown",
   "id": "03d49ebc-be3b-4fdc-9ee9-d6b66a8338aa",
   "metadata": {},
   "source": [
    "5. Create a program that checks whether a character is a vowel or a consonant."
   ]
  },
  {
   "cell_type": "code",
   "execution_count": 16,
   "id": "6344d36a-ef71-4cec-804d-fc6a479248c9",
   "metadata": {},
   "outputs": [
    {
     "name": "stdin",
     "output_type": "stream",
     "text": [
      "enter a character: i\n"
     ]
    },
    {
     "name": "stdout",
     "output_type": "stream",
     "text": [
      "it is a vowel\n"
     ]
    }
   ],
   "source": [
    "n=input(\"enter a character:\")\n",
    "l='aeiouAEIOU'\n",
    "if n in l:\n",
    "    print(\"it is a vowel\")\n",
    "else:\n",
    "    print(\"it is not a vowel\")"
   ]
  },
  {
   "cell_type": "markdown",
   "id": "c5bab0ad-7de5-4371-a4e2-9ac3685c3bba",
   "metadata": {},
   "source": [
    "6. Implement a program to determine whether a given number is even or odd."
   ]
  },
  {
   "cell_type": "code",
   "execution_count": 17,
   "id": "544f67cc-c1c2-4439-8fd6-266c12e035d0",
   "metadata": {},
   "outputs": [
    {
     "name": "stdin",
     "output_type": "stream",
     "text": [
      "enter the number 4\n"
     ]
    },
    {
     "name": "stdout",
     "output_type": "stream",
     "text": [
      "even number\n"
     ]
    }
   ],
   "source": [
    "n= int(input(\"enter the number\"))\n",
    "if n%2==0:\n",
    "    print(\"even number\")\n",
    "else:\n",
    "    print(\"odd number\")"
   ]
  },
  {
   "cell_type": "markdown",
   "id": "2f1bd513-a438-4ceb-b4b0-0df91258843a",
   "metadata": {},
   "source": [
    "7. Write a Python function to calculate the absolute value of a number without using the `abs()` function."
   ]
  },
  {
   "cell_type": "code",
   "execution_count": 18,
   "id": "5840ff65-dadc-4aa9-a417-0161d59644d2",
   "metadata": {},
   "outputs": [
    {
     "name": "stdin",
     "output_type": "stream",
     "text": [
      "enter the number -5\n"
     ]
    },
    {
     "name": "stdout",
     "output_type": "stream",
     "text": [
      "5\n"
     ]
    }
   ],
   "source": [
    "n= int(input(\"enter the number\"))\n",
    "if n <0:\n",
    "    n=n*(-1)\n",
    "    print(n)\n",
    "else:\n",
    "    print(n)"
   ]
  },
  {
   "cell_type": "markdown",
   "id": "7ccf8b09-94b1-42d1-abcf-4335625124b1",
   "metadata": {},
   "source": [
    "8. Develop a program that determines the largest of three given numbers using if-else statements."
   ]
  },
  {
   "cell_type": "code",
   "execution_count": 19,
   "id": "2c58c97b-0bae-4590-81ee-9ef1ffbeaf86",
   "metadata": {},
   "outputs": [
    {
     "name": "stdin",
     "output_type": "stream",
     "text": [
      "enter the number 2\n",
      "enter the number 5\n",
      "enter the number 4\n"
     ]
    },
    {
     "name": "stdout",
     "output_type": "stream",
     "text": [
      "max number: 5\n"
     ]
    }
   ],
   "source": [
    "a= int(input(\"enter the number\"))\n",
    "b= int(input(\"enter the number\"))\n",
    "c= int(input(\"enter the number\"))\n",
    "if a>b and a>c:\n",
    "    print(\"max number:\",a)\n",
    "elif b>a and b>c:\n",
    "    print(\"max number:\",b)\n",
    "else:\n",
    "    print(\"max number:\",c)"
   ]
  },
  {
   "cell_type": "markdown",
   "id": "119d7388-3b1c-4238-89c0-530b89469bbc",
   "metadata": {},
   "source": [
    "9. Create a program that checks if a given string is a palindrome."
   ]
  },
  {
   "cell_type": "code",
   "execution_count": 23,
   "id": "f6afe1ba-c305-4347-bc59-57bff5aafb3a",
   "metadata": {},
   "outputs": [
    {
     "name": "stdout",
     "output_type": "stream",
     "text": [
      "string is palindrome\n"
     ]
    }
   ],
   "source": [
    "n=\"madam\"\n",
    "p=n[::-1]\n",
    "if n == p:\n",
    "    print(\"string is palindrome\")\n",
    "else:\n",
    "    print(\"string is not palindrome\")"
   ]
  },
  {
   "cell_type": "markdown",
   "id": "d09d8dc5-e2a1-4bbd-a8b6-b50e9f6fc147",
   "metadata": {},
   "source": [
    "10. Write a Python program to calculate the grade based on a student's score."
   ]
  },
  {
   "cell_type": "code",
   "execution_count": 2,
   "id": "48322036-7fe2-4c65-a350-b30953860d88",
   "metadata": {},
   "outputs": [
    {
     "name": "stdin",
     "output_type": "stream",
     "text": [
      "enter the number 92\n"
     ]
    },
    {
     "name": "stdout",
     "output_type": "stream",
     "text": [
      "A+ grade\n"
     ]
    }
   ],
   "source": [
    "a= int(input(\"enter the number\"))\n",
    "if a >= 90:\n",
    "    print(\"A+ grade\")\n",
    "elif a >=75:\n",
    "    print(\"A grade\")\n",
    "elif a >=50:\n",
    "    print(\"B grade\")\n",
    "else:\n",
    "    print(\"C grade\")"
   ]
  },
  {
   "cell_type": "markdown",
   "id": "1505f2a4-07a7-4d54-a7ba-462a94b82e05",
   "metadata": {},
   "source": [
    "11. Write a program to find the largest among three numbers using nested if-else statements."
   ]
  },
  {
   "cell_type": "code",
   "execution_count": 3,
   "id": "64682c8a-ba22-4fcf-bfc3-9dc0b7855ba5",
   "metadata": {},
   "outputs": [
    {
     "name": "stdin",
     "output_type": "stream",
     "text": [
      "enter the number 20\n",
      "enter the number 30\n",
      "enter the number 10\n"
     ]
    },
    {
     "name": "stdout",
     "output_type": "stream",
     "text": [
      "max number: 30\n"
     ]
    }
   ],
   "source": [
    "a= int(input(\"enter the number\"))\n",
    "b= int(input(\"enter the number\"))\n",
    "c= int(input(\"enter the number\"))\n",
    "if a > b:\n",
    "    if a > c:\n",
    "        print(\"max number:\",a)\n",
    "    else:\n",
    "        print(\"max number:\",c)\n",
    "elif b>a:\n",
    "    if b>c:\n",
    "        print(\"max number:\",b)\n",
    "    else:\n",
    "        print(\"max number:\",c)\n",
    "elif c>a:\n",
    "    if c>b:\n",
    "        print(\"max number:\",c)\n",
    "    else:\n",
    "         print(\"max number:\",b)\n"
   ]
  },
  {
   "cell_type": "markdown",
   "id": "903ed2f5-93ce-420c-afe4-29befefc5e85",
   "metadata": {},
   "source": [
    "12. Implement a program to determine if a triangle is equilateral, isosceles, or scalene."
   ]
  },
  {
   "cell_type": "code",
   "execution_count": 3,
   "id": "215ec64b-c78f-420c-811c-83c40e305882",
   "metadata": {},
   "outputs": [
    {
     "name": "stdin",
     "output_type": "stream",
     "text": [
      "enter the number 3\n",
      "enter the number 4\n",
      "enter the number 5\n"
     ]
    },
    {
     "name": "stdout",
     "output_type": "stream",
     "text": [
      "it is an scalene triangle\n"
     ]
    }
   ],
   "source": [
    "a= int(input(\"enter the number\"))\n",
    "b= int(input(\"enter the number\"))\n",
    "c= int(input(\"enter the number\"))\n",
    "if a+b>c or b+c>a or c+a>b:\n",
    "    if (a==b==c):\n",
    "        print(\"it is an equilateral triangle\")\n",
    "    elif a==b or b==c or c==a:\n",
    "        print(\"it is an isosceles triangle\")\n",
    "    elif a!=b!=c:\n",
    "        print(\"it is an scalene triangle\")\n",
    "else:\n",
    "    print(\"it's not a triangle\")"
   ]
  },
  {
   "cell_type": "markdown",
   "id": "ea85c7a9-0e6a-450d-8c0c-35de8f326a23",
   "metadata": {},
   "source": [
    "13. Develop a program that checks if a year is a leap year and also if it is a century year."
   ]
  },
  {
   "cell_type": "code",
   "execution_count": 4,
   "id": "5d0b8f84-b973-4b3d-8289-5e2bea6af78f",
   "metadata": {},
   "outputs": [
    {
     "name": "stdin",
     "output_type": "stream",
     "text": [
      "enter the year:  2000\n"
     ]
    },
    {
     "name": "stdout",
     "output_type": "stream",
     "text": [
      "It is a century year\n",
      "It is a Leap year\n"
     ]
    }
   ],
   "source": [
    "a= int(input(\"enter the year: \"))\n",
    "if a%100==0:\n",
    "    print(\"It is a century year\")\n",
    "    if a%400==0:\n",
    "        print(\"It is a Leap year\")\n",
    "    else:\n",
    "        print(\"It is not a Leap year\")\n",
    "elif a%4==0:\n",
    "    print(\"It is a Leap year\")\n",
    "else:\n",
    "    print(\"It is not a Leap year\")"
   ]
  },
  {
   "cell_type": "markdown",
   "id": "6a21dbd3-fb14-4e31-99dd-1e178c6e88d6",
   "metadata": {},
   "source": [
    "14. Write a Python script to determine if a number is positive, negative, or zero."
   ]
  },
  {
   "cell_type": "code",
   "execution_count": 3,
   "id": "e72417fb-5e2f-44ab-858b-9dc0c80f80cb",
   "metadata": {},
   "outputs": [
    {
     "name": "stdin",
     "output_type": "stream",
     "text": [
      "enter the number 2\n"
     ]
    },
    {
     "name": "stdout",
     "output_type": "stream",
     "text": [
      "It is a positive number\n"
     ]
    }
   ],
   "source": [
    "a= int(input(\"enter the number\"))\n",
    "if a>0:\n",
    "    print(\"It is a positive number\")\n",
    "elif a<0:\n",
    "    print(\"It is a negetive number\")\n",
    "else:\n",
    "    print(\"the number is zero\")\n"
   ]
  },
  {
   "cell_type": "markdown",
   "id": "81455b99-6c26-48da-af67-9857ea82fb2f",
   "metadata": {},
   "source": [
    "15. Create a program to check if a person is a teenager (between 13 and 19 years old)."
   ]
  },
  {
   "cell_type": "code",
   "execution_count": 4,
   "id": "54f5fcd5-e838-4740-bb2c-ae661686886a",
   "metadata": {},
   "outputs": [
    {
     "name": "stdin",
     "output_type": "stream",
     "text": [
      "enter the age: 16\n"
     ]
    },
    {
     "name": "stdout",
     "output_type": "stream",
     "text": [
      "you are a teenager\n"
     ]
    }
   ],
   "source": [
    "a= int(input(\"enter the age:\"))\n",
    "if a>=13 and a<=19:\n",
    "    print(\"you are a teenager\")\n",
    "else:\n",
    "    print(\"you are not a teenager\")"
   ]
  },
  {
   "cell_type": "markdown",
   "id": "df78b50d-ff85-4086-87b2-3b53bacd451a",
   "metadata": {},
   "source": [
    "16. Develop a program that determines the type of angle based on its measure (acute, obtuse, or right)."
   ]
  },
  {
   "cell_type": "code",
   "execution_count": 1,
   "id": "ea726d24-c3a1-42b4-93d5-792c301fbcca",
   "metadata": {},
   "outputs": [
    {
     "name": "stdin",
     "output_type": "stream",
     "text": [
      "enter the degree of angle: 93\n"
     ]
    },
    {
     "name": "stdout",
     "output_type": "stream",
     "text": [
      "It is a obtuse angle\n"
     ]
    }
   ],
   "source": [
    "a= int(input(\"enter the degree of angle:\"))\n",
    "if a == 90:\n",
    "    print(\"It is a right angle\")\n",
    "elif a>90:\n",
    "    print(\"It is a obtuse angle\")\n",
    "else:\n",
    "    print(\"It is a acute angle\")"
   ]
  },
  {
   "cell_type": "markdown",
   "id": "6e6a77d1-a069-430c-9412-1c4cdbb61dcc",
   "metadata": {},
   "source": [
    "17. Write a Python program to calculate the roots of a quadratic equation."
   ]
  },
  {
   "cell_type": "code",
   "execution_count": 3,
   "id": "3e75ac52-e4fa-408e-ba42-c5a0bf0f1c80",
   "metadata": {},
   "outputs": [
    {
     "name": "stdin",
     "output_type": "stream",
     "text": [
      "Enter coefficient a:  8\n",
      "Enter coefficient b:  2\n",
      "Enter coefficient c:  1\n"
     ]
    },
    {
     "name": "stdout",
     "output_type": "stream",
     "text": [
      "Root 1: -0.125 + 0.33071891388307384i\n",
      "Root 2: -0.125 - 0.33071891388307384i\n"
     ]
    }
   ],
   "source": [
    "import math\n",
    "\n",
    "a = float(input(\"Enter coefficient a: \"))\n",
    "b = float(input(\"Enter coefficient b: \"))\n",
    "c = float(input(\"Enter coefficient c: \"))\n",
    "\n",
    "d = b**2 - 4*a*c\n",
    "\n",
    "if d > 0:\n",
    "    root1 = (-b + math.sqrt(d)) / (2*a)\n",
    "    root2 = (-b - math.sqrt(d)) / (2*a)\n",
    "    print(f\"Root 1: {root1}\")\n",
    "    print(f\"Root 2: {root2}\")\n",
    "elif d == 0:\n",
    "    root = -b / (2*a)\n",
    "    print(f\"Root: {root}\")\n",
    "else:\n",
    "    real_part = -b / (2*a)\n",
    "    imaginary_part = math.sqrt(abs(d)) / (2*a)\n",
    "    print(f\"Root 1: {real_part} + {imaginary_part}i\")\n",
    "    print(f\"Root 2: {real_part} - {imaginary_part}i\")"
   ]
  },
  {
   "cell_type": "markdown",
   "id": "190b30ef-f260-4c95-8eb7-534e90fefbcd",
   "metadata": {},
   "source": [
    "18. Implement a program to determine the day of the week based on a user-provided number (1 for Monday, 2 for Tuesday, etc.)."
   ]
  },
  {
   "cell_type": "code",
   "execution_count": 2,
   "id": "e059914f-ace9-40cc-b461-6fde1b2e2c66",
   "metadata": {},
   "outputs": [
    {
     "name": "stdin",
     "output_type": "stream",
     "text": [
      "Enter a number (1-7) to determine the day of the week:  3\n"
     ]
    },
    {
     "name": "stdout",
     "output_type": "stream",
     "text": [
      "The day corresponding to the number 3 is Wednesday.\n"
     ]
    }
   ],
   "source": [
    "days = [\"Monday\", \"Tuesday\", \"Wednesday\", \"Thursday\", \"Friday\", \"Saturday\", \"Sunday\"]\n",
    "\n",
    "day_number = int(input(\"Enter a number (1-7) to determine the day of the week: \"))\n",
    "\n",
    "if 1 <= day_number <= 7:\n",
    "    day = days[day_number - 1]\n",
    "    print(f\"The day corresponding to the number {day_number} is {day}.\")\n",
    "else:\n",
    "    print(\"Invalid input.\")"
   ]
  },
  {
   "cell_type": "markdown",
   "id": "4a1bc0c3-ba3f-4cdd-8267-5e3fcb0ad6de",
   "metadata": {},
   "source": [
    "19. Create a program that determines if a year is a leap year and also if it is evenly divisible by 400."
   ]
  },
  {
   "cell_type": "code",
   "execution_count": 3,
   "id": "41e79b78-80ad-47da-acf3-6cd00d2f6efa",
   "metadata": {},
   "outputs": [
    {
     "name": "stdin",
     "output_type": "stream",
     "text": [
      "enter the year:  2020\n"
     ]
    },
    {
     "name": "stdout",
     "output_type": "stream",
     "text": [
      "It is a Leap year\n",
      "It is not divisible by 400\n"
     ]
    }
   ],
   "source": [
    "a= int(input(\"enter the year: \"))\n",
    "if a%100==0:\n",
    "    if a%400==0:\n",
    "        print(\"It is a Leap year\")\n",
    "        print(\"It is divisible by 400\")\n",
    "    else:\n",
    "        print(\"It is not a Leap year\")\n",
    "elif a%4==0:\n",
    "    print(\"It is a Leap year\")\n",
    "    if a%400 ==0:\n",
    "        print(\"It is divisible by 400\")\n",
    "    else:\n",
    "        print(\"It is not divisible by 400\")\n",
    "else:\n",
    "    print(\"It is not a Leap year\")"
   ]
  },
  {
   "cell_type": "markdown",
   "id": "97009d73-292c-49b3-9513-2b460ecd5b2d",
   "metadata": {},
   "source": [
    "20. Develop a program that checks if a given number is prime or not using nested if-else statements."
   ]
  },
  {
   "cell_type": "code",
   "execution_count": 1,
   "id": "3610a459-4eb7-4e2f-b92d-238bbb5e96c9",
   "metadata": {},
   "outputs": [
    {
     "name": "stdin",
     "output_type": "stream",
     "text": [
      "enter the number:  5\n"
     ]
    },
    {
     "name": "stdout",
     "output_type": "stream",
     "text": [
      "prime number\n"
     ]
    }
   ],
   "source": [
    "a= int(input(\"enter the number: \"))\n",
    "c=0\n",
    "if a<2:\n",
    "    print(\"not a prime number\")\n",
    "elif a==2:\n",
    "    print(\"prime number\")\n",
    "else:\n",
    "    for i in range(2,a):\n",
    "        if a%i==0:\n",
    "            c+=1\n",
    "    if c>=1:\n",
    "        print(\"not a prime number\")\n",
    "    else:\n",
    "        print(\"prime number\")"
   ]
  },
  {
   "cell_type": "markdown",
   "id": "241a6c45-9171-465d-847b-66bcf49a6353",
   "metadata": {},
   "source": [
    "21. Write a Python program to assign grades based on different ranges of scores using elif statements."
   ]
  },
  {
   "cell_type": "code",
   "execution_count": 2,
   "id": "cc88211a-b14f-47fb-8ea6-5686d145961a",
   "metadata": {},
   "outputs": [
    {
     "name": "stdin",
     "output_type": "stream",
     "text": [
      "enter the number 95\n"
     ]
    },
    {
     "name": "stdout",
     "output_type": "stream",
     "text": [
      "A+ grade\n"
     ]
    }
   ],
   "source": [
    "a= int(input(\"enter the number\"))\n",
    "if a >= 90:\n",
    "    print(\"A+ grade\")\n",
    "elif a >=75:\n",
    "    print(\"A grade\")\n",
    "elif a >=50:\n",
    "    print(\"B grade\")\n",
    "else:\n",
    "    print(\"C grade\")"
   ]
  },
  {
   "cell_type": "markdown",
   "id": "9cc314eb-add6-44ad-b531-64ce14060fb0",
   "metadata": {},
   "source": [
    "22. Implement a program to determine the type of a triangle based on its angles."
   ]
  },
  {
   "cell_type": "code",
   "execution_count": 1,
   "id": "cbc48088-7e0e-466c-b3da-5642f753bbb7",
   "metadata": {},
   "outputs": [
    {
     "name": "stdin",
     "output_type": "stream",
     "text": [
      "enter the number 40\n",
      "enter the number 50\n",
      "enter the number 90\n"
     ]
    },
    {
     "name": "stdout",
     "output_type": "stream",
     "text": [
      "it is an right angle triangle\n"
     ]
    }
   ],
   "source": [
    "try:\n",
    "    a= int(input(\"enter the number\"))\n",
    "    b= int(input(\"enter the number\"))\n",
    "    c= int(input(\"enter the number\"))\n",
    "    if a+b+c==180:\n",
    "        if a>90 or b>90 or c>90:\n",
    "            print(\"it is an obtuse angle triangle\")\n",
    "        elif a==90 or b==90 or c==90:\n",
    "            print(\"it is an right angle triangle\")\n",
    "        elif a<90 or b<90 or c<90:\n",
    "            print(\"it is an Acute angle triangle\")\n",
    "        else:\n",
    "            print(\"it's not a triangle\")\n",
    "except Exception:\n",
    "    print(e)"
   ]
  },
  {
   "cell_type": "markdown",
   "id": "446a53e4-644d-4266-8d4a-00a6a3049809",
   "metadata": {},
   "source": [
    "23. Develop a program to categorize a given person's BMI into underweight, normal, overweight, or obese using elif statements."
   ]
  },
  {
   "cell_type": "code",
   "execution_count": 2,
   "id": "fa695084-6ea3-409c-aa7a-11422f685336",
   "metadata": {},
   "outputs": [
    {
     "name": "stdin",
     "output_type": "stream",
     "text": [
      "enter the BMI number 23.6\n"
     ]
    },
    {
     "name": "stdout",
     "output_type": "stream",
     "text": [
      "you are normal\n"
     ]
    }
   ],
   "source": [
    "try:\n",
    "    a= float(input(\"enter the BMI number\"))\n",
    "    if a < 18.5:\n",
    "        print(\"you are underweight\")\n",
    "    elif 18.5< a < 25.0:\n",
    "        print(\"you are normal\")\n",
    "    elif 25.0<= a < 30.0:\n",
    "        print(\"you are overweight\")\n",
    "    else:\n",
    "        print(\"you are obese\")\n",
    "except Exception as e:\n",
    "    print(e)"
   ]
  },
  {
   "cell_type": "markdown",
   "id": "e44ae316-30a3-4946-9055-9c82992d476f",
   "metadata": {},
   "source": [
    "24. Create a program that determines whether a given number is positive, negative, or zero using elif statements."
   ]
  },
  {
   "cell_type": "code",
   "execution_count": 2,
   "id": "e2281346-fb6a-4dfa-91fd-965182a8594d",
   "metadata": {},
   "outputs": [
    {
     "name": "stdin",
     "output_type": "stream",
     "text": [
      "enter the number 2\n"
     ]
    },
    {
     "name": "stdout",
     "output_type": "stream",
     "text": [
      "It is a positive number\n"
     ]
    }
   ],
   "source": [
    "try:\n",
    "    a= int(input(\"enter the number\"))\n",
    "    if a>0:\n",
    "        print(\"It is a positive number\")\n",
    "    elif a<0:\n",
    "        print(\"It is a negetive number\")\n",
    "    else:\n",
    "        print(\"It is a zero\")\n",
    "except Exception as e:\n",
    "    print(e)"
   ]
  },
  {
   "cell_type": "markdown",
   "id": "8463a1a5-3dff-4bd3-8ee7-6806a3a1df1e",
   "metadata": {},
   "source": [
    "25. Write a Python script to determine the type of a character (uppercase, lowercase, or special) using elif statements."
   ]
  },
  {
   "cell_type": "code",
   "execution_count": 3,
   "id": "f5f1a3d1-20ef-4f0a-ab91-2cb95cfb4714",
   "metadata": {},
   "outputs": [
    {
     "name": "stdin",
     "output_type": "stream",
     "text": [
      "Enter a character:  a\n"
     ]
    },
    {
     "name": "stdout",
     "output_type": "stream",
     "text": [
      "a is a lowercase letter.\n"
     ]
    }
   ],
   "source": [
    "a = input(\"Enter a character: \")\n",
    "\n",
    "if a.islower():\n",
    "    print(f\"{a} is a lowercase letter.\")\n",
    "elif a.isupper():\n",
    "    print(f\"{a} is an uppercase letter.\")\n",
    "elif not a.isalnum():\n",
    "    print(f\"{a} is a special character.\")\n",
    "else:\n",
    "    print(f\"{a} is something else (not a letter or special character).\")\n",
    "    "
   ]
  },
  {
   "cell_type": "markdown",
   "id": "6917021a-4df2-4a55-9e4a-2846ac8dd31a",
   "metadata": {},
   "source": [
    "26. Implement a program to calculate the discounted price based on different purchase amounts using elif statements."
   ]
  },
  {
   "cell_type": "code",
   "execution_count": 5,
   "id": "7cfb4e95-483a-4ee6-a45a-04bfff9ff1b3",
   "metadata": {},
   "outputs": [
    {
     "name": "stdin",
     "output_type": "stream",
     "text": [
      "enter the price 200\n"
     ]
    },
    {
     "name": "stdout",
     "output_type": "stream",
     "text": [
      "you will get 20% discount and final price will be 160.0\n"
     ]
    }
   ],
   "source": [
    "try:\n",
    "    a=int(input(\"enter the price\"))\n",
    "    if a<100:\n",
    "        a=a*(90/100)\n",
    "        print(f\"you will get 10% discount and final price will be {a}\")\n",
    "    elif 100<a<500:\n",
    "        a=a*(80/100)\n",
    "        print(f\"you will get 20% discount and final price will be {a}\")\n",
    "    else:\n",
    "        a=a*(70/100)\n",
    "        print(f\"you will get 30% discount and final price will be {a}\")\n",
    "except Exception as e:\n",
    "    print(e)"
   ]
  },
  {
   "cell_type": "markdown",
   "id": "cf803141-a3a2-482f-b04a-55581018bf4e",
   "metadata": {},
   "source": [
    "27. Develop a program to calculate the electricity bill based on different consumption slabs using elif statements."
   ]
  },
  {
   "cell_type": "code",
   "execution_count": 2,
   "id": "569eaefa-c752-4da2-9507-90866e03bec1",
   "metadata": {},
   "outputs": [
    {
     "name": "stdin",
     "output_type": "stream",
     "text": [
      "enter the unit consumption: 160\n"
     ]
    },
    {
     "name": "stdout",
     "output_type": "stream",
     "text": [
      "your electric bill is: 19.0\n"
     ]
    }
   ],
   "source": [
    "try:\n",
    "    a=int(input(\"enter the unit consumption:\"))\n",
    "    slab1 = 0.10\n",
    "    slab2 = 0.15\n",
    "    slab3 = 0.20\n",
    "    bill=0\n",
    "    if a<=100:\n",
    "        bill = a * slab1\n",
    "    elif a<= 200:\n",
    "        bill = (100*slab1)+((a-100)*slab2)\n",
    "    else:\n",
    "        bill = (100*slab1)+(100*slab2)+((a-200)*slab3)\n",
    "    print(f\"your electric bill is: {bill}\")\n",
    "except Exception as e:\n",
    "    print(e)"
   ]
  },
  {
   "cell_type": "markdown",
   "id": "722720fa-ebbe-41fd-8e00-9349a901ba9b",
   "metadata": {},
   "source": [
    "28. Create a program to determine the type of quadrilateral based on its angles and sides using elif statements."
   ]
  },
  {
   "cell_type": "code",
   "execution_count": 5,
   "id": "39b265df-73e7-41ba-b867-32b6cc4f8661",
   "metadata": {},
   "outputs": [
    {
     "name": "stdin",
     "output_type": "stream",
     "text": [
      "Enter the first angle in degrees:  60\n",
      "Enter the second angle in degrees:  60\n",
      "Enter the third angle in degrees:  60\n",
      "Enter the fourth angle in degrees:  60\n",
      "Enter the length of the first side:  6\n",
      "Enter the length of the second side:  6\n",
      "Enter the length of the third side:  6\n",
      "Enter the length of the fourth side:  6\n"
     ]
    },
    {
     "name": "stdout",
     "output_type": "stream",
     "text": [
      "This is a rectangle.\n"
     ]
    }
   ],
   "source": [
    "try:\n",
    "    angle1 = int(input(\"Enter the first angle in degrees: \"))\n",
    "    angle2 = int(input(\"Enter the second angle in degrees: \"))\n",
    "    angle3 = int(input(\"Enter the third angle in degrees: \"))\n",
    "    angle4 = int(input(\"Enter the fourth angle in degrees: \"))\n",
    "\n",
    "    side1 = int(input(\"Enter the length of the first side: \"))\n",
    "    side2 = int(input(\"Enter the length of the second side: \"))\n",
    "    side3 = int(input(\"Enter the length of the third side: \"))\n",
    "    side4 = int(input(\"Enter the length of the fourth side: \"))\n",
    "\n",
    "    if angle1 == angle2 == angle3 == angle4 == 90:\n",
    "        print(\"This is a square.\")\n",
    "    elif angle1 == angle3 and angle2 == angle4 and side1 == side3 and side2 == side4:\n",
    "        print(\"This is a rectangle.\")\n",
    "    elif angle1 == angle2 and angle2 == angle3 and angle3 == angle4:\n",
    "        print(\"This is a rhombus.\")\n",
    "    elif side1 == side2 == side3 == side4:\n",
    "        print(\"This is a parallelogram.\")\n",
    "    else:\n",
    "        print(\"This is a general quadrilateral.\")\n",
    "except Exception as e:\n",
    "    print(e)\n"
   ]
  },
  {
   "cell_type": "markdown",
   "id": "ac5fee29-4e69-4844-8a91-cf7df199e02b",
   "metadata": {},
   "source": [
    "29. Write a Python script to determine the season based on a user-provided month using elif statements."
   ]
  },
  {
   "cell_type": "code",
   "execution_count": 2,
   "id": "4e7fab76-9e5e-417e-9384-84e86579f611",
   "metadata": {},
   "outputs": [
    {
     "name": "stdin",
     "output_type": "stream",
     "text": [
      "enter the month: march\n"
     ]
    },
    {
     "name": "stdout",
     "output_type": "stream",
     "text": [
      "This is Spring\n"
     ]
    }
   ],
   "source": [
    "try:\n",
    "    a=input(\"enter the month:\")\n",
    "    month = a.lower()\n",
    "    if month =='january' or month == 'february' or month == 'march':\n",
    "        print(\"This is Spring\")\n",
    "    elif month == 'april' or month == 'may' or month == 'june':\n",
    "        print(\"This is Summer\")\n",
    "    elif month == 'september' or month == 'october':\n",
    "        print(\"This is Autumn\")\n",
    "    elif month == 'november' or month == 'december':\n",
    "        print(\"This is Winter\")\n",
    "    else:\n",
    "        print(\"you entered wrong month\")\n",
    "except Exception as e:\n",
    "    print(e)"
   ]
  },
  {
   "cell_type": "markdown",
   "id": "f4c4ad36-ce3e-4820-be07-13ed4b776a9e",
   "metadata": {},
   "source": [
    "30. Implement a program to determine the type of a year (leap or common) and month (30 or 31 days) using elif statements."
   ]
  },
  {
   "cell_type": "code",
   "execution_count": 3,
   "id": "e50ddfcf-42e7-4d68-bd12-716587e7f89a",
   "metadata": {},
   "outputs": [
    {
     "name": "stdin",
     "output_type": "stream",
     "text": [
      "Enter a year:  2020\n",
      "Enter a month:  4\n"
     ]
    },
    {
     "name": "stdout",
     "output_type": "stream",
     "text": [
      "2020 is a leap year.\n",
      "Month 4 has 30 days.\n"
     ]
    }
   ],
   "source": [
    "try:\n",
    "    year = int(input(\"Enter a year: \"))\n",
    "    month = int(input(\"Enter a month: \"))\n",
    "\n",
    "    if (year % 4 == 0 and year % 100 != 0) or (year % 400 == 0):\n",
    "        year_type = \"leap\"\n",
    "    else:\n",
    "        year_type = \"common\"\n",
    "\n",
    "    if month == 2:\n",
    "        if year_type == \"leap\":\n",
    "            days = 29\n",
    "        else:\n",
    "            days = 28\n",
    "    elif month in [4, 6, 9, 11]:\n",
    "        days = 30\n",
    "    else:\n",
    "        days = 31\n",
    "\n",
    "    print(f\"{year} is a {year_type} year.\")\n",
    "    print(f\"Month {month} has {days} days.\")\n",
    "except Exception as e:\n",
    "    print(e)"
   ]
  },
  {
   "cell_type": "markdown",
   "id": "a9f18c40-8493-4394-9285-1d5374629a58",
   "metadata": {},
   "source": [
    "1. Write a Python program that checks if a given number is positive, negative, or zero."
   ]
  },
  {
   "cell_type": "code",
   "execution_count": 4,
   "id": "87a506c6-07da-49a4-a4e1-432f839e5034",
   "metadata": {},
   "outputs": [
    {
     "name": "stdin",
     "output_type": "stream",
     "text": [
      "enter the number 2\n"
     ]
    },
    {
     "name": "stdout",
     "output_type": "stream",
     "text": [
      "positive number\n"
     ]
    }
   ],
   "source": [
    "n= int(input(\"enter the number\"))\n",
    "if n>0:\n",
    "    print(\"positive number\")\n",
    "else:\n",
    "    print(\"negetive number\")"
   ]
  },
  {
   "cell_type": "markdown",
   "id": "4230e3d0-e71b-4569-88bd-4440bf1d1144",
   "metadata": {},
   "source": [
    "2. Create a program to determine if a person is eligible to vote based on their age."
   ]
  },
  {
   "cell_type": "code",
   "execution_count": 5,
   "id": "19ca2fb7-59f8-49cb-a0ce-cba22c46c058",
   "metadata": {},
   "outputs": [
    {
     "name": "stdin",
     "output_type": "stream",
     "text": [
      "please enter your age: 20\n"
     ]
    },
    {
     "name": "stdout",
     "output_type": "stream",
     "text": [
      "you are eligible for vote\n"
     ]
    }
   ],
   "source": [
    "age = int(input(\"please enter your age:\"))\n",
    "if age>=18:\n",
    "    print(\"you are eligible for vote\")\n",
    "else:\n",
    "    print(\"you are not eligible for vote\") "
   ]
  },
  {
   "cell_type": "markdown",
   "id": "e40756fc-9e98-4917-8399-7e8f6b7f438c",
   "metadata": {},
   "source": [
    "3. Write a program to find the maximum of two given numbers using conditional statements."
   ]
  },
  {
   "cell_type": "code",
   "execution_count": 1,
   "id": "498f6771-2f10-418f-90ac-b4ae42864173",
   "metadata": {},
   "outputs": [
    {
     "name": "stdin",
     "output_type": "stream",
     "text": [
      "enter the number a: 5\n",
      "enter the number b: 6\n"
     ]
    },
    {
     "name": "stdout",
     "output_type": "stream",
     "text": [
      "maximum number is b: 6\n"
     ]
    }
   ],
   "source": [
    "a=int(input(\"enter the number a:\"))\n",
    "b=int(input(\"enter the number b:\"))\n",
    "if a>b:\n",
    "    print(\"maximum number is a:\",a)\n",
    "else:\n",
    "    print(\"maximum number is b:\",b)"
   ]
  },
  {
   "cell_type": "markdown",
   "id": "a16c7124-91f7-4490-bce8-ef22e9d34323",
   "metadata": {},
   "source": [
    "4. Develop a program that calculates the grade of a student based on their exam score."
   ]
  },
  {
   "cell_type": "code",
   "execution_count": 2,
   "id": "e418bd23-fdda-454b-b22f-4f252fe872dd",
   "metadata": {},
   "outputs": [
    {
     "name": "stdin",
     "output_type": "stream",
     "text": [
      "enter the number 95\n"
     ]
    },
    {
     "name": "stdout",
     "output_type": "stream",
     "text": [
      "A+ grade\n"
     ]
    }
   ],
   "source": [
    "a= int(input(\"enter the number\"))\n",
    "if a >= 90:\n",
    "    print(\"A+ grade\")\n",
    "elif a >=75:\n",
    "    print(\"A grade\")\n",
    "elif a >=50:\n",
    "    print(\"B grade\")\n",
    "else:\n",
    "    print(\"C grade\")"
   ]
  },
  {
   "cell_type": "markdown",
   "id": "98eb994f-c4a9-4ab9-837c-08b73665f807",
   "metadata": {},
   "source": [
    "5. Create a program that checks if a year is a leap year or not."
   ]
  },
  {
   "cell_type": "code",
   "execution_count": 3,
   "id": "0d11bfe9-12d4-4b26-95d4-166e83a612a8",
   "metadata": {},
   "outputs": [
    {
     "name": "stdin",
     "output_type": "stream",
     "text": [
      "enter the year: 2000\n"
     ]
    },
    {
     "name": "stdout",
     "output_type": "stream",
     "text": [
      "Leap year\n"
     ]
    }
   ],
   "source": [
    "year = int(input(\"enter the year:\"))\n",
    "if year%100 == 0:\n",
    "    if year%400 ==0:\n",
    "        print(\"Leap year\")\n",
    "    else:\n",
    "        print(\"not Leap year\")\n",
    "elif year%4==0:\n",
    "        print(\"Leap year\")\n",
    "else:\n",
    "    print(\"not Leap year\")"
   ]
  },
  {
   "cell_type": "markdown",
   "id": "54ddffd2-363f-4902-9f67-b1ae54a27f0c",
   "metadata": {},
   "source": [
    "6. Write a program to classify a triangle based on its sides' lengths."
   ]
  },
  {
   "cell_type": "code",
   "execution_count": 4,
   "id": "24d9e200-d9c0-455c-bcbb-a1a09cf11eee",
   "metadata": {},
   "outputs": [
    {
     "name": "stdin",
     "output_type": "stream",
     "text": [
      "enter the number 6\n",
      "enter the number 7\n",
      "enter the number 8\n"
     ]
    },
    {
     "name": "stdout",
     "output_type": "stream",
     "text": [
      "it is an scalene triangle\n"
     ]
    }
   ],
   "source": [
    "a= int(input(\"enter the number\"))\n",
    "b= int(input(\"enter the number\"))\n",
    "c= int(input(\"enter the number\"))\n",
    "if a+b>c or b+c>a or c+a>b:\n",
    "    if (a==b==c):\n",
    "        print(\"it is an equilateral triangle\")\n",
    "    elif a==b or b==c or c==a:\n",
    "        print(\"it is an isosceles triangle\")\n",
    "    elif a!=b!=c:\n",
    "        print(\"it is an scalene triangle\")\n",
    "else:\n",
    "    print(\"it's not a triangle\")"
   ]
  },
  {
   "cell_type": "markdown",
   "id": "8f59cff7-8d1c-4651-b4bd-71b8113febbf",
   "metadata": {},
   "source": [
    "7. Build a program that determines the largest of three given numbers."
   ]
  },
  {
   "cell_type": "code",
   "execution_count": 1,
   "id": "7b04a668-56d8-430a-9222-cb2b9b29fcec",
   "metadata": {},
   "outputs": [
    {
     "name": "stdin",
     "output_type": "stream",
     "text": [
      "enter the number 5\n",
      "enter the number 7\n",
      "enter the number 6\n"
     ]
    },
    {
     "name": "stdout",
     "output_type": "stream",
     "text": [
      "max number: 7\n"
     ]
    }
   ],
   "source": [
    "a= int(input(\"enter the number\"))\n",
    "b= int(input(\"enter the number\"))\n",
    "c= int(input(\"enter the number\"))\n",
    "if a > b:\n",
    "    if a > c:\n",
    "        print(\"max number:\",a)\n",
    "    else:\n",
    "        print(\"max number:\",c)\n",
    "elif b>a:\n",
    "    if b>c:\n",
    "        print(\"max number:\",b)\n",
    "    else:\n",
    "        print(\"max number:\",c)\n",
    "elif c>a:\n",
    "    if c>b:\n",
    "        print(\"max number:\",c)\n",
    "    else:\n",
    "         print(\"max number:\",b)"
   ]
  },
  {
   "cell_type": "markdown",
   "id": "8c40c129-757e-4f93-9da3-9d4dc2551a20",
   "metadata": {},
   "source": [
    "8. Develop a program that checks whether a character is a vowel or a consonant."
   ]
  },
  {
   "cell_type": "code",
   "execution_count": 2,
   "id": "3e7c35f5-3aaf-4154-9ea3-66f69576d1e1",
   "metadata": {},
   "outputs": [
    {
     "name": "stdin",
     "output_type": "stream",
     "text": [
      "enter a character: a\n"
     ]
    },
    {
     "name": "stdout",
     "output_type": "stream",
     "text": [
      "it is a vowel\n"
     ]
    }
   ],
   "source": [
    "n=input(\"enter a character:\")\n",
    "l='aeiouAEIOU'\n",
    "if n in l:\n",
    "    print(\"it is a vowel\")\n",
    "else:\n",
    "    print(\"it is not a vowel\")"
   ]
  },
  {
   "cell_type": "markdown",
   "id": "ef91b512-9c84-44e5-beac-7ac3852bb107",
   "metadata": {},
   "source": [
    "9. Create a program to calculate the total cost of a shopping cart based on discounts."
   ]
  },
  {
   "cell_type": "code",
   "execution_count": 4,
   "id": "31179deb-d98c-4cd7-a87b-e5b38f91292f",
   "metadata": {},
   "outputs": [
    {
     "name": "stdin",
     "output_type": "stream",
     "text": [
      "enter the total cost: 1500\n"
     ]
    },
    {
     "name": "stdout",
     "output_type": "stream",
     "text": [
      "your electric cost is: 1325.0\n"
     ]
    }
   ],
   "source": [
    "try:\n",
    "    a=int(input(\"enter the total cost:\"))\n",
    "    slab1 = 0.10\n",
    "    slab2 = 0.15\n",
    "    slab3 = 0.20\n",
    "    if a<=1000:\n",
    "        cost = a-(a * slab1)\n",
    "    elif a<= 2000:\n",
    "        cost = a-((1000*slab1)+((a-1000)*slab2))\n",
    "    else:\n",
    "        cost = a-((1000*slab1)+(1000*slab2)+((a-2000)*slab3))\n",
    "    print(f\"your shopping cost is: {cost}\")\n",
    "except Exception as e:\n",
    "    print(e)"
   ]
  },
  {
   "cell_type": "markdown",
   "id": "c7ff1c8e-2647-4015-8e4f-860f151f2cd8",
   "metadata": {},
   "source": [
    "10. Write a program that checks if a given number is even or odd."
   ]
  },
  {
   "cell_type": "code",
   "execution_count": 5,
   "id": "0e53689a-a812-4816-ae2a-8b4adb1d04df",
   "metadata": {},
   "outputs": [
    {
     "name": "stdin",
     "output_type": "stream",
     "text": [
      "enter the number 4\n"
     ]
    },
    {
     "name": "stdout",
     "output_type": "stream",
     "text": [
      "even number\n"
     ]
    }
   ],
   "source": [
    "n= int(input(\"enter the number\"))\n",
    "if n%2==0:\n",
    "    print(\"even number\")\n",
    "else:\n",
    "    print(\"odd number\")"
   ]
  },
  {
   "cell_type": "markdown",
   "id": "cf1d6a16-fc52-4b8b-a3d4-fc1f41bd18e7",
   "metadata": {},
   "source": [
    "11. Write a program that calculates the roots of a quadratic equation"
   ]
  },
  {
   "cell_type": "code",
   "execution_count": 6,
   "id": "b94c5ce6-c5bb-4e82-bd30-6866dde2e19b",
   "metadata": {},
   "outputs": [
    {
     "name": "stdin",
     "output_type": "stream",
     "text": [
      "Enter coefficient a:  8\n",
      "Enter coefficient b:  2\n",
      "Enter coefficient c:  1\n"
     ]
    },
    {
     "name": "stdout",
     "output_type": "stream",
     "text": [
      "Root 1: -0.125 + 0.33071891388307384i\n",
      "Root 2: -0.125 - 0.33071891388307384i\n"
     ]
    }
   ],
   "source": [
    "import math\n",
    "\n",
    "a = float(input(\"Enter coefficient a: \"))\n",
    "b = float(input(\"Enter coefficient b: \"))\n",
    "c = float(input(\"Enter coefficient c: \"))\n",
    "\n",
    "d = b**2 - 4*a*c\n",
    "\n",
    "if d > 0:\n",
    "    root1 = (-b + math.sqrt(d)) / (2*a)\n",
    "    root2 = (-b - math.sqrt(d)) / (2*a)\n",
    "    print(f\"Root 1: {root1}\")\n",
    "    print(f\"Root 2: {root2}\")\n",
    "elif d == 0:\n",
    "    root = -b / (2*a)\n",
    "    print(f\"Root: {root}\")\n",
    "else:\n",
    "    real_part = -b / (2*a)\n",
    "    imaginary_part = math.sqrt(abs(d)) / (2*a)\n",
    "    print(f\"Root 1: {real_part} + {imaginary_part}i\")\n",
    "    print(f\"Root 2: {real_part} - {imaginary_part}i\")"
   ]
  },
  {
   "cell_type": "markdown",
   "id": "d6b06da2-925a-44c7-a529-afd45c50e857",
   "metadata": {},
   "source": [
    "12. Create a program that determines the day of the week based on the day number (1-7)."
   ]
  },
  {
   "cell_type": "code",
   "execution_count": 1,
   "id": "d16fdc55-7298-4594-acd8-ec561ec18cdf",
   "metadata": {},
   "outputs": [
    {
     "name": "stdin",
     "output_type": "stream",
     "text": [
      "Enter a number (1-7) to determine the day of the week:  3\n"
     ]
    },
    {
     "name": "stdout",
     "output_type": "stream",
     "text": [
      "The day corresponding to the number 3 is Wednesday.\n"
     ]
    }
   ],
   "source": [
    "days = [\"Monday\", \"Tuesday\", \"Wednesday\", \"Thursday\", \"Friday\", \"Saturday\", \"Sunday\"]\n",
    "\n",
    "day_number = int(input(\"Enter a number (1-7) to determine the day of the week: \"))\n",
    "\n",
    "if 1 <= day_number <= 7:\n",
    "    day = days[day_number - 1]\n",
    "    print(f\"The day corresponding to the number {day_number} is {day}.\")\n",
    "else:\n",
    "    print(\"Invalid input.\")"
   ]
  },
  {
   "cell_type": "markdown",
   "id": "ae33bbd6-bd1f-49cb-8761-8097d87dcee8",
   "metadata": {},
   "source": [
    "13. Develop a program that calculates the factorial of a given number using recursion."
   ]
  },
  {
   "cell_type": "code",
   "execution_count": 2,
   "id": "df0940b3-9380-4d29-9b70-23cffc1f7e56",
   "metadata": {},
   "outputs": [],
   "source": [
    "def facto (n):\n",
    "    if n==0:\n",
    "        return 1\n",
    "    else:\n",
    "        return n*facto(n-1)"
   ]
  },
  {
   "cell_type": "code",
   "execution_count": 3,
   "id": "8835ccb1-b37c-4d73-a6d6-7f38549db90c",
   "metadata": {},
   "outputs": [
    {
     "data": {
      "text/plain": [
       "120"
      ]
     },
     "execution_count": 3,
     "metadata": {},
     "output_type": "execute_result"
    }
   ],
   "source": [
    "facto(5)"
   ]
  },
  {
   "cell_type": "markdown",
   "id": "6a203146-1e67-452f-b0b1-e1c22bf8cbf9",
   "metadata": {},
   "source": [
    "14. Write a program to find the largest among three numbers without using the `max()` function."
   ]
  },
  {
   "cell_type": "code",
   "execution_count": 4,
   "id": "3ecbc2a7-51af-43b9-a3b4-f58423b833b6",
   "metadata": {},
   "outputs": [
    {
     "name": "stdin",
     "output_type": "stream",
     "text": [
      "enter the number 10\n",
      "enter the number 30\n",
      "enter the number 25\n"
     ]
    },
    {
     "name": "stdout",
     "output_type": "stream",
     "text": [
      "max number: 30\n"
     ]
    }
   ],
   "source": [
    "a= int(input(\"enter the number\"))\n",
    "b= int(input(\"enter the number\"))\n",
    "c= int(input(\"enter the number\"))\n",
    "if a > b:\n",
    "    if a > c:\n",
    "        print(\"max number:\",a)\n",
    "    else:\n",
    "        print(\"max number:\",c)\n",
    "elif b>a:\n",
    "    if b>c:\n",
    "        print(\"max number:\",b)\n",
    "    else:\n",
    "        print(\"max number:\",c)\n",
    "elif c>a:\n",
    "    if c>b:\n",
    "        print(\"max number:\",c)\n",
    "    else:\n",
    "         print(\"max number:\",b)\n"
   ]
  },
  {
   "cell_type": "markdown",
   "id": "f7a7cafb-4a65-4688-a67c-d7cf1d023afe",
   "metadata": {},
   "source": [
    "15. Create a program that simulates a basic ATM transaction menu."
   ]
  },
  {
   "cell_type": "code",
   "execution_count": 9,
   "id": "165c1612-c222-47df-8a9b-9bf99143c775",
   "metadata": {},
   "outputs": [
    {
     "name": "stdin",
     "output_type": "stream",
     "text": [
      "Please select an option (1/2/3/4):  2\n",
      "Enter the deposit amount: $ 1000\n"
     ]
    },
    {
     "name": "stdout",
     "output_type": "stream",
     "text": [
      "$1000.0 has been deposited. Your new balance is $11000.0\n"
     ]
    }
   ],
   "source": [
    "account_balance = 10000\n",
    "choice = int(input(\"Please select an option (1/2/3/4): \"))\n",
    "\n",
    "if choice == 1:\n",
    "    print(f\"Your account balance is ${account_balance}\")\n",
    "elif choice == 2:\n",
    "    deposit_amount = float(input(\"Enter the deposit amount: $\"))\n",
    "    if deposit_amount > 0:\n",
    "        account_balance += deposit_amount\n",
    "        print(f\"${deposit_amount} has been deposited. Your new balance is ${account_balance}\")\n",
    "    else:\n",
    "        print(\"Invalid deposit amount. Please enter a positive amount.\")\n",
    "elif choice == 3:\n",
    "    withdraw_amount = float(input(\"Enter the withdrawal amount: $\"))\n",
    "    if 0 < withdraw_amount <= account_balance:\n",
    "        account_balance -= withdraw_amount\n",
    "        print(f\"${withdraw_amount} has been withdrawn. Your new balance is ${account_balance}\")\n",
    "    elif withdraw_amount > account_balance:\n",
    "        print(\"Insufficient funds. Your account balance is not enough for this withdrawal.\")\n",
    "    else:\n",
    "        print(\"Invalid withdrawal amount. Please enter a positive amount.\")\n",
    "elif choice == 4:\n",
    "    print(\"Thank you for using the Basic ATM. Goodbye!\")\n",
    "else:\n",
    "    print(\"Invalid choice. Please select a valid option (1/2/3/4).\")"
   ]
  },
  {
   "cell_type": "markdown",
   "id": "e240adf0-d078-4ab7-a219-17ef9e041fd8",
   "metadata": {},
   "source": [
    "16. Build a program that checks if a given string is a palindrome or not."
   ]
  },
  {
   "cell_type": "code",
   "execution_count": 10,
   "id": "b9ee1a06-be55-4f04-b993-c5f1d5be156a",
   "metadata": {},
   "outputs": [
    {
     "name": "stdout",
     "output_type": "stream",
     "text": [
      "string is palindrome\n"
     ]
    }
   ],
   "source": [
    "n=\"madam\"\n",
    "p=n[::-1]\n",
    "if n == p:\n",
    "    print(\"string is palindrome\")\n",
    "else:\n",
    "    print(\"string is not palindrome\")"
   ]
  },
  {
   "cell_type": "markdown",
   "id": "c8f65531-8db8-4c62-ba68-105588e25164",
   "metadata": {},
   "source": [
    "17. Write a program that calculates the average of a list of numbers, excluding the smallest and largest values."
   ]
  },
  {
   "cell_type": "code",
   "execution_count": 4,
   "id": "7ef1e473-0b6b-4596-a13f-432986645cc9",
   "metadata": {},
   "outputs": [],
   "source": [
    "def avg_num(n):\n",
    "    min_num = min(n)\n",
    "    max_num = max(n)\n",
    "    total = 0\n",
    "    count = 0\n",
    "    if len(n) <3:\n",
    "        return \"Insufficient data to calculate the average\"\n",
    "    for i in n:\n",
    "        if i !=min_num and i !=max_num:\n",
    "            total =total+i\n",
    "            count =count +1\n",
    "    average = total/count\n",
    "    print(\"average of these numbers is :\")\n",
    "    return average\n",
    "    "
   ]
  },
  {
   "cell_type": "code",
   "execution_count": 5,
   "id": "4608f8cc-a7c7-4591-9651-2d06709b9178",
   "metadata": {},
   "outputs": [
    {
     "name": "stdout",
     "output_type": "stream",
     "text": [
      "average of these numbers is :\n"
     ]
    },
    {
     "data": {
      "text/plain": [
       "4.0"
      ]
     },
     "execution_count": 5,
     "metadata": {},
     "output_type": "execute_result"
    }
   ],
   "source": [
    "avg_num([2,3,4,5,6])"
   ]
  },
  {
   "cell_type": "markdown",
   "id": "54f0dc9a-c0b0-44b3-8933-2a4dc6b538b7",
   "metadata": {},
   "source": [
    "18. Develop a program that converts a given temperature from Celsius to Fahrenheit."
   ]
  },
  {
   "cell_type": "code",
   "execution_count": 1,
   "id": "7d200f42-2e8c-4442-b239-1b7ef968c357",
   "metadata": {},
   "outputs": [
    {
     "name": "stdin",
     "output_type": "stream",
     "text": [
      "Enter temperature in Celsius:  30\n"
     ]
    },
    {
     "name": "stdout",
     "output_type": "stream",
     "text": [
      "30.0 degrees Celsius is equal to 86.0 degrees Fahrenheit.\n"
     ]
    }
   ],
   "source": [
    "celsius = float(input(\"Enter temperature in Celsius: \"))\n",
    "if celsius < -273.15:\n",
    "    print(\"This temperature is below absolute zero.\")\n",
    "else:\n",
    "    fahrenheit = (celsius * 9/5) + 32\n",
    "    print(f\"{celsius} degrees Celsius is equal to {fahrenheit} degrees Fahrenheit.\")"
   ]
  },
  {
   "cell_type": "markdown",
   "id": "de5e2941-5033-40d8-afa9-f54a9d1756da",
   "metadata": {},
   "source": [
    "19. Create a program that simulates a basic calculator for addition, subtraction, multiplication, and division.19. Create a program that simulates a basic calculator for addition, subtraction, multiplication, and division."
   ]
  },
  {
   "cell_type": "code",
   "execution_count": 3,
   "id": "abd634d4-af6e-4916-afe7-c38d6a91808f",
   "metadata": {},
   "outputs": [
    {
     "name": "stdout",
     "output_type": "stream",
     "text": [
      "Select operation:\n",
      "1. Addition\n",
      "2. Subtraction\n",
      "3. Multiplication\n",
      "4. Division\n"
     ]
    },
    {
     "name": "stdin",
     "output_type": "stream",
     "text": [
      "Enter choice (1/2/3/4):  1\n",
      "Enter first number:  5\n",
      "Enter second number:  6\n"
     ]
    },
    {
     "name": "stdout",
     "output_type": "stream",
     "text": [
      "The result of addition is 11.0\n"
     ]
    }
   ],
   "source": [
    "print(\"Select operation:\")\n",
    "print(\"1. Addition\")\n",
    "print(\"2. Subtraction\")\n",
    "print(\"3. Multiplication\")\n",
    "print(\"4. Division\")\n",
    "\n",
    "choice = input(\"Enter choice (1/2/3/4): \")\n",
    "\n",
    "if choice in ('1', '2', '3', '4'):\n",
    "    num1 = float(input(\"Enter first number: \"))\n",
    "    num2 = float(input(\"Enter second number: \"))\n",
    "\n",
    "    if choice == '1':\n",
    "        result = num1 + num2\n",
    "        operation = \"addition\"\n",
    "    elif choice == '2':\n",
    "        result = num1 - num2\n",
    "        operation = \"subtraction\"\n",
    "    elif choice == '3':\n",
    "        result = num1 * num2\n",
    "        operation = \"multiplication\"\n",
    "    elif choice == '4':\n",
    "        if num2 == 0:\n",
    "            print(\"Division by zero is not allowed.\")\n",
    "        else:\n",
    "            result = num1 / num2\n",
    "            operation = \"division\"\n",
    "        \n",
    "    print(f\"The result of {operation} is {result}\")\n",
    "else:\n",
    "    print(\"Invalid input. Please enter a valid choice (1/2/3/4).\")"
   ]
  },
  {
   "cell_type": "markdown",
   "id": "7f9aed0a-9933-4f9f-96e8-a22cb30f4540",
   "metadata": {},
   "source": [
    "20. Write a program that determines the roots of a cubic equation using the Cardano formula."
   ]
  },
  {
   "cell_type": "code",
   "execution_count": null,
   "id": "edec79cf-a226-45ee-8594-88c3bde079dd",
   "metadata": {},
   "outputs": [],
   "source": [
    "import math\n",
    "a = float(input(\"Enter the coefficient a: \"))\n",
    "b = float(input(\"Enter the coefficient b: \"))\n",
    "c = float(input(\"Enter the coefficient c: \"))\n",
    "d = float(input(\"Enter the coefficient d: \"))\n",
    "\n",
    "\n",
    "def cubic_roots(a, b, c, d):\n",
    "    # Input coefficients of the cubic equation: ax^3 + bx^2 + cx + d = 0\n",
    "    p = c / a - (b ** 2) / (3 * a ** 2)\n",
    "    q = (2 * (b ** 3)) / (27 * (a ** 3)) - (b * c) / (3 * (a ** 2)) + d / a\n",
    "    discriminant = (q ** 2) / 4 + (p ** 3) / 27\n",
    "    \n",
    "    if discriminant > 0:\n",
    "        root1 = -2 * math.sqrt(q) * math.cos(1/3 * math.acos(-((q * 2) / math.sqrt((p ** 3) * 27)))) - b / (3 * a)\n",
    "        return [root1]\n",
    "    elif discriminant == 0:\n",
    "        root1 = -2 * (q / 2) ** (1/3) - b / (3 * a)\n",
    "        return [root1]\n",
    "    else:\n",
    "        # Three distinct real roots\n",
    "        r = math.sqrt(-(p ** 3) / 27)\n",
    "        theta = math.acos(-(q / 2) / r)\n",
    "        root1 = 2 * math.copysign(1, q) * math.sqrt(r) * math.cos(1/3 * theta) - b / (3 * a)\n",
    "        root2 = 2 * math.copysign(1, q) * math.sqrt(r) * math.cos(1/3 * (theta + 2 * math.pi)) - b / (3 * a)\n",
    "        root3 = 2 * math.copysign(1, q) * math.sqrt(r) * math.cos(1/3 * (theta + 4 * math.pi)) - b / (3 * a)\n",
    "        return [root1, root2, root3]\n",
    "roots = cubic_roots(a, b, c, d)\n",
    "\n",
    "print(\"The roots of the cubic equation are:\", roots)"
   ]
  },
  {
   "cell_type": "code",
   "execution_count": 4,
   "id": "710f738e-6d6f-4f31-b45e-ee353593531b",
   "metadata": {},
   "outputs": [
    {
     "name": "stdout",
     "output_type": "stream",
     "text": [
      "The roots of the cubic equation are: [-2.2802263863917833]\n"
     ]
    }
   ],
   "source": []
  },
  {
   "cell_type": "markdown",
   "id": "e7b58273-be7a-466e-be06-1757c93cda33",
   "metadata": {},
   "source": [
    "21. Create a program that calculates the income tax based on the user's income and tax brackets."
   ]
  },
  {
   "cell_type": "code",
   "execution_count": 2,
   "id": "a28707e4-3ca4-48a1-95e3-5e07a82227be",
   "metadata": {},
   "outputs": [
    {
     "name": "stdin",
     "output_type": "stream",
     "text": [
      "enter the total income: 1500000\n"
     ]
    },
    {
     "name": "stdout",
     "output_type": "stream",
     "text": [
      "your income tax is: 210000.0\n"
     ]
    }
   ],
   "source": [
    "try:\n",
    "    a=int(input(\"enter the total income:\"))\n",
    "    slab1 = 0.12\n",
    "    slab2 = 0.18\n",
    "    slab3 = 0.28\n",
    "    tax=0\n",
    "    if a<=1000000:\n",
    "        tax= a * slab1\n",
    "    elif a<= 2000000:\n",
    "        tax = (1000000*slab1)+((a-1000000)*slab2)\n",
    "    else:\n",
    "        tax = (1000000*slab1)+(1000000*slab2)+((a-2000000)*slab3)\n",
    "    print(f\"your income tax is: {tax}\")\n",
    "except Exception as e:\n",
    "    print(e)\n",
    "    "
   ]
  },
  {
   "cell_type": "markdown",
   "id": "878da2a3-579f-4e32-ba54-d7630feea25e",
   "metadata": {},
   "source": [
    "22. Write a program that simulates a rock-paper-scissors game against the computer."
   ]
  },
  {
   "cell_type": "code",
   "execution_count": 3,
   "id": "dc5644e5-c59a-47e7-8ed6-897223346331",
   "metadata": {},
   "outputs": [
    {
     "name": "stdin",
     "output_type": "stream",
     "text": [
      "Enter your choice (rock, paper, or scissors):  rock\n"
     ]
    },
    {
     "name": "stdout",
     "output_type": "stream",
     "text": [
      "Your choice: rock\n",
      "Computer's choice: scissors\n",
      "You win!\n"
     ]
    }
   ],
   "source": [
    "import random\n",
    "\n",
    "user_choice = input(\"Enter your choice (rock, paper, or scissors): \").lower()\n",
    "\n",
    "computer_choice = random.choice([\"rock\", \"paper\", \"scissors\"])\n",
    "\n",
    "if user_choice == computer_choice:\n",
    "    result = \"It's a tie!\"\n",
    "elif user_choice == \"rock\":\n",
    "    if computer_choice == \"scissors\":\n",
    "        result = \"You win!\"\n",
    "    else:\n",
    "        result = \"Computer wins!\"\n",
    "elif user_choice == \"paper\":\n",
    "    if computer_choice == \"rock\":\n",
    "        result = \"You win!\"\n",
    "    else:\n",
    "        result = \"Computer wins!\"\n",
    "elif user_choice == \"scissors\":\n",
    "    if computer_choice == \"paper\":\n",
    "        result = \"You win!\"\n",
    "    else:\n",
    "        result = \"Computer wins!\"\n",
    "else:\n",
    "    result = \"Invalid choice. Please choose rock, paper, or scissors.\"\n",
    "\n",
    "print(f\"Your choice: {user_choice}\")\n",
    "print(f\"Computer's choice: {computer_choice}\")\n",
    "print(result)\n"
   ]
  },
  {
   "cell_type": "markdown",
   "id": "eda7d82e-fb90-4e4a-82d8-68f8e1698699",
   "metadata": {},
   "source": [
    "23. Develop a program that generates a random password based on user preferences (length, complexity)."
   ]
  },
  {
   "cell_type": "code",
   "execution_count": 7,
   "id": "4b5c826e-1846-4003-ad9c-f5da3d580826",
   "metadata": {},
   "outputs": [
    {
     "name": "stdin",
     "output_type": "stream",
     "text": [
      "Enter the desired length of the password:  8\n",
      "Include uppercase letters? (y/n):  y\n",
      "Include digits? (y/n):  y\n",
      "Include special characters? (y/n):  y\n"
     ]
    },
    {
     "name": "stdout",
     "output_type": "stream",
     "text": [
      "Generated Password: 3wfcuP\\t\n"
     ]
    }
   ],
   "source": [
    "import string\n",
    "import secrets\n",
    "\n",
    "def generate_password(length, use_uppercase, use_digits, use_special_chars):\n",
    "    characters = string.ascii_lowercase\n",
    "    if use_uppercase:\n",
    "        characters += string.ascii_uppercase\n",
    "    if use_digits:\n",
    "        characters += string.digits\n",
    "    if use_special_chars:\n",
    "        characters += string.punctuation\n",
    "\n",
    "    if not characters:\n",
    "        return \"Complexity options are not selected.\"\n",
    "\n",
    "    password = ''.join(secrets.choice(characters) for _ in range(length))\n",
    "    return password\n",
    "\n",
    "length = int(input(\"Enter the desired length of the password: \"))\n",
    "use_uppercase = input(\"Include uppercase letters? (y/n): \").lower() == 'y'\n",
    "use_digits = input(\"Include digits? (y/n): \").lower() == 'y'\n",
    "use_special_chars = input(\"Include special characters? (y/n): \").lower() == 'y'\n",
    "\n",
    "password = generate_password(length, use_uppercase, use_digits, use_special_chars)\n",
    "print(\"Generated Password:\", password)"
   ]
  },
  {
   "cell_type": "markdown",
   "id": "3471847f-b815-4215-8536-ad6425805fc1",
   "metadata": {},
   "source": [
    "24. Create a program that implements a simple text-based adventure game with branching scenarios."
   ]
  },
  {
   "cell_type": "code",
   "execution_count": 4,
   "id": "5fb66518-3721-45a3-a232-0836a4450a43",
   "metadata": {},
   "outputs": [
    {
     "name": "stdout",
     "output_type": "stream",
     "text": [
      "Welcome to the Text-Based Adventure Game!\n",
      "You find yourself in a dark forest. You have two paths ahead.\n"
     ]
    },
    {
     "name": "stdin",
     "output_type": "stream",
     "text": [
      "Do you want to go left or right? (Type 'left' or 'right'):  right\n"
     ]
    },
    {
     "name": "stdout",
     "output_type": "stream",
     "text": [
      "You chose to go right. You come across a cave entrance.\n"
     ]
    },
    {
     "name": "stdin",
     "output_type": "stream",
     "text": [
      "Do you enter the cave or continue on the path? (Type 'enter' or 'path'):  path\n"
     ]
    },
    {
     "name": "stdout",
     "output_type": "stream",
     "text": [
      "You continue on the path and find yourself back at the beginning of the forest.\n"
     ]
    },
    {
     "name": "stdin",
     "output_type": "stream",
     "text": [
      "Do you want to go left or right? (Type 'left' or 'right'):  right\n"
     ]
    },
    {
     "name": "stdout",
     "output_type": "stream",
     "text": [
      "You chose to go right. You come across a cave entrance.\n"
     ]
    },
    {
     "name": "stdin",
     "output_type": "stream",
     "text": [
      "Do you enter the cave or continue on the path? (Type 'enter' or 'path'):  path\n"
     ]
    },
    {
     "name": "stdout",
     "output_type": "stream",
     "text": [
      "You continue on the path and find yourself back at the beginning of the forest.\n"
     ]
    },
    {
     "name": "stdin",
     "output_type": "stream",
     "text": [
      "Do you want to go left or right? (Type 'left' or 'right'):  left\n"
     ]
    },
    {
     "name": "stdout",
     "output_type": "stream",
     "text": [
      "You chose to go left. You encounter a river.\n"
     ]
    },
    {
     "name": "stdin",
     "output_type": "stream",
     "text": [
      "Do you swim across the river or look for a bridge? (Type 'swim' or 'bridge'):  bridge\n"
     ]
    },
    {
     "name": "stdout",
     "output_type": "stream",
     "text": [
      "You find a hidden bridge and cross the river safely.\n"
     ]
    },
    {
     "name": "stdin",
     "output_type": "stream",
     "text": [
      "Do you want to go left or right? (Type 'left' or 'right'):  l\n"
     ]
    },
    {
     "name": "stdout",
     "output_type": "stream",
     "text": [
      "Invalid choice. Try again.\n"
     ]
    },
    {
     "name": "stdin",
     "output_type": "stream",
     "text": [
      "Do you want to go left or right? (Type 'left' or 'right'):  right\n"
     ]
    },
    {
     "name": "stdout",
     "output_type": "stream",
     "text": [
      "You chose to go right. You come across a cave entrance.\n"
     ]
    },
    {
     "name": "stdin",
     "output_type": "stream",
     "text": [
      "Do you enter the cave or continue on the path? (Type 'enter' or 'path'):  enter\n"
     ]
    },
    {
     "name": "stdout",
     "output_type": "stream",
     "text": [
      "You enter the cave and find a treasure chest. You win the game!\n"
     ]
    }
   ],
   "source": [
    "import time\n",
    "\n",
    "def main():\n",
    "    print(\"Welcome to the Text-Based Adventure Game!\")\n",
    "    time.sleep(1)\n",
    "    print(\"You find yourself in a dark forest. You have two paths ahead.\")\n",
    "    time.sleep(1)\n",
    "    \n",
    "    while True:\n",
    "        choice = input(\"Do you want to go left or right? (Type 'left' or 'right'): \").lower()\n",
    "\n",
    "        if choice == \"left\":\n",
    "            print(\"You chose to go left. You encounter a river.\")\n",
    "            time.sleep(1)\n",
    "            river_choice = input(\"Do you swim across the river or look for a bridge? (Type 'swim' or 'bridge'): \").lower()\n",
    "            \n",
    "            if river_choice == \"swim\":\n",
    "                print(\"You swim across the river but are swept away by the current. Game over!\")\n",
    "                break\n",
    "            elif river_choice == \"bridge\":\n",
    "                print(\"You find a hidden bridge and cross the river safely.\")\n",
    "                continue\n",
    "            else:\n",
    "                print(\"Invalid choice. Try again.\")\n",
    "                \n",
    "        elif choice == \"right\":\n",
    "            print(\"You chose to go right. You come across a cave entrance.\")\n",
    "            time.sleep(1)\n",
    "            cave_choice = input(\"Do you enter the cave or continue on the path? (Type 'enter' or 'path'): \").lower()\n",
    "            \n",
    "            if cave_choice == \"enter\":\n",
    "                print(\"You enter the cave and find a treasure chest. You win the game!\")\n",
    "                break\n",
    "            elif cave_choice == \"path\":\n",
    "                print(\"You continue on the path and find yourself back at the beginning of the forest.\")\n",
    "                continue\n",
    "            else:\n",
    "                print(\"Invalid choice. Try again.\")\n",
    "                \n",
    "        else:\n",
    "            print(\"Invalid choice. Try again.\")\n",
    "\n",
    "if __name__ == \"__main__\":\n",
    "    main()"
   ]
  },
  {
   "cell_type": "markdown",
   "id": "4e238166-aa11-4f52-940b-65860091d2ac",
   "metadata": {},
   "source": [
    "25. Build a program that solves a linear equation for x, considering different cases."
   ]
  },
  {
   "cell_type": "code",
   "execution_count": 5,
   "id": "1205afc2-0d33-4d39-a9a4-9d70218c7344",
   "metadata": {},
   "outputs": [
    {
     "name": "stdin",
     "output_type": "stream",
     "text": [
      "Enter the coefficient 'a':  2\n",
      "Enter the constant 'b':  4\n"
     ]
    },
    {
     "name": "stdout",
     "output_type": "stream",
     "text": [
      "The solution for x is: x = -2.00\n"
     ]
    }
   ],
   "source": [
    "a = float(input(\"Enter the coefficient 'a': \"))\n",
    "b = float(input(\"Enter the constant 'b': \"))\n",
    "\n",
    "# Check different cases and solve for x\n",
    "if a == 0:\n",
    "    if b == 0:\n",
    "        print(\"Infinite solutions. Any value of x is a solution.\")\n",
    "    else:\n",
    "        print(\"No solution. The equation is inconsistent.\")\n",
    "else:\n",
    "    x = -b / a\n",
    "    print(f\"The solution for x is: x = {x:.2f}\")"
   ]
  },
  {
   "cell_type": "markdown",
   "id": "3f2d256d-cb59-423a-b4ce-ebd4df36d8a7",
   "metadata": {},
   "source": [
    "26. Write a program that simulates a basic quiz game with multiple-choice questions and scoring."
   ]
  },
  {
   "cell_type": "code",
   "execution_count": 1,
   "id": "b2bcae27-b461-479d-8e44-35b0f6f4f741",
   "metadata": {},
   "outputs": [
    {
     "name": "stdout",
     "output_type": "stream",
     "text": [
      "Welcome to the Quiz Game!\n",
      "Answer the following questions:\n",
      "\n",
      "Question 1: What is the capital of India?\n",
      "a) London\n",
      "b) Delhi\n",
      "c) Berlin\n",
      "d) Rome\n"
     ]
    },
    {
     "name": "stdin",
     "output_type": "stream",
     "text": [
      "Your answer (enter the letter):  b\n"
     ]
    },
    {
     "name": "stdout",
     "output_type": "stream",
     "text": [
      "Correct! You earn 1 point.\n",
      "\n",
      "Question 2: Which planet is known as the 'Red Planet'?\n",
      "a) Venus\n",
      "b) Mars\n",
      "c) Jupiter\n",
      "d) Saturn\n"
     ]
    },
    {
     "name": "stdin",
     "output_type": "stream",
     "text": [
      "Your answer (enter the letter):  b\n"
     ]
    },
    {
     "name": "stdout",
     "output_type": "stream",
     "text": [
      "Correct! You earn 1 point.\n",
      "\n",
      "Question 3: What is the largest mammal in the world?\n",
      "a) Elephant\n",
      "b) Giraffe\n",
      "c) Blue Whale\n",
      "d) Lion\n"
     ]
    },
    {
     "name": "stdin",
     "output_type": "stream",
     "text": [
      "Your answer (enter the letter):  c\n"
     ]
    },
    {
     "name": "stdout",
     "output_type": "stream",
     "text": [
      "Correct! You earn 1 point.\n",
      "\n",
      "Quiz completed! Your final score is: 3 out of 3\n"
     ]
    }
   ],
   "source": [
    "questions = [\n",
    "    {\n",
    "        'question': \"What is the capital of India?\",\n",
    "        'options': [\"a) London\", \"b) Delhi\", \"c) Berlin\", \"d) Rome\"],\n",
    "        'correct_answer': \"b\"\n",
    "    },\n",
    "    {\n",
    "        'question': \"Which planet is known as the 'Red Planet'?\",\n",
    "        'options': [\"a) Venus\", \"b) Mars\", \"c) Jupiter\", \"d) Saturn\"],\n",
    "        'correct_answer': \"b\"\n",
    "    },\n",
    "    {\n",
    "        'question': \"What is the largest mammal in the world?\",\n",
    "        'options': [\"a) Elephant\", \"b) Giraffe\", \"c) Blue Whale\", \"d) Lion\"],\n",
    "        'correct_answer': \"c\"\n",
    "    }\n",
    "]\n",
    "\n",
    "score = 0\n",
    "\n",
    "print(\"Welcome to the Quiz Game!\")\n",
    "print(\"Answer the following questions:\")\n",
    "\n",
    "# Iterate through the list of questions\n",
    "for i, question in enumerate(questions):\n",
    "    print(f\"\\nQuestion {i + 1}: {question['question']}\")\n",
    "    for option in question['options']:\n",
    "        print(option)\n",
    "    \n",
    "    player_answer = input(\"Your answer (enter the letter): \").lower()\n",
    "\n",
    "    if player_answer == question['correct_answer']:\n",
    "        print(\"Correct! You earn 1 point.\")\n",
    "        score += 1\n",
    "    else:\n",
    "        print(f\"Wrong! The correct answer is {question['correct_answer']}.\")\n",
    "\n",
    "# Display the player's final score\n",
    "print(\"\\nQuiz completed! Your final score is:\", score, \"out of\", len(questions))"
   ]
  },
  {
   "cell_type": "markdown",
   "id": "b52e589f-c262-4925-8805-ec552b5ca05b",
   "metadata": {},
   "source": [
    "27. Develop a program that determines whether a given year is a prime number or not."
   ]
  },
  {
   "cell_type": "code",
   "execution_count": 2,
   "id": "5190e330-59fc-4b12-a580-1f479b416545",
   "metadata": {},
   "outputs": [
    {
     "name": "stdin",
     "output_type": "stream",
     "text": [
      "Enter a year:  1937\n"
     ]
    },
    {
     "name": "stdout",
     "output_type": "stream",
     "text": [
      "1937 is not a prime year.\n"
     ]
    }
   ],
   "source": [
    "def is_prime(year):\n",
    "    if year <= 1:\n",
    "        return False\n",
    "    elif year <= 3:\n",
    "        return True\n",
    "    elif year % 2 == 0 or year % 3 == 0:\n",
    "        return False\n",
    "\n",
    "    i = 5\n",
    "    while i * i <= year:\n",
    "        if year % i == 0 or year % (i + 2) == 0:\n",
    "            return False\n",
    "        i += 6\n",
    "\n",
    "    return True\n",
    "\n",
    "year = int(input(\"Enter a year: \"))\n",
    "\n",
    "if is_prime(year):\n",
    "    print(year, \"is a prime year.\")\n",
    "else:\n",
    "    print(year, \"is not a prime year.\")"
   ]
  },
  {
   "cell_type": "markdown",
   "id": "57089b17-7628-43c9-a854-29bcb6901628",
   "metadata": {},
   "source": [
    "28. Create a program that sorts three numbers in ascending order using conditional statements."
   ]
  },
  {
   "cell_type": "code",
   "execution_count": 1,
   "id": "6318171a-37ff-48b6-98b6-15423a3c17fd",
   "metadata": {},
   "outputs": [
    {
     "name": "stdin",
     "output_type": "stream",
     "text": [
      "Enter the first number:  12.0\n",
      "Enter the second number:  14.0\n",
      "Enter the third number:  13.0\n"
     ]
    },
    {
     "name": "stdout",
     "output_type": "stream",
     "text": [
      "The numbers in ascending order are: 12.0 13.0 14.0\n"
     ]
    }
   ],
   "source": [
    "num1 = float(input(\"Enter the first number: \"))\n",
    "num2 = float(input(\"Enter the second number: \"))\n",
    "num3 = float(input(\"Enter the third number: \"))\n",
    "\n",
    "# Sort the numbers in ascending order\n",
    "if num1 <= num2 and num1 <= num3:\n",
    "    smallest = num1\n",
    "    if num2 <= num3:\n",
    "        middle = num2\n",
    "        largest = num3\n",
    "    else:\n",
    "        middle = num3\n",
    "        largest = num2\n",
    "elif num2 <= num1 and num2 <= num3:\n",
    "    smallest = num2\n",
    "    if num1 <= num3:\n",
    "        middle = num1\n",
    "        largest = num3\n",
    "    else:\n",
    "        middle = num3\n",
    "        largest = num1\n",
    "else:\n",
    "    smallest = num3\n",
    "    if num1 <= num2:\n",
    "        middle = num1\n",
    "        largest = num2\n",
    "    else:\n",
    "        middle = num2\n",
    "        largest = num1\n",
    "\n",
    "print(\"The numbers in ascending order are:\", smallest, middle, largest)"
   ]
  },
  {
   "cell_type": "markdown",
   "id": "4f621d08-2a02-4997-a6b6-406f41011f23",
   "metadata": {},
   "source": [
    "29. Build a program that determines the roots of a quartic equation using numerical methods."
   ]
  },
  {
   "cell_type": "code",
   "execution_count": 1,
   "id": "1aa10b92-1786-47ad-8b3d-2ae2e5fdfef3",
   "metadata": {},
   "outputs": [
    {
     "name": "stdin",
     "output_type": "stream",
     "text": [
      "Enter the coefficient 'a':  2\n",
      "Enter the coefficient 'b':  3\n",
      "Enter the coefficient 'c':  4\n",
      "Enter the coefficient 'd':  5\n",
      "Enter the constant 'e':  4\n"
     ]
    },
    {
     "name": "stdout",
     "output_type": "stream",
     "text": [
      "The roots are complex: root1 = (-0.75+0.7071067811865476j), root2 = (-0.75-0.7071067811865476j)\n"
     ]
    }
   ],
   "source": [
    "a = float(input(\"Enter the coefficient 'a': \"))\n",
    "b = float(input(\"Enter the coefficient 'b': \"))\n",
    "c = float(input(\"Enter the coefficient 'c': \"))\n",
    "d = float(input(\"Enter the coefficient 'd': \"))\n",
    "e = float(input(\"Enter the constant 'e': \"))\n",
    "\n",
    "# Calculate the discriminant\n",
    "discriminant = (c ** 2) - (4 * a * b)\n",
    "\n",
    "if discriminant > 0:\n",
    "    # Two real and distinct roots\n",
    "    x1 = (-b + (discriminant ** 0.5)) / (2 * a)\n",
    "    x2 = (-b - (discriminant ** 0.5)) / (2 * a)\n",
    "    print(f\"The roots are real and distinct: x1 = {x1}, x2 = {x2}\")\n",
    "elif discriminant == 0:\n",
    "    x1 = -b / (2 * a)\n",
    "    print(f\"The root is real and repeated: x1 = {x1}\")\n",
    "else:\n",
    "    real_part = -b / (2 * a)\n",
    "    imaginary_part = (abs(discriminant) ** 0.5) / (2 * a)\n",
    "    root1 = complex(real_part, imaginary_part)\n",
    "    root2 = complex(real_part, -imaginary_part)\n",
    "    print(f\"The roots are complex: root1 = {root1}, root2 = {root2}\")"
   ]
  },
  {
   "cell_type": "markdown",
   "id": "9a6a050d-c78a-46ed-b1d4-77a55f959468",
   "metadata": {},
   "source": [
    "30. Write a program that calculates the BMI (Body Mass Index) and provides health recommendations based on the user's input."
   ]
  },
  {
   "cell_type": "code",
   "execution_count": 2,
   "id": "7b0a33d9-8649-4ff1-a63f-ffa51b1df683",
   "metadata": {},
   "outputs": [
    {
     "name": "stdin",
     "output_type": "stream",
     "text": [
      "Enter your weight in kilograms:  72\n",
      "Enter your height in meters:  5.6\n"
     ]
    },
    {
     "name": "stdout",
     "output_type": "stream",
     "text": [
      "Your BMI is: 2.295918367346939\n",
      "You are underweight. You should consider gaining some weight for better health.\n"
     ]
    }
   ],
   "source": [
    "weight = float(input(\"Enter your weight in kilograms: \"))\n",
    "height = float(input(\"Enter your height in meters: \"))\n",
    "\n",
    "# Calculate BMI\n",
    "bmi = weight / (height ** 2)\n",
    "\n",
    "print(\"Your BMI is:\", bmi)\n",
    "\n",
    "# Provide health recommendations based on BMI\n",
    "if bmi < 18.5:\n",
    "    print(\"You are underweight. You should consider gaining some weight for better health.\")\n",
    "elif 18.5 <= bmi < 24.9:\n",
    "    print(\"Your BMI is in the healthy range. Keep maintaining a balanced diet and exercise.\")\n",
    "elif 25 <= bmi < 29.9:\n",
    "    print(\"You are overweight. Consider maintaining a healthier lifestyle and losing weight.\")\n",
    "else:\n",
    "    print(\"You are obese. It's important to consult with a healthcare professional for guidance.\")"
   ]
  },
  {
   "cell_type": "markdown",
   "id": "889a4a2f-23f3-48e4-b2d8-44552754c360",
   "metadata": {},
   "source": [
    "31. Create a program that validates a password based on complexity rules (length, characters, etc.)."
   ]
  },
  {
   "cell_type": "code",
   "execution_count": 1,
   "id": "72c618e8-b847-4391-a32d-b01993a8aed2",
   "metadata": {},
   "outputs": [
    {
     "name": "stdin",
     "output_type": "stream",
     "text": [
      "Enter your password:  Abc@1234\n"
     ]
    },
    {
     "name": "stdout",
     "output_type": "stream",
     "text": [
      "Password is valid and meets complexity requirements.\n"
     ]
    }
   ],
   "source": [
    "min_length = 8 \n",
    "special_characters = \"!@#$%^&*()_+-=[]{}|;:'\\\",.<>?/\"  # Special characters allowed\n",
    "\n",
    "password = input(\"Enter your password: \")\n",
    "\n",
    "has_upper = False\n",
    "has_lower = False\n",
    "has_digit = False\n",
    "has_special = False\n",
    "\n",
    "if len(password) < min_length:\n",
    "    print(\"Password is too short. It must be at least\", min_length, \"characters long.\")\n",
    "else:\n",
    "    for char in password:\n",
    "        if char.isupper():\n",
    "            has_upper = True\n",
    "        elif char.islower():\n",
    "            has_lower = True\n",
    "        elif char.isdigit():\n",
    "            has_digit = True\n",
    "        elif char in special_characters:\n",
    "            has_special = True\n",
    "\n",
    "    # Check if all complexity requirements are met\n",
    "    if has_upper and has_lower and has_digit and has_special:\n",
    "        print(\"Password is valid and meets complexity requirements.\")\n",
    "    else:\n",
    "        print(\"Password does not meet complexity requirements. It should include at least one uppercase letter, one lowercase letter, one digit, and one special character from\", special_characters)"
   ]
  },
  {
   "cell_type": "markdown",
   "id": "34f8f302-7f6c-4bcb-9513-9c1219ee1d3b",
   "metadata": {},
   "source": [
    "32. Develop a program that performs matrix addition and subtraction based on user input."
   ]
  },
  {
   "cell_type": "code",
   "execution_count": 8,
   "id": "805b44b8-9a75-4a7f-8870-dadaa36f4128",
   "metadata": {},
   "outputs": [
    {
     "name": "stdout",
     "output_type": "stream",
     "text": [
      "Enter the first matrix:\n"
     ]
    },
    {
     "name": "stdin",
     "output_type": "stream",
     "text": [
      "Enter the number of rows:  3\n",
      "Enter the number of columns:  3\n",
      "Enter 3 values for row 1:  2\n",
      "Enter 3 values for row 2:  3\n",
      "Enter 3 values for row 3:  4\n"
     ]
    },
    {
     "name": "stdout",
     "output_type": "stream",
     "text": [
      "Enter the second matrix:\n"
     ]
    },
    {
     "name": "stdin",
     "output_type": "stream",
     "text": [
      "Enter the number of rows:  3\n",
      "Enter the number of columns:  3\n",
      "Enter 3 values for row 1:  4\n",
      "Enter 3 values for row 2:  5\n",
      "Enter 3 values for row 3:  6\n"
     ]
    }
   ],
   "source": [
    "print(\"Enter the first matrix:\")\n",
    "matrix1 = input_matrix()\n",
    "print(\"Enter the second matrix:\")\n",
    "matrix2 = input_matrix()\n",
    "\n",
    "def input_matrix():\n",
    "    rows = int(input(\"Enter the number of rows: \"))\n",
    "    cols = int(input(\"Enter the number of columns: \"))\n",
    "    matrix = []\n",
    "    for i in range(rows):\n",
    "        row = [float(x) for x in input(f\"Enter {cols} values for row {i + 1}: \").split()]\n",
    "        matrix.append(row)\n",
    "    return matrix\n",
    "\n",
    "def add_matrices(matrix1, matrix2):\n",
    "    result = []\n",
    "    for i in range(len(matrix1)):\n",
    "        row = []\n",
    "        for j in range(len(matrix1)):\n",
    "            row.append(matrix1[i][j] + matrix2[i][j])\n",
    "        result.append(row)\n",
    "    return result\n",
    "\n",
    "def subtract_matrices(matrix1, matrix2):\n",
    "    result = []\n",
    "    for i in range(len(matrix1)):\n",
    "        row = []\n",
    "        for j in range(len(matrix1)):\n",
    "            row.append(matrix1[i][j] - matrix2[i][j])\n",
    "        result.append(row)\n",
    "    return result\n"
   ]
  },
  {
   "cell_type": "code",
   "execution_count": 10,
   "id": "a06404a1-d1eb-43bd-a477-64ed7eafd874",
   "metadata": {},
   "outputs": [
    {
     "ename": "IndexError",
     "evalue": "list index out of range",
     "output_type": "error",
     "traceback": [
      "\u001b[0;31m---------------------------------------------------------------------------\u001b[0m",
      "\u001b[0;31mIndexError\u001b[0m                                Traceback (most recent call last)",
      "Cell \u001b[0;32mIn[10], line 1\u001b[0m\n\u001b[0;32m----> 1\u001b[0m result_add \u001b[38;5;241m=\u001b[39m \u001b[43madd_matrices\u001b[49m\u001b[43m(\u001b[49m\u001b[43mmatrix1\u001b[49m\u001b[43m,\u001b[49m\u001b[43m \u001b[49m\u001b[43mmatrix2\u001b[49m\u001b[43m)\u001b[49m\n\u001b[1;32m      2\u001b[0m result_subtract \u001b[38;5;241m=\u001b[39m subtract_matrices (matrix1, matrix2)\n",
      "Cell \u001b[0;32mIn[8], line 20\u001b[0m, in \u001b[0;36madd_matrices\u001b[0;34m(matrix1, matrix2)\u001b[0m\n\u001b[1;32m     18\u001b[0m     row \u001b[38;5;241m=\u001b[39m []\n\u001b[1;32m     19\u001b[0m     \u001b[38;5;28;01mfor\u001b[39;00m j \u001b[38;5;129;01min\u001b[39;00m \u001b[38;5;28mrange\u001b[39m(\u001b[38;5;28mlen\u001b[39m(matrix1)):\n\u001b[0;32m---> 20\u001b[0m         row\u001b[38;5;241m.\u001b[39mappend(\u001b[43mmatrix1\u001b[49m\u001b[43m[\u001b[49m\u001b[43mi\u001b[49m\u001b[43m]\u001b[49m\u001b[43m[\u001b[49m\u001b[43mj\u001b[49m\u001b[43m]\u001b[49m \u001b[38;5;241m+\u001b[39m matrix2[i][j])\n\u001b[1;32m     21\u001b[0m     result\u001b[38;5;241m.\u001b[39mappend(row)\n\u001b[1;32m     22\u001b[0m \u001b[38;5;28;01mreturn\u001b[39;00m result\n",
      "\u001b[0;31mIndexError\u001b[0m: list index out of range"
     ]
    }
   ],
   "source": [
    "result_add = add_matrices(matrix1, matrix2)\n",
    "result_subtract = subtract_matrices (matrix1, matrix2)"
   ]
  },
  {
   "cell_type": "markdown",
   "id": "fa5368bc-4444-4b70-8245-e03f88419c6a",
   "metadata": {},
   "source": [
    "33. Write a program that calculates the greatest common divisor (GCD) of two numbers using the Euclidean algorithm."
   ]
  },
  {
   "cell_type": "code",
   "execution_count": 1,
   "id": "3df88bf5-036f-4d52-afff-2869ff7dcd77",
   "metadata": {},
   "outputs": [
    {
     "name": "stdin",
     "output_type": "stream",
     "text": [
      "Enter the first number:  4\n",
      "Enter the second number:  12\n"
     ]
    },
    {
     "name": "stdout",
     "output_type": "stream",
     "text": [
      "The GCD of 4 and 12 is 4.\n"
     ]
    }
   ],
   "source": [
    "def euclidean_gcd(a, b):\n",
    "    while b:\n",
    "        a, b = b, a % b\n",
    "    return a\n",
    "\n",
    "num1 = int(input(\"Enter the first number: \"))\n",
    "num2 = int(input(\"Enter the second number: \"))\n",
    "\n",
    "gcd = euclidean_gcd(num1, num2)\n",
    "\n",
    "# Print the result\n",
    "print(f\"The GCD of {num1} and {num2} is {gcd}.\")\n"
   ]
  },
  {
   "cell_type": "markdown",
   "id": "4ca14a13-c34a-4cd4-b9ac-297f4b8f945c",
   "metadata": {},
   "source": [
    "34. Build a program that performs matrix multiplication using nested loops and conditional statements."
   ]
  },
  {
   "cell_type": "code",
   "execution_count": 5,
   "id": "ea567f29-7cb4-461c-9c00-7f147f5aa314",
   "metadata": {},
   "outputs": [
    {
     "name": "stdin",
     "output_type": "stream",
     "text": [
      "Enter the number of rows for the first matrix:  3\n",
      "Enter the number of columns for the first matrix:  3\n",
      "Enter the number of rows for the second matrix:  3\n",
      "Enter the number of columns for the second matrix:  3\n"
     ]
    },
    {
     "name": "stdout",
     "output_type": "stream",
     "text": [
      "Enter the first matrix:\n"
     ]
    },
    {
     "name": "stdin",
     "output_type": "stream",
     "text": [
      "Enter 3 values for row 1:  1\n",
      "Enter 3 values for row 2:  2\n",
      "Enter 3 values for row 3:  3\n"
     ]
    },
    {
     "name": "stdout",
     "output_type": "stream",
     "text": [
      "Enter the second matrix:\n"
     ]
    },
    {
     "name": "stdin",
     "output_type": "stream",
     "text": [
      "Enter 3 values for row 1:  4\n",
      "Enter 3 values for row 2:  5\n",
      "Enter 3 values for row 3:  6\n"
     ]
    },
    {
     "name": "stdout",
     "output_type": "stream",
     "text": [
      "Matrix dimensions are not compatible for multiplication.\n"
     ]
    }
   ],
   "source": [
    "def input_matrix(rows, cols):\n",
    "    matrix = []\n",
    "    for i in range(rows):\n",
    "        row = [float(x) for x in input(f\"Enter {cols} values for row {i + 1}: \").split()]\n",
    "        matrix.append(row)\n",
    "    return matrix\n",
    "\n",
    "# Function to print a matrix\n",
    "def print_matrix(matrix):\n",
    "    for row in matrix:\n",
    "        print(row)\n",
    "\n",
    "def multiply_matrices(matrix1, matrix2):\n",
    "    if len(matrix1[0]) != len(matrix2):\n",
    "        return None  \n",
    "\n",
    "    result = []\n",
    "    for i in range(len(matrix1)):\n",
    "        row = []\n",
    "        for j in range(len(matrix2)):\n",
    "            element = 0\n",
    "            for k in range(len(matrix2)):\n",
    "                element += matrix1[i][k] * matrix2[k][j]\n",
    "            row.append(element)\n",
    "        result.append(row)\n",
    "    return result\n",
    "\n",
    "# Get dimensions for the first matrix\n",
    "rows1 = int(input(\"Enter the number of rows for the first matrix: \"))\n",
    "cols1 = int(input(\"Enter the number of columns for the first matrix: \"))\n",
    "\n",
    "# Get dimensions for the second matrix\n",
    "rows2 = int(input(\"Enter the number of rows for the second matrix: \"))\n",
    "cols2 = int(input(\"Enter the number of columns for the second matrix: \"))\n",
    "\n",
    "# Input the first matrix\n",
    "print(\"Enter the first matrix:\")\n",
    "matrix1 = input_matrix(rows1, cols1)\n",
    "\n",
    "# Input the second matrix\n",
    "print(\"Enter the second matrix:\")\n",
    "matrix2 = input_matrix(rows2, cols2)\n",
    "\n",
    "# Perform matrix multiplication and print the result\n",
    "result = multiply_matrices(matrix1, matrix2)\n",
    "\n",
    "if result:\n",
    "    print(\"Result of matrix multiplication:\")\n",
    "    print_matrix(result)\n",
    "else:\n",
    "    print(\"Matrix dimensions are not compatible for multiplication.\")"
   ]
  },
  {
   "cell_type": "markdown",
   "id": "184a6811-eb58-4e1a-b2be-7ba070e3df82",
   "metadata": {},
   "source": [
    "36. Write a program that generates Fibonacci numbers up to a specified term using iterative methods."
   ]
  },
  {
   "cell_type": "code",
   "execution_count": 6,
   "id": "16ce5df8-eb0f-40b3-bd82-dd745efc5644",
   "metadata": {},
   "outputs": [
    {
     "name": "stdin",
     "output_type": "stream",
     "text": [
      "Enter the number of Fibonacci numbers to generate:  7\n"
     ]
    },
    {
     "name": "stdout",
     "output_type": "stream",
     "text": [
      "Fibonacci numbers up to term 7 are:\n",
      "[0, 1, 1, 2, 3, 5, 8]\n"
     ]
    }
   ],
   "source": [
    "def generate_fibonacci(n):\n",
    "    fib_sequence = []\n",
    "    a, b = 0, 1\n",
    "    \n",
    "    if n <= 0:\n",
    "        return fib_sequence\n",
    "    \n",
    "    if n == 1:\n",
    "        fib_sequence.append(a)\n",
    "        return fib_sequence\n",
    "    \n",
    "    fib_sequence.append(a)\n",
    "    fib_sequence.append(b)\n",
    "    \n",
    "    while len(fib_sequence) < n:\n",
    "        next_num = a + b\n",
    "        fib_sequence.append(next_num)\n",
    "        a, b = b, next_num\n",
    "        \n",
    "    return fib_sequence\n",
    "\n",
    "n = int(input(\"Enter the number of Fibonacci numbers to generate: \"))\n",
    "\n",
    "# Generate and print the Fibonacci numbers\n",
    "fibonacci_sequence = generate_fibonacci(n)\n",
    "print(\"Fibonacci numbers up to term\", n, \"are:\")\n",
    "print(fibonacci_sequence)"
   ]
  },
  {
   "cell_type": "markdown",
   "id": "108b7a86-dea8-4bbe-be59-eacc22da15c1",
   "metadata": {},
   "source": [
    "37. Develop a program that calculates the nth term of the Fibonacci sequence using memoization."
   ]
  },
  {
   "cell_type": "code",
   "execution_count": 7,
   "id": "e4a2dd39-0e0c-4908-8316-3b207a0010b2",
   "metadata": {},
   "outputs": [
    {
     "name": "stdin",
     "output_type": "stream",
     "text": [
      "Enter the value of n:  7\n"
     ]
    },
    {
     "name": "stdout",
     "output_type": "stream",
     "text": [
      "The 7th term of the Fibonacci sequence is 13.\n"
     ]
    }
   ],
   "source": [
    "fibonacci_cache = {}\n",
    "\n",
    "def fibonacci(n):\n",
    "    if n in fibonacci_cache:\n",
    "        return fibonacci_cache[n]\n",
    "\n",
    "    if n <= 1:\n",
    "        result = n\n",
    "    else:\n",
    "        result = fibonacci(n - 1) + fibonacci(n - 2)\n",
    "\n",
    "    fibonacci_cache[n] = result\n",
    "    return result\n",
    "\n",
    "# Get the value of n from the user\n",
    "n = int(input(\"Enter the value of n: \"))\n",
    "\n",
    "if n < 0:\n",
    "    print(\"Fibonacci sequence is defined for non-negative integers.\")\n",
    "else:\n",
    "    nth_term = fibonacci(n)\n",
    "    print(f\"The {n}th term of the Fibonacci sequence is {nth_term}.\")"
   ]
  },
  {
   "cell_type": "markdown",
   "id": "9c092b75-cb13-4baf-b4fd-2f9061d8f34d",
   "metadata": {},
   "source": [
    "38. Create a program that generates a calendar for a given month and year using conditional statements."
   ]
  },
  {
   "cell_type": "code",
   "execution_count": 8,
   "id": "b7996453-7b6d-47cd-b695-7923c14916b6",
   "metadata": {},
   "outputs": [
    {
     "name": "stdin",
     "output_type": "stream",
     "text": [
      "Enter the year (e.g., 2023):  2012\n",
      "Enter the month (1-12):  8\n"
     ]
    },
    {
     "name": "stdout",
     "output_type": "stream",
     "text": [
      "Calendar for August 2012:\n",
      "\n",
      "    August 2012\n",
      "Mo Tu We Th Fr Sa Su\n",
      "       1  2  3  4  5\n",
      " 6  7  8  9 10 11 12\n",
      "13 14 15 16 17 18 19\n",
      "20 21 22 23 24 25 26\n",
      "27 28 29 30 31\n",
      "\n"
     ]
    }
   ],
   "source": [
    "import calendar\n",
    "\n",
    "# Get user input for the month and year\n",
    "year = int(input(\"Enter the year (e.g., 2023): \"))\n",
    "month = int(input(\"Enter the month (1-12): \"))\n",
    "\n",
    "# Validate the input\n",
    "if month < 1 or month > 12:\n",
    "    print(\"Invalid month. Please enter a month from 1 to 12.\")\n",
    "else:\n",
    "    # Generate and print the calendar for the specified month and year\n",
    "    cal = calendar.month(year, month)\n",
    "    print(f\"Calendar for {calendar.month_name[month]} {year}:\\n\")\n",
    "    print(cal)"
   ]
  },
  {
   "cell_type": "markdown",
   "id": "f24e3ca2-b51b-4bab-b08b-1fecc160f6f9",
   "metadata": {},
   "source": [
    "40. Write a program that generates the prime factors of a given number using trial division."
   ]
  },
  {
   "cell_type": "code",
   "execution_count": 12,
   "id": "28943afc-95f9-4c6b-997f-41a41a8c08a7",
   "metadata": {},
   "outputs": [
    {
     "name": "stdin",
     "output_type": "stream",
     "text": [
      "Enter a number to find its prime factors:  30\n"
     ]
    },
    {
     "name": "stdout",
     "output_type": "stream",
     "text": [
      "Prime factors of 30 are: [2, 3, 5]\n"
     ]
    }
   ],
   "source": [
    "def prime_factors(n):\n",
    "    factors = []\n",
    "    divisor = 2\n",
    "\n",
    "    while divisor <= n:\n",
    "        if n % divisor == 0:\n",
    "            factors.append(divisor)\n",
    "            n //= divisor\n",
    "        else:\n",
    "            divisor += 1\n",
    "\n",
    "    return factors\n",
    "\n",
    "# Get the number from the user\n",
    "number = int(input(\"Enter a number to find its prime factors: \"))\n",
    "\n",
    "if number <= 1:\n",
    "    print(\"Prime factors are not defined for numbers less than or equal to 1.\")\n",
    "else:\n",
    "    factors = prime_factors(number)\n",
    "    \n",
    "    if len(factors) == 0:\n",
    "        print(f\"{number} is a prime number, and it has no prime factors.\")\n",
    "    else:\n",
    "        print(f\"Prime factors of {number} are: {factors}\")"
   ]
  },
  {
   "cell_type": "code",
   "execution_count": null,
   "id": "4a611074-cb49-4f21-adec-3c2f5447cad9",
   "metadata": {},
   "outputs": [],
   "source": []
  }
 ],
 "metadata": {
  "kernelspec": {
   "display_name": "Python 3 (ipykernel)",
   "language": "python",
   "name": "python3"
  },
  "language_info": {
   "codemirror_mode": {
    "name": "ipython",
    "version": 3
   },
   "file_extension": ".py",
   "mimetype": "text/x-python",
   "name": "python",
   "nbconvert_exporter": "python",
   "pygments_lexer": "ipython3",
   "version": "3.10.8"
  }
 },
 "nbformat": 4,
 "nbformat_minor": 5
}
